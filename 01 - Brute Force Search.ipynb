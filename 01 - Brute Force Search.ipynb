{
 "cells": [
  {
   "cell_type": "markdown",
   "metadata": {},
   "source": [
    "# Source Code"
   ]
  },
  {
   "cell_type": "markdown",
   "metadata": {},
   "source": [
    "### Import libraries"
   ]
  },
  {
   "cell_type": "code",
   "execution_count": 1,
   "metadata": {},
   "outputs": [],
   "source": [
    "import os\n",
    "import time\n",
    "from tqdm import tqdm"
   ]
  },
  {
   "cell_type": "code",
   "execution_count": 2,
   "metadata": {},
   "outputs": [],
   "source": [
    "W: int #capable weight\n",
    "m: int #number of classes\n",
    "w = [] #weight of each item\n",
    "v = [] #value of each item\n",
    "c = [] #class of each item"
   ]
  },
  {
   "cell_type": "markdown",
   "metadata": {},
   "source": [
    "### Implementation"
   ]
  },
  {
   "cell_type": "code",
   "execution_count": 3,
   "metadata": {},
   "outputs": [],
   "source": [
    "# check if the considered solution satisfies the condition:\n",
    "# select at least one item from each class or not\n",
    "def check_knapsack (knapsack, m, c):\n",
    "    knapsack_class = set()\n",
    "    for i in knapsack:\n",
    "        knapsack_class.add(c[i])\n",
    "    # if the set of items contains all given class, then we return true\n",
    "    if (len(knapsack_class) == m): return True\n",
    "    #else return false\n",
    "    return False"
   ]
  },
  {
   "cell_type": "code",
   "execution_count": 4,
   "metadata": {},
   "outputs": [],
   "source": [
    "# calculate the power set of n items to generate all possible combination\n",
    "# of items that can get chosen\n",
    "def generate_combination(n):\n",
    "    # first create a list with an empty set\n",
    "    res = [[]]\n",
    "    # gradually add each item in the list to the generated combinations\n",
    "    for item in range(n):\n",
    "        new_set = [r + [item] for r in res]\n",
    "        res.extend(new_set)\n",
    "    return res"
   ]
  },
  {
   "cell_type": "code",
   "execution_count": 5,
   "metadata": {},
   "outputs": [],
   "source": [
    "def brute_force(W, m, w, v, c):\n",
    "    n = len(w)\n",
    "    #initialize empty list to store result\n",
    "    knapsack = []\n",
    "    # set highest value found to 0\n",
    "    highestValue = 0\n",
    "    total_weight = 0\n",
    "    # iterate through all subsets \n",
    "    for item in generate_combination(n):\n",
    "        # calculate sum weight of items in that subset\n",
    "        weight = sum(w[i] for i in item)\n",
    "        # calculate sum value of items in that subset\n",
    "        value = sum(v[i] for i in item)\n",
    "        # if the total value is higher than the current highest value found\n",
    "        # and the total weight still have not exceeded the required weight\n",
    "        # and this subset contains all classes of items (satisfy the problem's constraint)\n",
    "        # then we will update our optimal current solution\n",
    "        if(value > highestValue and weight <= W and check_knapsack(item, m, c)):\n",
    "            # set the current highest value found to the current total value\n",
    "            highestValue = value\n",
    "            total_weight = weight\n",
    "            # and set the result list to the current subset\n",
    "            knapsack = item\n",
    "    \n",
    "    # after iterating through all possible outcomes and found the most suitable solution\n",
    "    # we save result as a list of 0 and 1; 1 for chosen item and 0 for others\n",
    "    result = ['0'] * len(w)\n",
    "    for i in knapsack:\n",
    "        result[i] = '1'\n",
    "    \n",
    "    # return highest value we can find and the result list\n",
    "    return result, highestValue, total_weight\n",
    "            "
   ]
  },
  {
   "cell_type": "code",
   "execution_count": null,
   "metadata": {},
   "outputs": [
    {
     "name": "stderr",
<<<<<<< Updated upstream
     "output_type": "stream",
     "text": [
      " 18%|████████                                    | 2/11 [00:48<03:36, 24.01s/it]"
     ]
    },
    {
     "name": "stdout",
     "output_type": "stream",
     "text": [
      "The result of input_004.txt is: [0, 0, 1, 1, 0, 0, 1, 0, 0, 0, 0, 1, 0, 0, 1, 0, 1, 0, 0, 1, 0, 1, 1, 0]\n",
      "With the value of: 6087.0 and total weight: 4905.0)\n",
      "Complete searching in: 48.0096161365509 seconds\n"
=======
     "output_type": "stream",
     "text": [
      "  0%|          | 0/11 [00:00<?, ?it/s]"
     ]
    },
    {
     "name": "stdout",
     "output_type": "stream",
     "text": [
      "input_001.txt\n",
      "The result is: ['0', '1', '0', '0', '1', '0', '0', '0', '0', '1']\n",
      "With the value of: 117 and total weight: 100)\n",
      "Complete searching in: 0.001995086669921875 seconds\n",
      "\n",
      "input_002.txt\n",
      "The result is: ['1', '1', '1', '1', '1', '1', '1', '1', '1', '1']\n",
      "With the value of: 1000 and total weight: 10)\n",
      "Complete searching in: 0.002021312713623047 seconds\n",
      "\n"
     ]
    },
    {
     "name": "stderr",
     "output_type": "stream",
     "text": [
      " 36%|███▋      | 4/11 [00:23<00:41,  5.93s/it]"
     ]
    },
    {
     "name": "stdout",
     "output_type": "stream",
     "text": [
      "input_003.txt\n",
      "The result is: ['1', '1', '1', '0', '1', '1', '1', '1', '1', '1', '1', '1', '1', '1', '1', '1', '1', '1', '1', '1', '1', '1', '1']\n",
      "With the value of: 14211 and total weight: 8729)\n",
      "Complete searching in: 23.71541714668274 seconds\n",
      "\n"
     ]
    },
    {
     "name": "stderr",
     "output_type": "stream",
     "text": [
      " 45%|████▌     | 5/11 [01:16<01:49, 18.21s/it]"
     ]
    },
    {
     "name": "stdout",
     "output_type": "stream",
     "text": [
      "input_004.txt\n",
      "The result is: ['0', '0', '1', '1', '0', '0', '1', '0', '0', '0', '0', '1', '0', '0', '1', '0', '1', '0', '0', '1', '0', '1', '1', '0']\n",
      "With the value of: 6087 and total weight: 4905)\n",
      "Complete searching in: 52.57297396659851 seconds\n",
      "\n"
     ]
    },
    {
     "name": "stderr",
     "output_type": "stream",
     "text": [
      " 45%|████▌     | 5/11 [06:54<08:17, 82.90s/it]\n"
     ]
    },
    {
     "ename": "MemoryError",
     "evalue": "",
     "output_type": "error",
     "traceback": [
      "\u001b[1;31m---------------------------------------------------------------------------\u001b[0m",
      "\u001b[1;31mMemoryError\u001b[0m                               Traceback (most recent call last)",
      "Cell \u001b[1;32mIn [6], line 28\u001b[0m\n\u001b[0;32m     26\u001b[0m \u001b[39m#Calculate execution time\u001b[39;00m\n\u001b[0;32m     27\u001b[0m start\u001b[39m=\u001b[39mtime\u001b[39m.\u001b[39mtime()\n\u001b[1;32m---> 28\u001b[0m (result, highest_value, total_weight) \u001b[39m=\u001b[39m (brute_force(W, m, w, v, c))\n\u001b[0;32m     29\u001b[0m end\u001b[39m=\u001b[39mtime\u001b[39m.\u001b[39mtime()\n\u001b[0;32m     30\u001b[0m file_index\u001b[39m=\u001b[39mfile[\u001b[39m6\u001b[39m:\u001b[39m-\u001b[39m\u001b[39m4\u001b[39m]\n",
      "Cell \u001b[1;32mIn [5], line 9\u001b[0m, in \u001b[0;36mbrute_force\u001b[1;34m(W, m, w, v, c)\u001b[0m\n\u001b[0;32m      7\u001b[0m total_weight \u001b[39m=\u001b[39m \u001b[39m0\u001b[39m\n\u001b[0;32m      8\u001b[0m \u001b[39m# iterate through all subsets \u001b[39;00m\n\u001b[1;32m----> 9\u001b[0m \u001b[39mfor\u001b[39;00m item \u001b[39min\u001b[39;00m generate_combination(n):\n\u001b[0;32m     10\u001b[0m     \u001b[39m# calculate sum weight of items in that subset\u001b[39;00m\n\u001b[0;32m     11\u001b[0m     weight \u001b[39m=\u001b[39m \u001b[39msum\u001b[39m(w[i] \u001b[39mfor\u001b[39;00m i \u001b[39min\u001b[39;00m item)\n\u001b[0;32m     12\u001b[0m     \u001b[39m# calculate sum value of items in that subset\u001b[39;00m\n",
      "Cell \u001b[1;32mIn [4], line 8\u001b[0m, in \u001b[0;36mgenerate_combination\u001b[1;34m(n)\u001b[0m\n\u001b[0;32m      6\u001b[0m \u001b[39m# gradually add each item in the list to the generated combinations\u001b[39;00m\n\u001b[0;32m      7\u001b[0m \u001b[39mfor\u001b[39;00m item \u001b[39min\u001b[39;00m \u001b[39mrange\u001b[39m(n):\n\u001b[1;32m----> 8\u001b[0m     new_set \u001b[39m=\u001b[39m [r \u001b[39m+\u001b[39m [item] \u001b[39mfor\u001b[39;00m r \u001b[39min\u001b[39;00m res]\n\u001b[0;32m      9\u001b[0m     res\u001b[39m.\u001b[39mextend(new_set)\n\u001b[0;32m     10\u001b[0m \u001b[39mreturn\u001b[39;00m res\n",
      "Cell \u001b[1;32mIn [4], line 8\u001b[0m, in \u001b[0;36m<listcomp>\u001b[1;34m(.0)\u001b[0m\n\u001b[0;32m      6\u001b[0m \u001b[39m# gradually add each item in the list to the generated combinations\u001b[39;00m\n\u001b[0;32m      7\u001b[0m \u001b[39mfor\u001b[39;00m item \u001b[39min\u001b[39;00m \u001b[39mrange\u001b[39m(n):\n\u001b[1;32m----> 8\u001b[0m     new_set \u001b[39m=\u001b[39m [r \u001b[39m+\u001b[39m [item] \u001b[39mfor\u001b[39;00m r \u001b[39min\u001b[39;00m res]\n\u001b[0;32m      9\u001b[0m     res\u001b[39m.\u001b[39mextend(new_set)\n\u001b[0;32m     10\u001b[0m \u001b[39mreturn\u001b[39;00m res\n",
      "\u001b[1;31mMemoryError\u001b[0m: "
>>>>>>> Stashed changes
     ]
    }
   ],
   "source": [
<<<<<<< Updated upstream
    "# set path for input files\n",
    "input_dir='data/input/' \n",
    "for file in tqdm(os.listdir(input_dir)):\n",
    "    # open each file\n",
    "    with open(input_dir+file) as f:\n",
    "        # check if that file is .txt file or not\n",
    "        if (file[-4:]!='.txt'): continue\n",
    "        # read 5 input strings from file to variables\n",
    "        capacity,class_num,weight,val,label=f.readlines()\n",
    "        # set value for W and m\n",
    "        W,m=int(capacity),int(class_num)\n",
    "        # set value for w \n",
    "        w=weight.replace(' ','').replace('\\n','')\n",
    "        w=[float(num) for num in weight.split(',')]\n",
    "        # set value for v\n",
    "        v=val.replace(' ','').replace('\\n','')\n",
    "        v=[float(num) for num in val.split(',')]\n",
    "        # set value for c\n",
    "        c=label.replace(' ','').replace('\\n','')\n",
    "        c=[float(num) for num in label.split(',')]\n",
=======
    "input_dir='data/input/'\n",
    "output_dir='data/output01/'\n",
    "for file in tqdm(os.listdir(input_dir)):\n",
    "    with open(input_dir+file) as f_read:\n",
    "        if (file[-4:]!='.txt'): continue #to eliminate.DS_store\n",
    "        W,m,w,v,c=f_read.readlines()\n",
    "        \n",
    "    #set capacity and number of class\n",
    "    W,m=float(W),float(m)\n",
>>>>>>> Stashed changes
    "\n",
    "    #set weight\n",
    "    w=w.replace(' ','').replace('\\n','')\n",
    "    w=w.split(',')\n",
    "    w=[eval(i) for i in w]\n",
    "\n",
<<<<<<< Updated upstream
    "        # print the result list, highest value and total time needed to run the algorithm\n",
    "        print(f'The result of {file} is: {result}\\nWith the value of: {highest_value} and total weight: {total_weight})')\n",
    "        print(f'Complete searching in: {end-start} seconds')"
=======
    "    #set value\n",
    "    v=v.replace(' ','').replace('\\n','')\n",
    "    v=v.split(',')\n",
    "    v=[eval(i) for i in v]\n",
    "\n",
    "    #set label\n",
    "    c=c.replace(' ','').replace('\\n','')\n",
    "    c=c.split(',')\n",
    "    c=[eval(i) for i in c]\n",
    "    \n",
    "    #Calculate execution time\n",
    "    start=time.time()\n",
    "    (result, highest_value, total_weight) = (brute_force(W, m, w, v, c))\n",
    "    end=time.time()\n",
    "    file_index=file[6:-4]\n",
    "    \n",
    "    #Process file\n",
    "    output_file=f'output_{file_index}.txt'\n",
    "    with open(output_dir+output_file,'w') as f_write:\n",
    "        f_write.write(str(highest_value)+'\\n')\n",
    "        f_write.write(str(', '.join(result)))\n",
    "    \n",
    "    # print the result list, highest value and total time needed to run the algorithm\n",
    "    print(file)\n",
    "    print(f'The result is: {result}\\nWith the value of: {highest_value} and total weight: {total_weight})')\n",
    "    print(f'Complete searching in: {end-start} seconds\\n')\n"
>>>>>>> Stashed changes
   ]
  },
  {
   "cell_type": "markdown",
   "metadata": {},
   "source": [
    "# Report\n",
    "\n",
    "## Algorithm Description\n",
    "\n"
   ]
  },
  {
   "cell_type": "markdown",
   "metadata": {},
   "source": [
    "In order to identify the optimal answer, brute force algorithms produce all feasible solutions (given an input of size n). Then, it iterate through all of them and consider only subsets that contain all the given classes and whose combined weight is less than W. It then compare update the 'current highest value' in order to detect and select the greatest value subset from among those considered subsets.\n",
    "\n",
    "## Pseudo Code\n",
    "\n",
    "*This is the pseudo code for function checking if the list contains all classes or not*\n",
    "\n",
    "```\n",
    "check_knapsack(knapsack: list, m, c) return bool\n",
    "    knapsack_class is set\n",
    "    FOR i IN knapsack\n",
    "        BEGIN\n",
    "            knapsack_class add c[i]\n",
    "        END\n",
    "    IF (size knapsack_lass = m)\n",
    "        return True\n",
    "        ENDIF\n",
    "    return False\n",
    "```\n",
    "\n",
    "*This is the pseudo code for function creating power set of n items*\n",
    "\n",
    "```\n",
    "generate_combination(n) return list of power set\n",
    "    result <- [[]]\n",
    "    FOR item < n:\n",
    "        BEGIN\n",
    "        new_set <- [r + [item] FOR r IN res]\n",
    "        result <- add[new_set]\n",
    "        END\n",
    "    return result\n",
    "```\n",
    "*This is the pseudo code for function implementing brute force algorithm*\n",
    "\n",
    "```\n",
    "brute_force(W, m, w, v, c) return (result, highest_value)\n",
    "    n <- size of w\n",
    "    knapsack <- []\n",
    "    highest_value <- 0\n",
    "    FOR item IN generate_combination(n)\n",
    "        BEGIN\n",
    "        weight <- sum(w[i] FOR i IN item)\n",
    "        value <- sum(v[i] FOR i IN item)\n",
    "        IF (value > highest_value AND weight < W AND check_knapsack(item, m, c) = TRUE)\n",
    "            highest_value <- value\n",
    "            knapsack <- item\n",
    "        ENDIF\n",
    "        END\n",
    "    result <- [0]*10\n",
    "    FOR i IN knapsack\n",
    "        BEGIN\n",
    "        result[i] = 1\n",
    "        END\n",
    "    return result, highest_value\n",
    "```\n",
    "\n",
    "## Algorithm Explanation\n",
    "\n",
    "For the knapsack problem we first generate every possible subset of n items represents for all possible outcomes. Note that the number of subsets of the n items can be very large, we have $2^n$ combinations for n objects including the empty bag. Then we iterate through the list of subset and check whether its total value is better than the current highest value while keeping the total weight smaller or equal the bounded weight. In addition, for each subset that have the probability to be chosen as result, which means it has better total value and accepted total weight, we also check the additional constraint given in the problem, which is whether the subset contains all classes or not. If all the requirements are met, we update the current optimal solution to be that subset and continue considering other subsets until all subsets are iterated.\n",
    "\n"
   ]
  },
  {
   "cell_type": "markdown",
   "metadata": {},
   "source": [
    "## Evaluation\n",
    "\n",
    "One of the main disadvantages of Brute Force is its execution time. Since Brute Force has to generate the power set of n items, it can comes with a very large number of cases to iterate through. As a result, it may time consuming to consider all of the cases it generated. For instance, at the input_003 in our test cases, while the Genetic Algorithm spends about 5 to 6 seconds with 2000 generations and 10 initial population, Brute Force requires 24 seconds to complete the search. \n",
    "\n",
    "Brute Force also use a lot of memory. In test case input_005.txt, I ran into memory error and cannot continue to search.In other words, the amount of computing resources Brute Force requires to complete their task is not small.\n",
    "\n",
    "However, since Brute Force is a global search, it always comes up with the most optimal output. Additionally, Brute Force is quite easy to implement, so it is ideal to be considered when solve simple tasks and problems"
   ]
  },
  {
   "cell_type": "markdown",
   "metadata": {},
   "source": [
    "## Comments\n",
    "\n",
    "Even if Brute Force is not always the best option for large-scale or optimizing situations, I believe that by using a decent heuristic function or other techniques that can reduce the search space, we may speed up the performance of Brute Force."
   ]
  },
  {
   "cell_type": "markdown",
   "metadata": {},
   "source": [
    "## Conclusion\n",
    "\n",
    "Despite the fact that Brute Force is straightforward to use and will always discover a solution if one exists, implementation costs are positively correlated with the number of candidate solutions, which in many real-world situations tends to increase rapidly as the problem's size rises. As a result, it is commonly utilized when the issue size is small or when there are heuristics available to reduce the number of alternative solutions to a reasonable number. When simplicity of implementation is more essential than speed, the approach is also employed. For problems that have quite a number of candidates, it is recommended to use a more effective algorithm."
   ]
  }
 ],
 "metadata": {
  "kernelspec": {
<<<<<<< Updated upstream
   "display_name": "Python 3 (ipykernel)",
=======
   "display_name": "Python 3.10.7 64-bit",
>>>>>>> Stashed changes
   "language": "python",
   "name": "python3"
  },
  "language_info": {
   "codemirror_mode": {
    "name": "ipython",
    "version": 3
   },
   "file_extension": ".py",
   "mimetype": "text/x-python",
   "name": "python",
   "nbconvert_exporter": "python",
   "pygments_lexer": "ipython3",
<<<<<<< Updated upstream
   "version": "3.8.11"
=======
   "version": "3.10.7"
>>>>>>> Stashed changes
  },
  "vscode": {
   "interpreter": {
    "hash": "bea42e1b0e07028483ba0ff26b9b4dc4fa162e9d0ccb6b0507d54b9d42d30653"
   }
  }
 },
 "nbformat": 4,
 "nbformat_minor": 2
}
