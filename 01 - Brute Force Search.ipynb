{
 "cells": [
  {
   "cell_type": "markdown",
   "metadata": {},
   "source": [
    "# Source Code"
   ]
  },
  {
   "cell_type": "markdown",
   "metadata": {},
   "source": [
    "### Import libraries"
   ]
  },
  {
   "cell_type": "code",
   "execution_count": 1,
   "metadata": {},
   "outputs": [],
   "source": [
    "import os\n",
    "import time"
   ]
  },
  {
   "cell_type": "code",
   "execution_count": 2,
   "metadata": {},
   "outputs": [],
   "source": [
    "W: int #capable weight\n",
    "m: int #number of classes\n",
    "w = [] #weight of each item\n",
    "v = [] #value of each item\n",
    "c = [] #class of each item"
   ]
  },
  {
   "cell_type": "markdown",
   "metadata": {},
   "source": [
    "### Implementation"
   ]
  },
  {
   "cell_type": "code",
   "execution_count": 3,
   "metadata": {},
   "outputs": [],
   "source": [
    "# check if the considered solution satisfies the condition:\n",
    "# select at least one item from each class or not\n",
    "def check_knapsack (knapsack, m, c):\n",
    "    knapsack_class = set()\n",
    "    for i in knapsack:\n",
    "        knapsack_class.add(c[i])\n",
    "    # if the set of items contains all given class, then we return true\n",
    "    if (len(knapsack_class) == m): return True\n",
    "    #else return false\n",
    "    return False"
   ]
  },
  {
   "cell_type": "code",
   "execution_count": 4,
   "metadata": {},
   "outputs": [],
   "source": [
    "# calculate the power set of n items to generate all possible combination\n",
    "# of items that can get chosen\n",
    "def generate_combination(n):\n",
    "    # first create a list with an empty set\n",
    "    res = [[]]\n",
    "    # gradually add each item in the list to the generated combinations\n",
    "    for item in range(n):\n",
    "        new_set = [r + [item] for r in res]\n",
    "        res.extend(new_set)\n",
    "    return res"
   ]
  },
  {
   "cell_type": "code",
   "execution_count": 5,
   "metadata": {},
   "outputs": [],
   "source": [
    "def brute_force(W, m, w, v, c):\n",
    "    n = len(w)\n",
    "    #initialize empty list to store result\n",
    "    knapsack = []\n",
    "    # set highest value found to 0\n",
    "    highestValue = 0\n",
    "    # iterate through all subsets \n",
    "    for item in generate_combination(n):\n",
    "        # calculate sum weight of items in that subset\n",
    "        weight = sum(w[i] for i in item)\n",
    "        # calculate sum value of items in that subset\n",
    "        value = sum(v[i] for i in item)\n",
    "        # if the total value is higher than the current highest value found\n",
    "        # and the total weight still have not exceeded the required weight\n",
    "        # and this subset contains all classes of items (satisfy the problem's constraint)\n",
    "        # then we will update our optimal current solution\n",
    "        if(value > highestValue and weight <= W and check_knapsack(item, m, c)):\n",
    "            # set the current highest value found to the current total value\n",
    "            highestValue = value\n",
    "            # and set the result list to the current subset\n",
    "            knapsack = item\n",
    "    \n",
    "    # after iterating through all possible outcomes and found the most suitable solution\n",
    "    # we save result as a list of 0 and 1; 1 for chosen item and 0 for others\n",
    "    result = [0] * len(w)\n",
    "    for i in knapsack:\n",
    "        result[i] = 1\n",
    "    \n",
    "    # return highest value we can find and the result list\n",
    "    return result, highestValue\n",
    "            "
   ]
  },
  {
   "cell_type": "code",
   "execution_count": 6,
   "metadata": {},
   "outputs": [
    {
     "name": "stdout",
     "output_type": "stream",
     "text": [
      "[0, 1, 0, 0, 1, 0, 0, 0, 0, 1] 117.0\n",
      "Complete searching in: 0.0029942989349365234 seconds\n",
      "[1, 1, 1, 1, 1, 1, 1, 1, 1, 1] 1000.0\n",
      "Complete searching in: 0.016942501068115234 seconds\n",
      "[1, 1, 1, 0, 1, 1, 1, 1, 1, 1, 1, 1, 1, 1, 1, 1, 1, 1, 1, 1, 1, 1, 1] 14211.0\n",
      "Complete searching in: 23.532792568206787 seconds\n",
      "[0, 0, 1, 1, 0, 0, 1, 0, 0, 0, 0, 1, 0, 0, 1, 0, 1, 0, 0, 1, 0, 1, 1, 0] 6087.0\n",
      "Complete searching in: 47.91062688827515 seconds\n"
     ]
    },
    {
     "ename": "MemoryError",
     "evalue": "",
     "output_type": "error",
     "traceback": [
      "\u001b[1;31m---------------------------------------------------------------------------\u001b[0m",
      "\u001b[1;31mMemoryError\u001b[0m                               Traceback (most recent call last)",
      "Cell \u001b[1;32mIn [6], line 23\u001b[0m\n\u001b[0;32m     20\u001b[0m c\u001b[39m=\u001b[39m[\u001b[39mfloat\u001b[39m(num) \u001b[39mfor\u001b[39;00m num \u001b[39min\u001b[39;00m label\u001b[39m.\u001b[39msplit(\u001b[39m'\u001b[39m\u001b[39m,\u001b[39m\u001b[39m'\u001b[39m)]\n\u001b[0;32m     22\u001b[0m start \u001b[39m=\u001b[39m time\u001b[39m.\u001b[39mtime()\n\u001b[1;32m---> 23\u001b[0m (result, highest_value) \u001b[39m=\u001b[39m (brute_force(W, m, w, v, c))\n\u001b[0;32m     24\u001b[0m end \u001b[39m=\u001b[39m time\u001b[39m.\u001b[39mtime()\n\u001b[0;32m     26\u001b[0m \u001b[39m# print the result list, high value and total time needed to run the algorithm\u001b[39;00m\n",
      "Cell \u001b[1;32mIn [5], line 8\u001b[0m, in \u001b[0;36mbrute_force\u001b[1;34m(W, m, w, v, c)\u001b[0m\n\u001b[0;32m      6\u001b[0m highestValue \u001b[39m=\u001b[39m \u001b[39m0\u001b[39m\n\u001b[0;32m      7\u001b[0m \u001b[39m# iterate through all subsets \u001b[39;00m\n\u001b[1;32m----> 8\u001b[0m \u001b[39mfor\u001b[39;00m item \u001b[39min\u001b[39;00m generate_combination(n):\n\u001b[0;32m      9\u001b[0m     \u001b[39m# calculate sum weight of items in that subset\u001b[39;00m\n\u001b[0;32m     10\u001b[0m     weight \u001b[39m=\u001b[39m \u001b[39msum\u001b[39m(w[i] \u001b[39mfor\u001b[39;00m i \u001b[39min\u001b[39;00m item)\n\u001b[0;32m     11\u001b[0m     \u001b[39m# calculate sum value of items in that subset\u001b[39;00m\n",
      "Cell \u001b[1;32mIn [4], line 8\u001b[0m, in \u001b[0;36mgenerate_combination\u001b[1;34m(n)\u001b[0m\n\u001b[0;32m      6\u001b[0m \u001b[39m# gradually add each item in the list to the generated combinations\u001b[39;00m\n\u001b[0;32m      7\u001b[0m \u001b[39mfor\u001b[39;00m item \u001b[39min\u001b[39;00m \u001b[39mrange\u001b[39m(n):\n\u001b[1;32m----> 8\u001b[0m     new_set \u001b[39m=\u001b[39m [r \u001b[39m+\u001b[39m [item] \u001b[39mfor\u001b[39;00m r \u001b[39min\u001b[39;00m res]\n\u001b[0;32m      9\u001b[0m     res\u001b[39m.\u001b[39mextend(new_set)\n\u001b[0;32m     10\u001b[0m \u001b[39mreturn\u001b[39;00m res\n",
      "Cell \u001b[1;32mIn [4], line 8\u001b[0m, in \u001b[0;36m<listcomp>\u001b[1;34m(.0)\u001b[0m\n\u001b[0;32m      6\u001b[0m \u001b[39m# gradually add each item in the list to the generated combinations\u001b[39;00m\n\u001b[0;32m      7\u001b[0m \u001b[39mfor\u001b[39;00m item \u001b[39min\u001b[39;00m \u001b[39mrange\u001b[39m(n):\n\u001b[1;32m----> 8\u001b[0m     new_set \u001b[39m=\u001b[39m [r \u001b[39m+\u001b[39;49m [item] \u001b[39mfor\u001b[39;00m r \u001b[39min\u001b[39;00m res]\n\u001b[0;32m      9\u001b[0m     res\u001b[39m.\u001b[39mextend(new_set)\n\u001b[0;32m     10\u001b[0m \u001b[39mreturn\u001b[39;00m res\n",
      "\u001b[1;31mMemoryError\u001b[0m: "
     ]
    }
   ],
   "source": [
    "# set path for input files\n",
    "input_dir='data/input/' \n",
    "for file in os.listdir(input_dir):\n",
    "    # open each file\n",
    "    with open(input_dir+file) as f:\n",
    "        # check if that file is .txt file or not\n",
    "        if (file[-4:]!='.txt'): continue\n",
    "        # read 5 input strings from file to variables\n",
    "        capacity,class_num,weight,val,label=f.readlines()\n",
    "        # set value for W and m\n",
    "        W,m=int(capacity),int(class_num)\n",
    "        # set value for w \n",
    "        w=weight.replace(' ','').replace('\\n','')\n",
    "        w=[float(num) for num in weight.split(',')]\n",
    "        # set value for v\n",
    "        v=val.replace(' ','').replace('\\n','')\n",
    "        v=[float(num) for num in val.split(',')]\n",
    "        # set value for c\n",
    "        c=label.replace(' ','').replace('\\n','')\n",
    "        c=[float(num) for num in label.split(',')]\n",
    "\n",
    "        start = time.time()\n",
    "        (result, highest_value) = (brute_force(W, m, w, v, c))\n",
    "        end = time.time()\n",
    "\n",
    "        # print the result list, highest value and total time needed to run the algorithm\n",
    "        print(result, highest_value)\n",
    "        print(f'Complete searching in: {end-start} seconds')"
   ]
  },
  {
   "cell_type": "markdown",
   "metadata": {},
   "source": [
    "# Report\n",
    "\n",
    "## Algorithm Description\n",
    "\n"
   ]
  },
  {
   "cell_type": "markdown",
   "metadata": {},
   "source": [
    "In order to identify the optimal answer, brute force algorithms produce all feasible solutions (given an input of size n). Then, it iterate through all of them and consider only subsets that contain all the given classes and whose combined weight is less than W. It then compare update the 'current highest value' in order to detect and select the greatest value subset from among those considered subsets.\n",
    "\n",
    "## Pseudo Code\n",
    "\n",
    "*This is the pseudo code for function checking if the list contains all classes or not*\n",
    "\n",
    "```\n",
    "check_knapsack(knapsack: list, m, c) return bool\n",
    "    knapsack_class is set\n",
    "    FOR i IN knapsack\n",
    "        BEGIN\n",
    "            knapsack_class add c[i]\n",
    "        END\n",
    "    IF (size knapsack_lass = m)\n",
    "        return True\n",
    "        ENDIF\n",
    "    return False\n",
    "```\n",
    "\n",
    "*This is the pseudo code for function creating power set of n items*\n",
    "\n",
    "```\n",
    "generate_combination(n) return list of power set\n",
    "    result <- [[]]\n",
    "    FOR item < n:\n",
    "        BEGIN\n",
    "        new_set <- [r + [item] FOR r IN res]\n",
    "        result <- add[new_set]\n",
    "        END\n",
    "    return result\n",
    "```\n",
    "*This is the pseudo code for function implementing brute force algorithm*\n",
    "\n",
    "```\n",
    "brute_force(W, m, w, v, c) return (result, highest_value)\n",
    "    n <- size of w\n",
    "    knapsack <- []\n",
    "    highest_value <- 0\n",
    "    FOR item IN generate_combination(n)\n",
    "        BEGIN\n",
    "        weight <- sum(w[i] FOR i IN item)\n",
    "        value <- sum(v[i] FOR i IN item)\n",
    "        IF (value > highest_value AND weight < W AND check_knapsack(item, m, c) = TRUE)\n",
    "            highest_value <- value\n",
    "            knapsack <- item\n",
    "        ENDIF\n",
    "        END\n",
    "    result <- [0]*10\n",
    "    FOR i IN knapsack\n",
    "        BEGIN\n",
    "        result[i] = 1\n",
    "        END\n",
    "    return result, highest_value\n",
    "```\n",
    "\n",
    "## Algorithm Explanation\n",
    "\n",
    "For the knapsack problem we first generate every possible subset of n items represents for all possible outcomes. Note that the number of subsets of the n items can be very large, we have $2^n$ combinations for n objects including the empty bag. Then we iterate through the list of subset and check whether its total value is better than the current highest value while keeping the total weight smaller or equal the bounded weight. In addition, for each subset that have the probability to be chosen as result, which means it has better total value and accepted total weight, we also check the additional constraint given in the problem, which is whether the subset contains all classes or not. If all the requirements are met, we update the current optimal solution to be that subset and continue considering other subsets until all subsets are iterated.\n",
    "\n"
   ]
  },
  {
   "cell_type": "markdown",
   "metadata": {},
   "source": [
    "## Evaluation\n",
    "\n",
    "One of the main disadvantages of Brute Force is its execution time. Since Brute Force has to generate the power set of n items, it can comes with a very large number of cases to iterate through. As a result, it may time consuming to consider all of the cases it generated. For instance, at the input_003 in our test cases, while the Genetic Algorithm spends about 5 to 6 seconds with 2000 generations and 10 initial population, Brute Force requires 24 seconds to complete the search. \n",
    "\n",
    "Brute Force also use a lot of memory. In test case input_005.txt, I ran into memory error and cannot continue to search\n",
    "\n",
    "However, since Brute Force is a global search, it always comes up with the most optimal output."
   ]
  }
 ],
 "metadata": {
  "kernelspec": {
   "display_name": "Python 3.10.8 64-bit (microsoft store)",
   "language": "python",
   "name": "python3"
  },
  "language_info": {
   "codemirror_mode": {
    "name": "ipython",
    "version": 3
   },
   "file_extension": ".py",
   "mimetype": "text/x-python",
   "name": "python",
   "nbconvert_exporter": "python",
   "pygments_lexer": "ipython3",
   "version": "3.10.8"
  },
  "orig_nbformat": 4,
  "vscode": {
   "interpreter": {
    "hash": "9deea79bfd8769c20cdb41e577c31349975f53057f7c4a88718c49dab3f025eb"
   }
  }
 },
 "nbformat": 4,
 "nbformat_minor": 2
}
