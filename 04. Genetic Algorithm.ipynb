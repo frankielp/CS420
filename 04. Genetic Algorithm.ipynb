{
 "cells": [
  {
   "cell_type": "markdown",
   "metadata": {},
   "source": [
    "# Genetic Algorithm\n",
    "## Description\n",
    "Genetic algorithm simulates the natural selection. At each step, the genetic algorithm selects individuals from the current population to be parents and uses them to produce the children for the next generation. Over successive generations, the population evolves toward an optimal solution. Like natural selection, this algorithm also has crossover to create new individuals and mutation to apply random changes to individuals.\n",
    "\n",
    "### Fitness score\n",
    "The fitness score show how well fit an individual is. The individuals having better fitness score have higher chance to be parents in the next reproduction.\n",
    "\n",
    "Each new generation has on average more “better genes” than the individual (solution) of previous generations. Thus each new generations have better “partial solutions” than previous generations. Once the offspring produced having no significant difference from offspring produced by previous populations, the population is converged. The algorithm is said to be converged to a set of solutions for the problem.\n",
    "\n",
    "### Operators of genetic algorithm\n",
    "- **Selection operator**: Genetic algorithm randomly selects 2 individuals for reproduction. For more realistic, the probability of being chosen is proportional to the fitness score.\n",
    "- **Crossover**: After selecting parents, the algorithm randomly choose a crossover point, then exchange the genes.\n",
    "- **Mutation Operator**: The algorithm randomly choose a part of genes and changes. This is when a new unique genes are created and prevents the population from premature."
   ]
  },
  {
   "cell_type": "code",
   "execution_count": 64,
   "metadata": {},
   "outputs": [],
   "source": [
    "# create individual\n",
    "class Individual(object):\n",
    "    def __init__(self, gene: list) -> None:\n",
    "        # with gene is choices\n",
    "        self.gene = gene\n",
    "        self.fitness = self.fitnessFunction()\n",
    "\n",
    "    def fitnessFunction(self):\n",
    "        # create set to memorize the chosen classes\n",
    "        classSet = set()\n",
    "        # initial weight and value of individual\n",
    "        curW, value = 0, 0\n",
    "        # for each item in individual\n",
    "        for i in range(len(self.gene)):\n",
    "            # skip if the item is not chosen\n",
    "            if (self.gene[i]==0):\n",
    "                continue\n",
    "            # try adding item to the backpack\n",
    "            curW = curW + w[i]\n",
    "            # if the current weight is more than the storage of backpack return 0 as this individual is not fit the problem\n",
    "            if (curW>W):\n",
    "                return 0\n",
    "            # add \n",
    "            classSet.add(c[i])\n",
    "            value = value + v[i]\n",
    "        return value if (len(classSet)>=m) else 0\n",
    "\n",
    "    def __str__(self) -> str:\n",
    "        return f'Value: {self.fitness}\\nChoices: {self.gene}\\n'"
   ]
  },
  {
   "cell_type": "code",
   "execution_count": 65,
   "metadata": {},
   "outputs": [],
   "source": [
    "#import library for roulette wheel\n",
    "import random\n",
    "import numpy\n",
    "def select(population):\n",
    "    # find total fitness value\n",
    "    max = sum([i.fitness for i in population])\n",
    "    if (max == 0):\n",
    "        return population[random.randint(0,len(population)-1)]\n",
    "    # create probability proportion for each individual\n",
    "    selection_props = [i.fitness/max for i in population]\n",
    "    # return the chosen individual\n",
    "    return population[numpy.random.choice(len(population), p=selection_props)]"
   ]
  },
  {
   "cell_type": "code",
   "execution_count": 66,
   "metadata": {},
   "outputs": [],
   "source": [
    "from random import randint\n",
    "\n",
    "# performing crossover\n",
    "def crossover (p1, p2) -> list:\n",
    "    # random position to crossover\n",
    "    p1Gene, p2Gene = p1.gene, p2.gene\n",
    "    crossPoint = randint(0,len(p1Gene)-1)\n",
    "    # return the child after crossover 2 genes from parents\n",
    "    newGene = p1Gene[crossPoint:] + p2Gene[:crossPoint]\n",
    "    return Individual(newGene)"
   ]
  },
  {
   "cell_type": "code",
   "execution_count": 67,
   "metadata": {},
   "outputs": [],
   "source": [
    "import random\n",
    "\n",
    "# constance for mutation rate\n",
    "MUTATION_RATE = 0.5\n",
    "# performing mutation on individual\n",
    "def mutation(individual):\n",
    "    # for each parts of individual\n",
    "    for i in individual.gene:\n",
    "        # if this part has mutation\n",
    "        if (random.random()<MUTATION_RATE):\n",
    "            # change this part\n",
    "            i = 0 if (i==1) else 1\n",
    "\n",
    "    return individual"
   ]
  },
  {
   "cell_type": "code",
   "execution_count": 68,
   "metadata": {},
   "outputs": [],
   "source": [
    "# get initial population\n",
    "# n is the number of individuals of initial population\n",
    "def initialPopulation(n):\n",
    "    # set population as set for preventing duplicated individuals\n",
    "    population = set([])\n",
    "    # generate population\n",
    "    numItems = len(w)\n",
    "    while (len(population)!=n):\n",
    "        # randomly choose items\n",
    "        gene=[]\n",
    "        for _ in range(numItems):\n",
    "            gene.append(randint(0,1))\n",
    "        # add new individual to population\n",
    "        individual = Individual(gene)\n",
    "        population.add(individual)\n",
    "    return list(population)"
   ]
  },
  {
   "cell_type": "code",
   "execution_count": 69,
   "metadata": {},
   "outputs": [],
   "source": [
    "from copy import copy\n",
    "\n",
    "\n",
    "def geneticAlgorithm(loop):\n",
    "    # initial population\n",
    "    # we choose the number of initial individuals is 5\n",
    "    population = initialPopulation(5)\n",
    "    # sorting population to get the fittest individual\n",
    "    population = sorted(population, key = lambda i: i.fitness, reverse=True)\n",
    "\n",
    "    bestIndividual = population[0]\n",
    "    # we get new generation until there is no new individuals\n",
    "    for _ in range(loop):\n",
    "        # initial new population\n",
    "        newPopulation = []\n",
    "        for _ in range(len(population)):\n",
    "            # select first parents\n",
    "            p1,p2 = select(population), select(population)\n",
    "            # print(f'{p1}\\n{p2}\\n')\n",
    "            # doing crossover\n",
    "            child = crossover(p1,p2)\n",
    "            # print(f'New child: {child}\\n')\n",
    "            # doing mutation\n",
    "            child = mutation(child)\n",
    "            # print(f'After mutation: {child}')\n",
    "            # add child to new population\n",
    "            newPopulation.append(child)\n",
    "            if (bestIndividual.fitness < child.fitness):\n",
    "                bestIndividual=copy(child)\n",
    "            # for visualize\n",
    "        # stop generating if there is no new individual\n",
    "        population = newPopulation\n",
    "\n",
    "    # return the fittest individual\n",
    "    # print(f'Fittest: {bestIndividual}')\n",
    "    return bestIndividual"
   ]
  },
  {
   "cell_type": "code",
   "execution_count": 70,
   "metadata": {},
   "outputs": [
    {
     "name": "stdout",
     "output_type": "stream",
     "text": [
      "Fittest: Value: 258588\n",
      "Choices: [1, 1, 1, 1, 1, 1, 0, 1, 1, 1, 1, 0, 1, 1, 0, 1, 1, 1, 1, 1, 1, 0, 1, 1, 1, 1, 0, 1, 0, 0, 0, 1, 1, 0, 0, 1, 0, 0, 1, 1, 1, 0, 1, 1, 1, 1, 1, 0, 1, 1, 1, 0, 1, 0, 0, 0, 1, 1, 0, 1, 0, 1, 1, 1, 0, 1, 1, 1, 0, 0, 1, 1, 1, 0, 0, 0, 0, 0, 1, 1, 1, 0, 1, 1, 1, 1, 0, 0, 1, 1, 1, 0, 1, 1, 1, 1, 0, 1, 1, 1, 1, 0, 0, 0, 1, 1, 0, 1, 1, 1, 1, 1, 0, 0, 0, 1, 1, 0, 1, 1, 1, 0, 1, 0, 0, 0, 0, 1, 0, 0, 0, 1, 1, 0, 1, 1, 1, 1, 1, 1, 1, 0, 1, 1, 1, 1, 0, 1, 1, 0, 0, 1, 1, 0, 1, 1, 0, 1, 1, 1, 1, 1, 0, 1, 1, 0, 1, 1, 0, 0, 1, 1, 0, 1, 0, 0, 1, 0, 1, 1, 1, 0, 1, 1, 1, 0, 0, 1, 1, 1, 0, 0, 0, 0, 1, 1, 1, 0, 1, 1, 1, 1, 0, 1, 1, 1, 1, 0, 0, 0, 1, 1, 0, 1, 1, 1, 1, 1, 0, 0, 0, 1, 1, 0, 1, 1, 1, 0, 1, 0, 0, 0, 0, 1, 0, 0, 1, 0, 1, 0, 0, 0, 0, 0, 1, 0, 1, 1, 0, 1, 1, 1, 1, 1, 1, 1, 0, 1, 1, 1, 1, 0, 1, 1, 0, 1, 1, 1, 1, 1, 1, 0, 1, 1, 1, 1, 0, 1, 0, 0, 0, 1, 1, 0, 0, 1, 0, 0, 1, 1, 1, 0, 1, 1, 1, 1, 1, 0, 1, 1, 1, 0, 1, 0, 0, 0, 1, 1, 0, 1, 1, 1, 0, 1, 0, 0, 0, 0, 1, 0, 0, 0, 1, 1, 0, 1, 1, 1, 1, 1, 1, 1, 0, 1, 1, 1, 1, 0, 1, 1, 0, 0, 1, 1, 0, 1, 1, 0, 1, 1, 1, 1, 1, 0, 1, 1, 0, 1, 1, 0, 0, 1, 1, 0, 1, 0, 0, 1, 0, 1, 1, 1, 0, 1, 1, 1, 0, 0, 1, 1, 1, 0, 0, 1, 1, 1, 0, 1, 1, 1, 1, 0, 1, 1, 1, 1, 0, 0, 0, 1, 1, 0, 1, 1, 1, 1, 1, 0, 0, 0, 1, 1, 0, 1, 1, 1, 0, 1, 0, 0, 0, 0, 1, 1, 1, 0, 1, 0, 0, 0, 0, 1, 0, 0, 0, 1, 1, 0, 1, 1, 1, 1, 1, 1, 1, 0, 1, 1, 1, 1, 0, 1, 1, 0, 0, 1, 1, 0, 1, 1, 0, 1, 1, 1, 1, 1, 0, 1, 1, 0, 1, 1, 0, 0, 1, 1, 0, 1, 0, 0, 1, 0, 1, 1, 1, 0, 1, 1, 1, 0, 0, 1, 1, 1, 0, 0, 0, 0, 0, 1, 1, 1, 0, 1, 1, 1, 1, 0, 1, 1, 1, 1, 0, 0, 0, 1, 1, 0, 1, 1, 1, 1, 1, 0, 0, 0, 1, 1, 0, 1, 1, 1, 0, 1, 0, 0, 0, 0, 1, 0, 0, 1, 0, 1, 0, 0, 0, 0, 0, 1, 0, 1, 1, 0, 1, 1, 1, 1, 1, 1, 1, 0, 1, 1, 1, 1, 0, 1, 1, 0, 1, 1, 1, 1, 1, 1, 0, 1, 1, 1, 1, 0, 1, 0, 0, 0, 1, 1, 0, 0, 1, 0, 0, 1, 1, 1, 0, 1, 1, 1, 1, 1, 0, 1, 1, 1, 0, 1, 0, 0, 0, 1, 1, 0, 1, 0, 1, 1, 1, 0, 1, 1, 1, 0, 0, 1, 1, 1, 0, 0, 0, 0, 0, 1, 1, 1, 0, 1, 1, 1, 1, 0, 0, 1, 1, 1, 0, 1, 1, 1, 1, 0, 1, 1, 1, 1, 0, 0, 0, 1, 1, 0, 1, 1, 1, 1, 1, 0, 0, 0, 1, 1, 0, 1, 1, 1, 0, 1, 0, 0, 0, 0, 1, 0, 0, 0, 1, 1, 0, 1, 1, 1, 1, 1, 1, 1, 0, 1, 1, 1, 1, 0, 1, 1, 0, 0, 1, 1, 0, 1, 1, 0, 1, 1, 1, 1, 1, 0, 1, 1, 0, 1, 1, 0, 0, 1, 1, 0, 1, 0, 0, 1, 0, 1, 1, 1, 0, 1, 1, 1, 0, 0, 1, 1, 1, 0, 0, 0, 0, 0, 1, 1, 1, 0, 1, 1, 1, 1, 0, 1, 1, 1, 1, 0, 0, 0, 1, 1, 0, 1, 1, 1, 1, 1, 0, 1, 0, 0, 0, 1, 1, 0, 1, 1, 0, 1, 0, 0, 0, 1, 1, 0, 0, 1, 0, 0, 1, 1, 1, 0, 1, 1, 1, 1, 1, 0, 1, 1, 1, 0, 1, 0, 0, 0, 1, 1, 0, 1, 1, 1, 0, 1, 0, 0, 0, 0, 1]\n",
      "\n"
     ]
    }
   ],
   "source": [
    "W,m=0,0\n",
    "w,v,c = [], [] , []\n",
    "# set path for input files\n",
    "input_dir='data/input/' \n",
    "# for file in os.listdir(input_dir):\n",
    "file = 'input_009.txt'\n",
    "#solving problem using genetic algorithm\n",
    "\n",
    "with open(input_dir+file) as f:\n",
    "    # check if that file is .txt file or not\n",
    "    # if (file[-4:]!='.txt'): continue\n",
    "    # read 5 input strings from file to variables\n",
    "    W,m,w,v,c=f.readlines()\n",
    "\n",
    "W,m=int(W),int(m)\n",
    "w=w.replace(' ','').replace('\\n','')\n",
    "w=w.split(',')\n",
    "w=[eval(i) for i in w]\n",
    "\n",
    "#set value\n",
    "v=v.replace(' ','').replace('\\n','')\n",
    "v=v.split(',')\n",
    "v=[eval(i) for i in v]\n",
    "\n",
    "#set label\n",
    "c=c.replace(' ','').replace('\\n','')\n",
    "c=c.split(',') \n",
    "c=[eval(i) for i in c] \n",
    "\n",
    "# print(W)\n",
    "# print(m)\n",
    "# print(w)\n",
    "# print(v)\n",
    "# print(c)\n",
    "\n",
    "print(f'Fittest: {geneticAlgorithm(1000)}')"
   ]
  }
 ],
 "metadata": {
  "kernelspec": {
   "display_name": "Python 3.10.8 64-bit",
   "language": "python",
   "name": "python3"
  },
  "language_info": {
   "codemirror_mode": {
    "name": "ipython",
    "version": 3
   },
   "file_extension": ".py",
   "mimetype": "text/x-python",
   "name": "python",
   "nbconvert_exporter": "python",
   "pygments_lexer": "ipython3",
   "version": "3.10.8"
  },
  "orig_nbformat": 4,
  "vscode": {
   "interpreter": {
    "hash": "a42ccb73e7d9bfdf27e036f1d2b8b681e55fc0743cc5586bc2474d4a60f4b886"
   }
  }
 },
 "nbformat": 4,
 "nbformat_minor": 2
}
