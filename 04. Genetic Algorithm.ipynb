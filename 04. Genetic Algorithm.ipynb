{
 "cells": [
  {
   "cell_type": "markdown",
   "metadata": {},
   "source": [
    "# Genetic Algorithm\n",
    "## Description\n",
    "Genetic algorithm simulates the natural selection. At each step, the genetic algorithm selects individuals from the current population to be parents and uses them to produce the children for the next generation. Over successive generations, the population evolves toward an optimal solution. Like natural selection, this algorithm also has crossover to create new individuals and mutation to apply random changes to individuals.\n",
    "\n",
    "### Fitness score\n",
    "The fitness score show how well fit an individual is. The individuals having better fitness score have higher chance to be parents in the next reproduction.\n",
    "\n",
    "Each new generation has on average more “better genes” than the individual (solution) of previous generations. Thus each new generations have better “partial solutions” than previous generations. Once the offspring produced having no significant difference from offspring produced by previous populations, the population is converged. The algorithm is said to be converged to a set of solutions for the problem.\n",
    "\n",
    "### Operators of genetic algorithm\n",
    "- **Selection operator**: Genetic algorithm randomly selects 2 individuals for reproduction. For more realistic, the probability of being chosen is proportional to the fitness score.\n",
    "- **Crossover**: After selecting parents, the algorithm randomly choose a crossover point, then exchange the genes.\n",
    "- **Mutation Operator**: The algorithm randomly choose a part of genes and changes. This is when a new unique genes are created and prevents the population from premature."
   ]
  },
  {
   "cell_type": "code",
   "execution_count": null,
   "metadata": {},
   "outputs": [],
   "source": [
    "# set path for input files\n",
    "input_dir='data/input/' \n",
    "for file in os.listdir(input_dir):\n",
    "    # open each file\n",
    "    with open(input_dir+file) as f:\n",
    "        # check if that file is .txt file or not\n",
    "        if (file[-4:]!='.txt'): continue\n",
    "        # read 5 input strings from file to variables\n",
    "        capacity,class_num,weight,val,label=f.readlines()\n",
    "        # set value for W and m\n",
    "        W,m=int(capacity),int(class_num)\n",
    "        # set value for w \n",
    "        w=weight.replace(' ','').replace('\\n','')\n",
    "        w=[float(num) for num in weight.split(',')]\n",
    "        # set value for v\n",
    "        v=val.replace(' ','').replace('\\n','')\n",
    "        v=[float(num) for num in val.split(',')]\n",
    "        # set value for c\n",
    "        c=label.replace(' ','').replace('\\n','')\n",
    "        c=[float(num) for num in label.split(',')]"
   ]
  },
  {
   "cell_type": "code",
   "execution_count": null,
   "metadata": {},
   "outputs": [],
   "source": [
    "def fitnessFunction(individual):\n",
    "    # create set to memorize the chosen classes\n",
    "    classSet = set()\n",
    "    # initial weight and value of individual\n",
    "    curW, value = 0\n",
    "    # for each item in individual\n",
    "    for i in range(len(individual)):\n",
    "        # skip if the item is not chosen\n",
    "        if (individual[i]==0):\n",
    "            continue\n",
    "        # try adding item to the backpack\n",
    "        curW = curW + w[i]\n",
    "        # if the current weight is more than the storage of backpack return 0 as this individual is not fit the problem\n",
    "        if (curW>W):\n",
    "            return 0\n",
    "        # add \n",
    "        classSet.add(c[i])\n",
    "        value = value + v[i]\n",
    "    return 0 if (len(classSet)>=class_num) else value"
   ]
  },
  {
   "cell_type": "code",
   "execution_count": null,
   "metadata": {},
   "outputs": [],
   "source": [
    "#import library for roulette wheel\n",
    "import numpy.random as npr\n",
    "def select(population):\n",
    "    # find total fitness value\n",
    "    max = sum([fitnessFunction(individual) for individual in population])\n",
    "    # create probability proportion for each individual\n",
    "    selection_props = [fitnessFunction(individual=individual)/max for individual in population]\n",
    "    # return the chosen individual\n",
    "    return population[npr.choice(len(population), p = selection_props)]"
   ]
  },
  {
   "cell_type": "code",
   "execution_count": null,
   "metadata": {},
   "outputs": [],
   "source": [
    "from random import randint\n",
    "\n",
    "\n",
    "# performing crossover\n",
    "def crossover (p1, p2):\n",
    "    # random position to crossover\n",
    "    c = randint(len(p1))\n",
    "    # return the child after crossover 2 genes from parents\n",
    "    return p1[:c]+p2[c:]"
   ]
  },
  {
   "cell_type": "code",
   "execution_count": null,
   "metadata": {},
   "outputs": [],
   "source": [
    "# constance for mutation rate\n",
    "MUTATION_RATE = 0.15\n",
    "# performing mutation on individual\n",
    "def mutation(individual):\n",
    "    # for each parts of individual\n",
    "    for i in individual:\n",
    "        # if this part has mutation\n",
    "        if (rand()<MUTATION_RATE):\n",
    "            # change this part\n",
    "            i = 0 if (i==1) else 1"
   ]
  },
  {
   "cell_type": "code",
   "execution_count": null,
   "metadata": {},
   "outputs": [],
   "source": [
    "def geneticAlgorithm():\n",
    "    # initial population\n",
    "    population"
   ]
  }
 ],
 "metadata": {
  "kernelspec": {
   "display_name": "Python 3.10.8 64-bit",
   "language": "python",
   "name": "python3"
  },
  "language_info": {
   "name": "python",
   "version": "3.10.8"
  },
  "orig_nbformat": 4,
  "vscode": {
   "interpreter": {
    "hash": "a42ccb73e7d9bfdf27e036f1d2b8b681e55fc0743cc5586bc2474d4a60f4b886"
   }
  }
 },
 "nbformat": 4,
 "nbformat_minor": 2
}
