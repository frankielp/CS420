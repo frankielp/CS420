{
 "cells": [
  {
   "cell_type": "markdown",
   "id": "fc345e7c",
   "metadata": {},
   "source": [
    "# Local Beam Search"
   ]
  },
  {
   "cell_type": "markdown",
   "id": "637576a9",
   "metadata": {},
   "source": [
    "## Algorithm Description\n",
    "\n",
    "Beam search is a heuristic search technique that investigates a network by extending the most promising node in a constrained collection. Beam search always increases the W number of best nodes at each level. It advances level by level, descending exclusively from the best W nodes at each level. Beam Search constructs its search tree using breadth-first search. Beam Search uses breadth-first search to build its search tree. At each level of the tree, it creates all the successors of the current level's state. However, it only assesses a W number of states at each level. Other nodes are not taken into consideration.\n",
    "\n",
    "## Pseudo Code\n",
    "\n",
    "*This is pseudo code for function checking if the list contains all classes or not*\n",
    "\n",
    "```\n",
    "    class_flag is list of FALSE for all item in class\n",
    "    FOR item IN knapsack\n",
    "        BEGIN\n",
    "        class_flag[class[item]]=True\n",
    "        END\n",
    "    FOR item FROM 1 TO length of class_flag:\n",
    "        IF (NOT class_flag[i])\n",
    "            return False\n",
    "            ENDIF\n",
    "    return True\n",
    "```\n",
    "*This is pseudo code for Local Beam Search\n",
    "```\n",
    "FUNCTION LBS(k=5)\n",
    "    kmax_val <- kth or smallest item in val\n",
    "    INITIALIZE frontier AS AN ARRAY OF Node\n",
    "    FOR i=0 TO len(val)\n",
    "        IF (weight[i]<= capacity and val[i] IS IN kmax_val)\n",
    "            ADD Node(i,[]) TO frontier\n",
    "    result<-frontier\n",
    "    REPEAT\n",
    "        INITIALIZE successor AS AN ARRAY\n",
    "        FOR EACH cur IN frontier\n",
    "            ADD cur.successor() TO successor\n",
    "        frontier <- kth or smallest item in successor\n",
    "        FOR i=0 TO len(frontier):\n",
    "            result[i] = frontier[i]\n",
    "    UNTIL (len(frontier)==0)\n",
    "\n",
    "    INITIALIZE result_path AS AN ARRAY\n",
    "    result_node <- None\n",
    "    FOR EACH node IN result\n",
    "        IF (there is enough class from root to node)\n",
    "            result_node = node\n",
    "            BREAK\n",
    "\n",
    "    RETURN result_node\n",
    "```\n",
    "\n",
    "## Algorithm Explanation\n",
    "\n",
    "In this practice, local beam search is applied with an aim to find out the maximun value within a weight capacity limitation. Therefore, we started the process with K highest value item, put them in the frontier, and gradually expand the tree while retrieve each item in the frontier with successors are K highest value nodes and have not been chosen in the path. The process terminate when the total weight in the path exceeds the capacity or all the items have been already chosen \n",
    "\n",
    "Step - by - step Algorithm: \n",
    "1. Start with k states generated with highest value\n",
    "2. At each iteration, all the successors of all k states are generated \n",
    "3. If any one is a goal state, stop; else select the k best successors from the complete list and repeat.\n",
    "4. Check if all classes appear in k returned path and select the highest value one.\n",
    "\n",
    "## Evaluate\n",
    "\n",
    "The heuristic cost associated with the node is utilized to choose the best nodes. W denotes the breadth of the beam search. If B is the branching factor, there will always be W B nodes under evaluation at every level, but only W will be picked. When the beam width is decreased, more states are trimmed. \n",
    "When W = 1, the search becomes a hill-climbing search in which the best node is always picked from the successor nodes. If the beam width is set to infinity and the beam search is classified as a breadth-first search, no states are pruned. \n",
    "\n",
    "## Comments\n",
    "\n",
    "The beamwidth constrains the amount of memory required to finish the search, but at the expense of completeness and optimality (possibly that it will not find the best solution). This risk arises from the possibility that the desirable state has been trimmed.\n",
    "\n",
    "## Conclusion\n",
    "Local beam search is a special method in the context of a local search that begins by picking k randomly generated states and then, for each level of the search tree, always evaluates k new states from all the possible successors of the current ones, until it achieves a target. Because local beam search frequently leads to local maxima, a popular approach is to select the next k states at random, with a probability determined by the heuristic assessment of the states. In short, this approach is still most often used to maintain tractability in large systems with insufficient amount of memory to store the entire search tree due to its effect on minimize the demand of storage.\n"
   ]
  },
  {
   "cell_type": "markdown",
   "id": "bcb6f5e6",
   "metadata": {},
   "source": [
    "# Visualization"
   ]
  },
  {
   "cell_type": "markdown",
   "id": "ce2c529a",
   "metadata": {},
   "source": [
    "The tree below is the visualization of how this algorithm proceed a test case with the following parameters:\n",
    "- capacity: 8\n",
    "- number of class: 2\n",
    "- list of value: [1,2,3,4,5]\n",
    "- list of weight: [1,1,3,2,5]\n",
    "- list of class label: [1,1,1,2,2]"
   ]
  },
  {
   "cell_type": "markdown",
   "id": "31903b81",
   "metadata": {},
   "source": [
    "![title](visualize/LBS.png)"
   ]
  },
  {
   "cell_type": "markdown",
   "id": "f3baddda",
   "metadata": {},
   "source": [
    "## Result\n",
    "- Path: [0,1,0,1,1] \n",
    "- Total value: 11\n",
    "- Total weight: 8"
   ]
  },
  {
   "cell_type": "markdown",
   "id": "58471434",
   "metadata": {},
   "source": [
    "# Demo Code"
   ]
  },
  {
   "cell_type": "markdown",
   "id": "f0a05ba3",
   "metadata": {},
   "source": [
    "## Library"
   ]
  },
  {
   "cell_type": "code",
   "execution_count": null,
   "id": "23f22287",
   "metadata": {},
   "outputs": [],
   "source": [
    "import os #read file\n",
    "from tqdm import tqdm #progress bar\n",
    "import time #compute running time"
   ]
  },
  {
   "cell_type": "markdown",
   "id": "fd52fc74",
   "metadata": {},
   "source": [
    "### Term Initiation"
   ]
  },
  {
   "cell_type": "code",
   "execution_count": null,
   "id": "395208dd",
   "metadata": {},
   "outputs": [],
   "source": [
    "num_class=0 #number of class\n",
    "capacity=0 #weight capacity\n",
    "weight=[] #weight list of items\n",
    "val=[] #value list of items\n",
    "label=[] #label list of items"
   ]
  },
  {
   "cell_type": "markdown",
   "id": "9edabf8d",
   "metadata": {},
   "source": [
    "### Helper Function"
   ]
  },
  {
   "cell_type": "code",
   "execution_count": null,
   "id": "b39a24d5",
   "metadata": {},
   "outputs": [],
   "source": [
    "#Function to check whether a path contain at least 1 item in each class\n",
    "def check_class(path,num_class): \n",
    "    class_flag=[False for i in range(num_class+1)]\n",
    "    for item in path:\n",
    "        class_flag[label[item]]=True\n",
    "    for i in range(1,len(class_flag)):\n",
    "        if not class_flag[i]: return False\n",
    "    return True\n",
    "\n",
    "class Node:\n",
    "    def __init__(self,index,path):\n",
    "        self.index = index\n",
    "        self.path=path+[index]\n",
    "    def current_value(self): #compute total value in path\n",
    "        value=0\n",
    "        for i in self.path:\n",
    "            value+=val[i]\n",
    "        return value\n",
    "    def current_weight(self): #compute total weight in path\n",
    "        w=0\n",
    "        for i in self.path:\n",
    "            w+=weight[i]\n",
    "        return w\n",
    "    def successor(self): #generate successor\n",
    "        lst=[]\n",
    "        for i in range(len(val)):\n",
    "            if i not in self.path and self.current_weight()+weight[i]<=capacity: #check goal\n",
    "                lst.append(Node(i,self.path))\n",
    "        return lst"
   ]
  },
  {
   "cell_type": "code",
   "execution_count": null,
   "id": "6b2bef73",
   "metadata": {},
   "outputs": [],
   "source": [
    "def LBS(k=5): \n",
    "    # initial state\n",
    "    kmax_val=sorted(val,reverse=True)[:min(k,len(val))]\n",
    "    frontier=[Node(i,[]) for i in range(len(val)) if weight[i]<=capacity and val[i] in kmax_val]\n",
    "    result=frontier\n",
    "    while True:\n",
    "        successor=[]\n",
    "        for cur in frontier:\n",
    "            successor+=cur.successor()\n",
    "        frontier=sorted(successor, key= lambda x: x.current_value(),reverse=True)[:min(k,len(successor))]\n",
    "        if len(frontier)==0: break\n",
    "        for i in range(len(frontier)):\n",
    "            result[i]=frontier[i]\n",
    "    \n",
    "    result_path=[]\n",
    "    \n",
    "    #check class\n",
    "    result_node =None\n",
    "    for node in result:\n",
    "        if check_class(node.path,num_class):\n",
    "            result_node=node\n",
    "            break\n",
    "    return result_node \n",
    "   "
   ]
  },
  {
   "cell_type": "markdown",
   "id": "9a93a439",
   "metadata": {},
   "source": [
    "# Visualize"
   ]
  },
  {
   "cell_type": "code",
   "execution_count": null,
   "id": "601819ef",
   "metadata": {},
   "outputs": [
    {
     "name": "stderr",
     "output_type": "stream",
     "text": [
      " 64%|██████▎   | 7/11 [00:00<00:00, 57.06it/s]"
     ]
    },
    {
     "name": "stdout",
     "output_type": "stream",
     "text": [
      "input_001.txt\n",
      "The result is: ['0', '1', '0', '0', '1', '0', '0', '0', '0', '1']\n",
      "With the value of: 117 and total weight: 100\n",
      "Complete searching in: 0.005988359451293945 seconds\n",
      "\n",
      "input_002.txt\n",
      "The result is: ['1', '1', '1', '1', '1', '1', '1', '1', '1', '1']\n",
      "With the value of: 1000 and total weight: 10\n",
      "Complete searching in: 0.0009968280792236328 seconds\n",
      "\n",
      "input_003.txt\n",
      "The result is: ['1', '1', '1', '0', '1', '1', '1', '1', '1', '1', '1', '1', '1', '1', '1', '1', '1', '1', '1', '1', '1', '1', '1']\n",
      "With the value of: 14211 and total weight: 8729\n",
      "Complete searching in: 0.0049898624420166016 seconds\n",
      "\n",
      "input_004.txt\n",
      "The result is: []\n",
      "With the value of: 0 and total weight: 0\n",
      "Complete searching in: 0.0015821456909179688 seconds\n",
      "\n"
     ]
    },
    {
     "name": "stderr",
     "output_type": "stream",
     "text": [
      "\r",
      " 27%|████████████                                | 3/11 [00:02<00:05,  1.42it/s]"
     ]
    },
    {
     "name": "stdout",
     "output_type": "stream",
     "text": [
      "input_010.txt\n",
      "The result is: ['0', '0', '0', '0', '0', '1', '1', '0', '0', '0', '0', '1', '0', '0', '0', '0', '0', '0', '0', '0', '0', '1', '0', '0', '0', '0', '0', '0', '0', '0', '0', '1', '0', '0', '0', '0', '0', '0', '0', '0', '0', '0', '0', '0', '0', '0', '0', '0', '0', '1', '0', '0', '0', '0', '0', '0', '1', '0', '0', '1', '0', '0', '0', '0', '0', '0', '1', '0', '0', '0', '0', '0', '0', '0', '0', '0', '0', '0', '0', '0', '0', '1', '0', '0', '0', '0', '0', '0', '0', '0', '1', '0', '0', '0', '1', '1', '0', '0', '0', '1', '0', '0', '0', '0', '0', '0', '0', '0', '0', '0', '0', '0', '1', '0', '0', '0', '0', '0', '0', '0', '0', '0', '0', '0', '0', '0', '0', '0', '0', '0', '0', '0', '0', '0', '0', '0', '0', '0', '0', '0', '0', '0', '0', '0', '0', '0', '0', '0', '0', '0', '0', '0', '0', '1', '0', '0', '0', '0', '0', '0', '0', '0', '0', '0', '0', '0', '0', '0', '0', '0', '0', '0', '0', '0', '0', '0', '0', '0', '0', '0', '0', '0', '0', '0', '0', '1', '1', '0', '0', '0', '0', '0', '0', '0', '0', '0', '1', '0', '1', '0', '0', '0', '0', '0', '0', '0', '0', '1', '0', '0', '0', '0', '0', '0', '0', '0', '0', '0', '0', '0', '0', '0', '1', '0', '0', '0', '0', '0', '0', '0', '1', '0', '0', '0', '0', '0', '0', '0', '1', '0', '0', '0', '0', '1', '0', '1', '0', '1', '0', '0', '0', '0', '0', '0', '0', '0', '0', '1', '0', '0', '0', '0', '0', '0', '1', '1', '0', '0', '0', '0', '0', '0', '0', '0', '1', '0', '1', '1', '0', '0', '0', '0', '0', '0', '0', '0', '0', '0', '0', '0', '0', '0', '0', '0', '0', '0', '0', '1', '0', '1', '0', '0', '1', '0', '0', '0', '0', '0', '0', '1', '0', '0', '0', '0', '0', '0', '0', '0', '0', '0', '0', '0', '0', '0', '0', '0', '0', '0', '1', '0', '0', '0', '1', '0', '1', '0', '1', '0', '0', '0', '0', '0', '0', '0', '0', '1', '0', '0', '0', '0', '0', '0', '0', '1', '0', '0', '0', '0', '0', '0', '0', '0', '1', '0', '0', '0', '1', '0', '0', '0', '0', '0', '0', '0', '1', '0', '0', '0', '0', '0', '0', '0', '0', '1', '1', '0', '0', '0', '0', '0', '1', '0', '0', '1', '0', '0', '0', '1', '0', '0', '1', '0', '0', '0', '1', '1', '0', '0', '0', '0', '0', '0', '0', '0', '0', '0', '1', '0', '0', '0', '0', '0', '0', '0', '0', '0', '0', '0', '1', '0', '0', '0', '0', '0', '0', '0', '0', '0', '0', '1', '0', '0', '0', '0', '0', '0', '0', '0', '0', '0', '0', '0', '0', '0', '0', '0', '0', '0', '0', '0', '0', '0', '0', '0', '0', '0', '0', '0', '0', '0', '0', '0', '0', '0', '0', '0', '0', '0', '1', '1', '0', '0', '0', '0', '0', '0', '0', '0', '0', '0', '1', '0', '0', '0', '0', '0', '0', '0', '0', '0', '0', '0', '0', '0', '0', '0', '0', '0', '0', '0', '0', '0', '0', '0', '0', '0', '0', '0', '0', '0', '0', '0', '0', '0', '0', '0', '1', '0', '0', '0', '0', '0', '1', '0', '0', '0', '0', '0', '0', '0', '0', '0', '0', '0', '0', '1', '0', '1', '0', '0', '0', '0', '0', '0', '0', '0', '0', '0', '0', '0', '0', '1', '1', '0', '0', '0', '0', '0', '0', '0', '0', '0', '0', '0', '0', '0', '0', '0', '0', '0', '1', '0', '0', '0', '0', '0', '1', '1', '0', '0', '0', '0', '0', '0', '0', '0', '0', '0', '0', '0', '0', '0', '0', '0', '0', '0', '0', '0', '0', '0', '0', '0', '1', '0', '0', '0', '1', '0', '0', '1', '0', '0', '0', '0', '0', '0', '0', '0', '0', '1', '0', '0', '0', '0', '0', '0', '0', '0', '1', '0', '1', '0', '0', '0', '0', '0', '1', '1', '0', '0', '0', '0', '0', '0', '0', '0', '0', '0', '0', '0', '0', '0', '1', '0', '0', '0', '0', '0', '0', '0', '0', '0', '0', '0', '0', '0', '0', '1', '0', '0', '0', '0', '0', '0', '0', '0', '0', '1', '0', '0', '0', '0', '0', '0', '0', '0', '0', '0', '0', '0', '0', '0', '0', '0', '0', '0', '0', '0', '0']\n",
      "With the value of: 75362 and total weight: 32128\n",
      "Complete searching in: 2.077489137649536 seconds\n",
      "\n"
     ]
    },
    {
     "name": "stderr",
     "output_type": "stream",
     "text": [
      "\r",
      " 36%|████████████████                            | 4/11 [02:12<04:57, 42.46s/it]"
     ]
    },
    {
     "name": "stdout",
     "output_type": "stream",
     "text": [
      "input_007.txt\n",
      "The result is: ['1', '1', '1', '1', '1', '1', '1', '1', '1', '1', '1', '1', '1', '1', '1', '1', '1', '1', '1', '1', '1', '1', '1', '1', '1', '1', '1', '1', '1', '1', '1', '1', '1', '1', '1', '1', '1', '1', '1', '1', '1', '1', '1', '1', '1', '1', '1', '1', '1', '1', '1', '1', '1', '1', '1', '1', '1', '1', '1', '1', '1', '1', '1', '1', '1', '1', '1', '1', '1', '1', '1', '1', '1', '1', '1', '1', '1', '1', '1', '1', '1', '1', '1', '1', '1', '1', '1', '1', '1', '1', '1', '1', '1', '1', '1', '1', '1', '1', '1', '1', '1', '1', '1', '1', '1', '1', '1', '1', '1', '1', '1', '1', '1', '1', '1', '1', '1', '1', '1', '1', '1', '1', '1', '1', '1', '1', '1', '1', '1', '1', '1', '1', '1', '1', '1', '1', '1', '1', '1', '1', '1', '1', '1', '1', '1', '1', '1', '1', '1', '1', '1', '1', '1', '1', '1', '1', '1', '1', '1', '1', '1', '1', '1', '1', '1', '1', '1', '1', '1', '1', '1', '1', '1', '1', '1', '1', '1', '1', '1', '1', '1', '1', '1', '1', '1', '1', '1', '1', '1', '1', '1', '1', '1', '1', '1', '1', '1', '1', '1', '1', '1', '1', '1', '1', '1', '1', '1', '1', '1', '1', '1', '1', '1', '1', '1', '1', '1', '1', '1', '1', '1', '1', '1', '1', '1', '1', '1', '1', '1', '1', '1', '1', '1', '1', '1', '1', '1', '1', '1', '1', '1', '1', '1', '1', '1', '1', '1', '1', '1', '1', '1', '1', '1', '1', '1', '1', '1', '1', '1', '1', '1', '1', '1', '1', '1', '1', '1', '1', '1', '1', '1', '1', '1', '1', '1', '1', '1', '1', '1', '1', '1', '1', '1', '1', '1', '1', '1', '1', '1', '1', '1', '1', '1', '1', '1', '1', '1', '1', '1', '1', '1', '1', '1', '1', '1', '1', '1', '1', '1', '1', '1', '1', '1', '1', '1', '1', '1', '1', '1', '1', '1', '1', '1', '1', '1', '1', '1', '1', '1', '1', '1', '1', '1', '1', '1', '1', '1', '1', '1', '1', '1', '1', '1', '1', '1', '1', '1', '1', '1', '1', '1', '1', '1', '1', '1', '1', '1', '1', '1', '1', '1', '1', '1', '1', '1', '1', '1', '1', '1', '1', '1', '1', '1', '1', '1', '1', '1', '1', '1', '1', '1', '1', '1', '1', '1', '1', '1', '1', '1', '1', '1', '1', '1', '1', '1', '1', '1', '1', '1', '1', '1', '1', '1', '1', '1', '1', '1', '1', '1', '1', '1', '1', '1', '1', '1', '1', '1', '1', '1', '1', '1', '1', '1', '1', '1', '1', '1', '1', '1', '1', '1', '1', '1', '1', '1', '1', '1', '1', '1', '1', '1', '1', '1', '1', '1', '1', '1', '1', '1', '1', '1', '1', '1', '1', '1', '1', '1', '1', '1', '1', '1', '1', '1', '1', '1', '1', '1', '1', '1', '1', '1', '1', '1', '1', '1', '1', '1', '1', '1', '1', '1', '1', '1', '1', '1', '1', '1', '1', '1', '1', '1', '1', '1', '1', '1', '1', '1', '1', '1', '1', '1', '1', '1', '1', '1', '1', '1', '1', '1', '1', '1', '1', '1', '1', '1', '1', '1', '1', '1', '1', '1', '1', '1', '1', '1', '1', '1', '1', '1', '1', '1', '1', '1', '1', '1', '1', '1', '1', '1', '1', '1', '1', '1', '1', '1', '1', '1', '1', '1', '1', '1', '1', '1', '1', '1', '1', '1', '1', '1', '1', '1', '1', '1', '1', '1', '1', '1', '1', '1', '1', '1', '1', '1', '1', '1', '1', '1', '1', '1', '1', '1', '1', '1', '1', '1', '1', '1', '1', '1', '1', '1', '1', '1', '1', '1', '1', '1', '1', '1', '1', '1', '1', '1', '1', '1', '1', '1', '1', '1', '1', '1', '1', '1', '1', '1', '1', '1', '1', '1', '1', '1', '1', '1', '1', '1', '1', '1', '1', '1', '1', '1', '1', '1', '1', '1', '1', '1', '1', '1', '1', '1', '1', '1', '1', '1', '1', '1', '1', '1', '1', '1', '1', '1', '1', '1', '1', '1', '1', '1', '1', '1', '1', '1', '1', '1', '1', '1', '1', '1', '1', '1', '1', '1', '1', '1', '1', '1', '1', '1', '1', '1', '1', '1', '1', '1', '1', '1', '1', '1', '1', '1', '1', '1', '1', '1', '1', '1', '1', '1', '1', '1', '1', '1', '1', '1', '1', '1', '1', '1', '1', '1', '1', '1', '1', '1', '1', '1', '1', '1', '1', '1', '1', '1', '1', '1', '1', '1', '1', '1', '1', '1', '1', '1', '1', '1', '1', '1', '1', '1', '1', '1', '1', '1', '1', '1', '1', '1', '1', '1', '1', '1', '1', '1', '1', '1', '1', '1', '1', '1', '1', '1', '1', '1', '1', '1', '1', '1', '1', '1', '1', '1', '1', '1', '1', '1', '1', '1', '1', '1', '1', '1', '1', '1', '1', '1', '1', '1', '1', '1', '1', '1', '1', '1', '1', '1', '1', '1', '1', '1', '1', '1', '1', '1', '1', '1', '1', '1', '1', '1', '1', '1', '1', '1', '1', '1', '1', '1', '1', '1', '1', '1', '1', '1', '1', '1', '1', '1', '1', '1', '1', '1', '1', '1', '1', '1', '1', '1', '1', '1', '1', '1', '1', '1', '1', '1', '1', '1', '1', '1', '1', '1', '1', '1', '1', '1', '1', '1', '1', '1', '1', '1', '1', '1', '1', '1', '1', '1', '1', '1', '1', '1', '1', '1', '1', '1', '1', '1', '1', '1', '1', '1', '1', '1', '1', '1', '1', '1', '1', '1', '1', '1', '1', '1', '1', '1', '1', '1', '1', '1', '1', '1', '1', '1', '1', '1', '1', '1', '1', '1', '1', '1', '1', '1', '1', '1', '1', '1', '1', '1', '1', '1', '1', '1', '1', '1', '1', '1', '1', '1', '1', '1', '1', '1', '1', '1', '1', '1', '1', '1', '1', '1', '1', '1', '1', '1', '1', '1', '1', '1', '1', '1', '1', '1', '1', '1', '1', '1', '1', '1', '1', '1', '1', '1', '1', '1', '1', '1', '1', '1', '1', '1', '1', '1', '1', '1', '1', '1', '1', '1', '1', '1', '1', '1', '1', '1', '1', '1', '1', '1', '1', '1', '1', '1', '1', '1', '1', '1', '1', '1', '1']\n",
      "With the value of: 100000 and total weight: 1000\n",
      "Complete searching in: 130.12034487724304 seconds\n",
      "\n",
      "input_006.txt\n",
      "The result is: ['1', '1', '1', '1', '1', '1', '1', '1', '1', '1', '1', '1', '1', '1', '1', '1', '1', '1', '1', '1', '1', '1', '1', '1', '1', '1', '1', '1', '1', '1', '1', '1', '1', '1', '1', '1', '1', '1', '1', '1', '1', '1', '1', '1', '1', '1', '1', '1', '1', '1']\n",
      "With the value of: 5000 and total weight: 50\n",
      "Complete searching in: 0.04329180717468262 seconds\n",
      "\n",
      "input_002.txt\n",
      "The result is: ['1', '1', '1', '1', '1', '1', '1', '1', '1', '1']\n",
      "With the value of: 1000 and total weight: 10\n",
      "Complete searching in: 0.0004439353942871094 seconds\n",
      "\n",
      "input_003.txt\n",
      "The result is: ['1', '1', '1', '0', '1', '1', '1', '1', '1', '1', '1', '1', '1', '1', '1', '1', '1', '1', '1', '1', '1', '1', '1']\n",
      "With the value of: 14211 and total weight: 8729\n",
      "Complete searching in: 0.003175020217895508 seconds\n",
      "\n",
      "input_001.txt\n",
      "The result is: ['0', '1', '0', '0', '1', '0', '0', '0', '0', '1']\n",
      "With the value of: 117 and total weight: 100\n",
      "Complete searching in: 8.296966552734375e-05 seconds\n",
      "\n"
     ]
    },
    {
     "name": "stderr",
     "output_type": "stream",
     "text": [
      "\r",
      " 82%|████████████████████████████████████        | 9/11 [02:15<00:26, 13.29s/it]"
     ]
    },
    {
     "name": "stdout",
     "output_type": "stream",
     "text": [
      "input_008.txt\n",
      "The result is: ['1', '0', '1', '1', '0', '0', '0', '0', '0', '1', '1', '1', '0', '0', '0', '0', '0', '1', '0', '0', '0', '1', '1', '1', '0', '0', '1', '0', '1', '1', '0', '1', '0', '0', '0', '0', '1', '1', '1', '1', '0', '1', '1', '0', '0', '1', '0', '0', '0', '0', '1', '0', '1', '1', '0', '0', '0', '0', '1', '1', '0', '1', '1', '0', '1', '1', '1', '0', '1', '0', '0', '1', '0', '0', '1', '1', '1', '1', '1', '0', '0', '1', '1', '1', '1', '0', '1', '0', '1', '0', '0', '0', '0', '0', '0', '1', '1', '1', '0', '1', '0', '1', '1', '0', '0', '0', '0', '0', '0', '0', '1', '0', '1', '1', '0', '0', '0', '1', '1', '1', '0', '0', '1', '0', '1', '0', '0', '0', '0', '0', '0', '1', '0', '1', '0', '0', '1', '1', '0', '0', '0', '1', '0', '1', '0', '0', '1', '1', '0', '0', '1', '1', '1', '0', '1', '0', '0', '0', '1', '0', '0', '1', '1', '1', '0', '0', '0', '0', '1', '1', '1', '0', '1', '0', '1', '0', '0', '0', '0', '0', '1', '1', '0', '0', '0', '1', '1', '1', '0', '0', '0', '1', '0', '1', '1', '1', '0', '1', '1', '0', '0', '1', '0', '0', '0', '0', '1', '0', '1', '0', '1', '1', '0', '0', '0', '0', '1', '1', '0', '0', '0', '0', '0', '0', '0', '1', '1', '1', '0', '0', '0', '1', '0', '0', '0', '0', '0', '0', '1', '0', '1', '0', '1', '1', '0', '1', '1', '0', '1', '1', '0', '0', '0', '0', '0', '1', '1', '0', '1', '1', '0', '0', '0', '1', '1', '0', '1', '0', '1', '1', '0', '0', '0', '0', '0', '1', '1', '1', '1', '0', '0', '0', '1', '0', '0', '0', '0', '1', '0', '0', '0', '1', '1', '1', '0', '0', '1', '1', '1', '1', '1', '1', '1', '0', '1', '1', '1', '0', '0', '1', '1', '1', '0', '0', '1', '1', '0', '1', '0', '1', '0', '0', '0', '0', '0', '1', '1', '1', '1', '1', '1', '0', '0', '1', '1', '0', '1', '1', '0', '0', '0', '0', '0', '1', '0', '1', '1', '0', '1', '1', '1', '1', '0', '0', '0', '0', '0', '1', '1', '1', '0', '0', '0', '0']\n",
      "With the value of: 128078 and total weight: 84919\n",
      "Complete searching in: 3.1057369709014893 seconds\n",
      "\n"
     ]
    },
    {
     "name": "stderr",
     "output_type": "stream",
     "text": [
      "100%|███████████████████████████████████████████| 11/11 [03:07<00:00, 17.00s/it]"
     ]
    },
    {
     "name": "stdout",
     "output_type": "stream",
     "text": [
      "input_009.txt\n",
      "The result is: ['1', '1', '1', '1', '1', '1', '0', '0', '1', '0', '1', '0', '1', '1', '0', '1', '1', '0', '1', '1', '0', '0', '1', '0', '1', '0', '1', '1', '1', '1', '0', '0', '1', '1', '0', '1', '0', '1', '1', '1', '1', '0', '1', '1', '1', '1', '1', '0', '1', '0', '0', '1', '1', '1', '1', '1', '1', '1', '1', '1', '0', '0', '1', '1', '1', '1', '1', '1', '1', '0', '1', '1', '0', '0', '0', '1', '0', '0', '1', '0', '1', '1', '1', '0', '1', '0', '1', '1', '0', '1', '1', '1', '1', '1', '1', '1', '1', '1', '1', '1', '1', '0', '0', '0', '1', '0', '0', '1', '0', '1', '1', '0', '0', '0', '1', '1', '1', '0', '1', '1', '1', '0', '1', '1', '1', '1', '0', '1', '1', '1', '1', '1', '0', '0', '0', '1', '0', '0', '1', '1', '0', '1', '1', '0', '1', '1', '1', '1', '0', '1', '1', '1', '1', '1', '1', '0', '0', '0', '1', '1', '1', '1', '1', '1', '0', '1', '0', '1', '1', '1', '1', '1', '0', '1', '0', '0', '1', '0', '1', '1', '1', '1', '1', '1', '0', '1', '1', '1', '0', '1', '1', '0', '0', '0', '1', '1', '1', '0', '1', '1', '1', '1', '1', '1', '0', '1', '0', '1', '1', '1', '1', '1', '1', '0', '0', '1', '0', '1', '1', '1', '0', '0', '0', '1', '0', '1', '1', '1', '1', '0', '0', '1', '1', '0', '1', '1', '0', '1', '0', '1', '1', '1', '0', '0', '0', '1', '1', '1', '0', '0', '0', '0', '0', '1', '1', '1', '1', '1', '0', '0', '1', '1', '1', '1', '1', '0', '0', '1', '1', '0', '1', '0', '0', '1', '1', '0', '1', '1', '1', '0', '0', '1', '0', '0', '1', '1', '1', '0', '0', '0', '0', '1', '0', '1', '0', '1', '0', '1', '0', '1', '0', '1', '1', '0', '1', '1', '1', '1', '0', '1', '1', '1', '1', '0', '0', '0', '0', '0', '0', '1', '1', '0', '1', '1', '0', '0', '1', '1', '0', '1', '1', '1', '1', '1', '1', '0', '0', '0', '1', '1', '0', '1', '0', '0', '1', '1', '1', '1', '0', '0', '1', '0', '1', '0', '0', '1', '1', '0', '0', '1', '1', '1', '1', '1', '0', '1', '1', '1', '1', '0', '0', '1', '0', '1', '0', '0', '1', '0', '1', '1', '1', '0', '0', '0', '0', '1', '1', '1', '1', '1', '0', '0', '1', '1', '0', '1', '1', '0', '1', '1', '0', '1', '1', '0', '1', '1', '1', '1', '0', '1', '1', '1', '0', '1', '1', '1', '0', '0', '1', '1', '1', '1', '1', '0', '1', '1', '1', '0', '1', '0', '0', '1', '0', '1', '1', '0', '0', '0', '1', '1', '1', '1', '1', '0', '1', '1', '1', '1', '1', '0', '1', '1', '1', '1', '1', '0', '1', '1', '1', '0', '1', '1', '0', '1', '1', '1', '0', '1', '1', '1', '1', '0', '0', '1', '1', '1', '0', '1', '0', '0', '1', '1', '0', '0', '0', '1', '1', '1', '1', '0', '0', '1', '1', '0', '1', '0', '0', '1', '0', '0', '1', '1', '0', '0', '1', '0', '1', '0', '1', '1', '0', '1', '1', '1', '1', '1', '1', '0', '1', '0', '1', '0', '1', '1', '0', '1', '1', '0', '1', '1', '1', '1', '1', '1', '1', '1', '1', '0', '0', '0', '1', '0', '0', '1', '1', '1', '1', '1', '0', '1', '1', '0', '1', '1', '0', '0', '0', '0', '1', '1', '1', '0', '1', '0', '0', '0', '1', '1', '1', '1', '1', '1', '0', '1', '1', '1', '1', '1', '1', '1', '1', '0', '0', '0', '1', '1', '0', '0', '1', '1', '1', '1', '0', '1', '1', '0', '0', '1', '0', '0', '0', '0', '1', '1', '1', '1', '1', '0', '0', '0', '1', '1', '1', '0', '0', '0', '1', '1', '1', '1', '0', '1', '1', '1', '1', '1', '1', '1', '1', '1', '1', '1', '1', '1', '0', '0', '1', '1', '1', '0', '1', '1', '1', '1', '0', '0', '1', '1', '1', '0', '1', '0', '1', '1', '1', '1', '0', '1', '1', '1', '0', '0', '1', '0', '0', '0', '1', '0', '0', '0', '0', '1', '1', '0', '0', '1', '0', '0', '0', '0', '1', '1', '0', '0', '1', '1', '1', '1', '1', '1', '1', '1', '0', '1', '1', '1', '1', '0', '1', '1', '0', '0', '1', '0', '0', '1', '1', '1', '0', '1', '1', '0', '1', '0', '1', '0', '0', '1', '0', '1', '1', '1', '1', '1', '1', '1', '1', '1', '0', '1', '0', '1', '1', '1', '1', '1', '0', '0', '1', '1', '1', '1', '1', '1', '0', '1', '1', '1', '1', '0', '1', '1', '1', '0', '1', '0', '0', '1', '1', '1', '0', '1', '0', '1', '1', '0', '0', '1', '0', '0', '1', '0', '0', '1', '1', '0', '0', '0', '1', '0', '1', '1', '0', '0', '0', '0', '0', '1', '1', '1', '1', '0', '1', '0', '0', '1', '1', '1', '1', '1', '1', '0', '1', '1', '1', '0', '1', '0', '1', '1', '0', '1', '1', '0', '0', '1', '1', '1', '1', '0', '0', '1', '0', '0', '0', '1', '1']\n",
      "With the value of: 353132 and total weight: 253316\n",
      "Complete searching in: 51.56201910972595 seconds\n",
      "\n",
      "input_005 (trap).txt\n",
      "The result is: []\n",
      "With the value of: 0 and total weight: 0\n",
      "Complete searching in: 6.079673767089844e-05 seconds\n",
      "\n"
     ]
    },
    {
     "name": "stderr",
     "output_type": "stream",
     "text": [
      "\n"
     ]
    }
   ],
   "source": [
    "input_dir='data/input/'\n",
    "output_dir='data/output03/'\n",
    "for file in tqdm(os.listdir(input_dir)):\n",
    "    with open(input_dir+file) as f_read:\n",
    "        if (file[-4:]!='.txt'): continue #to eliminate.DS_store\n",
    "        capacity,num_class,weight,val,label=f_read.readlines()\n",
    "        \n",
    "    #set capacity and number of class\n",
    "    capacity,num_class=int(capacity),int(num_class)\n",
    "\n",
    "    #set weight\n",
    "    weight=weight.replace(' ','').replace('\\n','')\n",
    "    weight=weight.split(',')\n",
    "    weight=[eval(i) for i in weight]\n",
    "\n",
    "    #set value\n",
    "    val=val.replace(' ','').replace('\\n','')\n",
    "    val=val.split(',')\n",
    "    val=[eval(i) for i in val]\n",
    "\n",
    "    #set label\n",
    "    label=label.replace(' ','').replace('\\n','')\n",
    "    label=label.split(',')\n",
    "    label=[eval(i) for i in label]\n",
    "    \n",
    "    #Calculate execution time\n",
    "    start=time.time()\n",
    "    result=LBS()\n",
    "    end=time.time()\n",
    "    file_index=file[6:-4]\n",
    "    \n",
    "    #Process file\n",
    "    output_file=f'output_{file_index}.txt'\n",
    "    chosen_item=[]\n",
    "    if result:\n",
    "        for item in range(len(val)):\n",
    "            if item not in result.path:\n",
    "                chosen_item.append('0')\n",
    "            else:\n",
    "                chosen_item.append('1')\n",
    "        result_val=result.current_value()\n",
    "        total_weight=result.current_weight()\n",
    "    else:\n",
    "        result_val=0\n",
    "        total_weight=0\n",
    "    with open(output_dir+output_file,'w+') as f_write:\n",
    "        f_write.write(str(result_val)+'\\n')\n",
    "        f_write.write(str(', '.join(chosen_item)))\n",
    "    \n",
    "    # print the result list, highest value and total time needed to run the algorithm\n",
    "    print(file)\n",
    "    print(f'The result is: {chosen_item}\\nWith the value of: {result_val} and total weight: {total_weight}')\n",
    "    print(f'Complete searching in: {end-start} seconds\\n')\n"
   ]
  }
 ],
 "metadata": {
  "kernelspec": {
   "display_name": "Python 3 (ipykernel)",
   "language": "python",
   "name": "python3"
  },
  "language_info": {
   "codemirror_mode": {
    "name": "ipython",
    "version": 3
   },
   "file_extension": ".py",
   "mimetype": "text/x-python",
   "name": "python",
   "nbconvert_exporter": "python",
   "pygments_lexer": "ipython3",
   "version": "3.8.11"
  },
  "vscode": {
   "interpreter": {
    "hash": "bea42e1b0e07028483ba0ff26b9b4dc4fa162e9d0ccb6b0507d54b9d42d30653"
   }
  }
 },
 "nbformat": 4,
 "nbformat_minor": 5
}
