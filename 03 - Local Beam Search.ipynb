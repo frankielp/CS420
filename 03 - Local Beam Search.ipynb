{
 "cells": [
  {
   "cell_type": "markdown",
   "id": "823cf273",
   "metadata": {},
   "source": [
    "# Local beam Search"
   ]
  },
  {
   "cell_type": "markdown",
   "id": "f0a05ba3",
   "metadata": {},
   "source": [
    "## Library"
   ]
  },
  {
   "cell_type": "code",
   "execution_count": 1,
   "id": "23f22287",
   "metadata": {},
   "outputs": [],
   "source": [
    "import os"
   ]
  },
  {
   "cell_type": "markdown",
   "id": "fc345e7c",
   "metadata": {},
   "source": [
    "# Local Beam Search"
   ]
  },
  {
   "cell_type": "markdown",
   "id": "22a333a0",
   "metadata": {},
   "source": [
    "Search Algorithm: \n",
    "1. Start with k states generated with highest value\n",
    "2. At each iteration, all the successors of all k states are generated \n",
    "3. If any one is a goal state, stop; else select the k best successors from the complete list and repeat."
   ]
  },
  {
   "cell_type": "markdown",
   "id": "f60c7357",
   "metadata": {},
   "source": [
    "### Term Initiation"
   ]
  },
  {
   "cell_type": "code",
   "execution_count": 2,
   "id": "a478dba8",
   "metadata": {},
   "outputs": [],
   "source": [
    "num_class=0\n",
    "capacity=0\n",
    "weight=[]\n",
    "val=[]\n",
    "label=[]"
   ]
  },
  {
   "cell_type": "code",
   "execution_count": 3,
   "id": "6fa23fee",
   "metadata": {},
   "outputs": [],
   "source": [
    "def check_class(path,num_class):\n",
    "    class_flag=[False for i in range(num_class+1)]\n",
    "    for item in path:\n",
    "        class_flag[label[item]]=True\n",
    "    for i in range(1,len(class_flag)):\n",
    "        if not class_flag[i]: return False\n",
    "    return True"
   ]
  },
  {
   "cell_type": "code",
   "execution_count": 4,
   "id": "6b2bef73",
   "metadata": {},
   "outputs": [],
   "source": [
    "\n",
    "class Node:\n",
    "    def __init__(self,index,path):\n",
    "        self.index = index\n",
    "        self.path=path+[index]\n",
    "    def current_value(self):\n",
    "        value=0\n",
    "        for i in self.path:\n",
    "            value+=val[i]\n",
    "        return value\n",
    "    def current_weight(self):\n",
    "        w=0\n",
    "        for i in self.path:\n",
    "            w+=weight[i]\n",
    "        return w\n",
    "    def successor(self):\n",
    "        lst=[]\n",
    "        for i in range(len(val)):\n",
    "            if i not in self.path and self.current_weight()+weight[i]<=capacity: #check goal\n",
    "                lst.append(Node(i,self.path))\n",
    "        return lst\n",
    "    \n",
    "def LBS(k=5):\n",
    "    # initial state\n",
    "    kmax_val=sorted(val,reverse=True)[:min(k,len(val))]\n",
    "    frontier=[Node(i,[]) for i in item if weight[i]<=capacity and item[i] in kmax_val]\n",
    "    result=frontier\n",
    "    while True:\n",
    "        successor=[]\n",
    "        for cur in frontier:\n",
    "            successor+=cur.successor()\n",
    "        frontier=sorted(successor, key= lambda x: x.current_value(),reverse=True)[:min(k,len(successor))]\n",
    "        if len(frontier)==0: break\n",
    "        for i in range(len(frontier)):\n",
    "            result[i]=frontier[i]\n",
    "    \n",
    "    result_path=[]\n",
    "    #check class\n",
    "    for node in result:\n",
    "        if check_class(node.path,num_class):\n",
    "            result_path=node.path\n",
    "            break\n",
    "    return result_path \n",
    "\n",
    "    \n",
    "    \n",
    "        \n",
    "        \n",
    " \n",
    "\n",
    "        "
   ]
  },
  {
   "cell_type": "markdown",
   "id": "4a53d399",
   "metadata": {},
   "source": [
    "# Visualize"
   ]
  },
  {
   "cell_type": "code",
   "execution_count": 5,
   "id": "a0498a3c",
   "metadata": {},
   "outputs": [
    {
     "name": "stdout",
     "output_type": "stream",
     "text": [
      "input_001.txt [9, 1, 4]\n"
     ]
    }
   ],
   "source": [
    "# input_dir='data/input/'\n",
    "input_dir='data/tmp/'\n",
    "for file in os.listdir(input_dir):\n",
    "    with open(input_dir+file) as f:\n",
    "        if (file[-4:]!='.txt'): continue\n",
    "        #set capacity and number of class\n",
    "        capacity,num_class,weight,val,label=f.readlines()\n",
    "        capacity,num_class=int(capacity),int(num_class)\n",
    "        \n",
    "        #set weight\n",
    "        weight=weight.replace(' ','').replace('\\n','')\n",
    "        weight=weight.split(',')\n",
    "        weight=[eval(i) for i in weight]\n",
    "        \n",
    "        #set value\n",
    "        val=val.replace(' ','').replace('\\n','')\n",
    "        val=val.split(',')\n",
    "        val=[eval(i) for i in val]\n",
    "        \n",
    "        #set label\n",
    "        label=label.replace(' ','').replace('\\n','')\n",
    "        label=label.split(',')\n",
    "        label=[eval(i) for i in label]\n",
    "        \n",
    "        #item  index:value\n",
    "        item={}\n",
    "        for i in range(len(val)):\n",
    "            item[i]=val[i]\n",
    "        print(file,LBS())\n",
    "        "
   ]
  }
 ],
 "metadata": {
  "kernelspec": {
   "display_name": "Python 3 (ipykernel)",
   "language": "python",
   "name": "python3"
  },
  "language_info": {
   "codemirror_mode": {
    "name": "ipython",
    "version": 3
   },
   "file_extension": ".py",
   "mimetype": "text/x-python",
   "name": "python",
   "nbconvert_exporter": "python",
   "pygments_lexer": "ipython3",
   "version": "3.8.11"
  }
 },
 "nbformat": 4,
 "nbformat_minor": 5
}
