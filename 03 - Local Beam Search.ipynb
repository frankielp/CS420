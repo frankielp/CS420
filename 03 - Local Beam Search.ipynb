{
 "cells": [
  {
   "cell_type": "markdown",
   "id": "823cf273",
   "metadata": {},
   "source": [
    "# Local beam Search"
   ]
  },
  {
   "cell_type": "markdown",
   "id": "f0a05ba3",
   "metadata": {},
   "source": [
    "## Input"
   ]
  },
  {
   "cell_type": "code",
   "execution_count": 1,
   "id": "23f22287",
   "metadata": {},
   "outputs": [],
   "source": [
    "import os"
   ]
  },
  {
   "cell_type": "code",
   "execution_count": 37,
   "id": "1045a3bd",
   "metadata": {},
   "outputs": [
    {
     "name": "stdout",
     "output_type": "stream",
     "text": [
      "['85', '26', '48', '21', '22', '95', '43', '45', '55', '52'] ['79', '32', '47', '18', '26', '85', '33', '40', '45', '59'] ['1', '1', '2', '1', '2', '1', '1', '2', '2', '2']\n"
     ]
    }
   ],
   "source": [
    "input_dir='data/input/'\n",
    "for file in os.listdir(input_dir):\n",
    "    with open(input_dir+file) as f:\n",
    "        if (file[-4:]!='.txt'): continue\n",
    "        capacity,class_num,weight,val,label=f.readlines()\n",
    "        capacity,class_num=int(capacity),int(class_num)\n",
    "        weight=weight.replace(' ','').replace('\\n','')\n",
    "        weight=weight.split(',')\n",
    "        val=val.replace(' ','').replace('\\n','')\n",
    "        val=val.split(',')\n",
    "        label=label.replace(' ','').replace('\\n','')\n",
    "        label=label.split(',')\n",
    "        print(weight,val,label)"
   ]
  }
 ],
 "metadata": {
  "kernelspec": {
   "display_name": "Python 3 (ipykernel)",
   "language": "python",
   "name": "python3"
  },
  "language_info": {
   "codemirror_mode": {
    "name": "ipython",
    "version": 3
   },
   "file_extension": ".py",
   "mimetype": "text/x-python",
   "name": "python",
   "nbconvert_exporter": "python",
   "pygments_lexer": "ipython3",
   "version": "3.8.11"
  }
 },
 "nbformat": 4,
 "nbformat_minor": 5
}
