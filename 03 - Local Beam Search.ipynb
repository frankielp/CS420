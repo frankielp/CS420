{
 "cells": [
  {
   "cell_type": "markdown",
   "id": "823cf273",
   "metadata": {},
   "source": [
    "# Local beam Search"
   ]
  },
  {
   "cell_type": "markdown",
   "id": "f0a05ba3",
   "metadata": {},
   "source": [
    "## Library"
   ]
  },
  {
   "cell_type": "code",
   "execution_count": 1,
   "id": "23f22287",
   "metadata": {},
   "outputs": [],
   "source": [
    "import os"
   ]
  },
  {
   "cell_type": "markdown",
   "id": "fc345e7c",
   "metadata": {},
   "source": [
    "# Local Beam Search"
   ]
  },
  {
   "cell_type": "markdown",
   "id": "22a333a0",
   "metadata": {},
   "source": [
    "Search Algorithm: \n",
    "1. Start with k states generated with highest value\n",
    "2. At each iteration, all the successors of all k states are generated \n",
    "3. If any one is a goal state, stop; else select the k best successors from the complete list and repeat."
   ]
  },
  {
   "cell_type": "markdown",
   "id": "8941cb62",
   "metadata": {},
   "source": [
    "### Term Initiation"
   ]
  },
  {
   "cell_type": "code",
   "execution_count": 2,
   "id": "81e821ee",
   "metadata": {},
   "outputs": [],
   "source": [
    "num_class=0\n",
    "capacity=0\n",
    "weight=[]\n",
    "val=[]\n",
    "label=[]"
   ]
  },
  {
   "cell_type": "markdown",
   "id": "5a9f87cc",
   "metadata": {},
   "source": [
    "### Helper Function"
   ]
  },
  {
   "cell_type": "code",
   "execution_count": 3,
   "id": "4678d086",
   "metadata": {},
   "outputs": [],
   "source": [
    "def check_class(path,num_class):\n",
    "    class_flag=[False for i in range(num_class+1)]\n",
    "    for item in path:\n",
    "        class_flag[label[item]]=True\n",
    "    for i in range(1,len(class_flag)):\n",
    "        if not class_flag[i]: return False\n",
    "    return True\n",
    "\n",
    "class Node:\n",
    "    def __init__(self,index,path):\n",
    "        self.index = index\n",
    "        self.path=path+[index]\n",
    "    def current_value(self):\n",
    "        value=0\n",
    "        for i in self.path:\n",
    "            value+=val[i]\n",
    "        return value\n",
    "    def current_weight(self):\n",
    "        w=0\n",
    "        for i in self.path:\n",
    "            w+=weight[i]\n",
    "        return w\n",
    "    def successor(self):\n",
    "        lst=[]\n",
    "        for i in range(len(val)):\n",
    "            if i not in self.path and self.current_weight()+weight[i]<=capacity: #check goal\n",
    "                lst.append(Node(i,self.path))\n",
    "        return lst"
   ]
  },
  {
   "cell_type": "code",
   "execution_count": 4,
   "id": "6b2bef73",
   "metadata": {},
   "outputs": [],
   "source": [
    "def LBS(k=5):\n",
    "    # initial state\n",
    "    kmax_val=sorted(val,reverse=True)[:min(k,len(val))]\n",
    "    frontier=[Node(i,[]) for i in range(len(val)) if weight[i]<=capacity and val[i] in kmax_val]\n",
    "    result=frontier\n",
    "    while True:\n",
    "        successor=[]\n",
    "        for cur in frontier:\n",
    "            successor+=cur.successor()\n",
    "        frontier=sorted(successor, key= lambda x: x.current_value(),reverse=True)[:min(k,len(successor))]\n",
    "        if len(frontier)==0: break\n",
    "        for i in range(len(frontier)):\n",
    "            result[i]=frontier[i]\n",
    "    \n",
    "    result_path=[]\n",
    "    #check class\n",
    "    for node in result:\n",
    "        if check_class(node.path,num_class):\n",
    "            result_node=node\n",
    "            break\n",
    "    return result_node \n",
    "   "
   ]
  },
  {
   "cell_type": "markdown",
   "id": "31f3e572",
   "metadata": {},
   "source": [
    "# Visualize"
   ]
  },
  {
   "cell_type": "code",
   "execution_count": 8,
   "id": "a1cc5d2b",
   "metadata": {},
   "outputs": [
    {
     "ename": "TypeError",
     "evalue": "sequence item 0: expected str instance, int found",
     "output_type": "error",
     "traceback": [
      "\u001b[0;31m---------------------------------------------------------------------------\u001b[0m",
      "\u001b[0;31mTypeError\u001b[0m                                 Traceback (most recent call last)",
      "\u001b[0;32m/var/folders/lk/qj1rg14j04l6s3mkk78vj3dw0000gn/T/ipykernel_9445/3505807234.py\u001b[0m in \u001b[0;36m<module>\u001b[0;34m\u001b[0m\n\u001b[1;32m     38\u001b[0m     \u001b[0;32mwith\u001b[0m \u001b[0mopen\u001b[0m\u001b[0;34m(\u001b[0m\u001b[0moutput_dir\u001b[0m\u001b[0;34m+\u001b[0m\u001b[0moutput_file\u001b[0m\u001b[0;34m,\u001b[0m\u001b[0;34m'w+'\u001b[0m\u001b[0;34m)\u001b[0m \u001b[0;32mas\u001b[0m \u001b[0mf_write\u001b[0m\u001b[0;34m:\u001b[0m\u001b[0;34m\u001b[0m\u001b[0;34m\u001b[0m\u001b[0m\n\u001b[1;32m     39\u001b[0m         \u001b[0mf_write\u001b[0m\u001b[0;34m.\u001b[0m\u001b[0mwrite\u001b[0m\u001b[0;34m(\u001b[0m\u001b[0mstr\u001b[0m\u001b[0;34m(\u001b[0m\u001b[0mresult\u001b[0m\u001b[0;34m.\u001b[0m\u001b[0mcurrent_value\u001b[0m\u001b[0;34m(\u001b[0m\u001b[0;34m)\u001b[0m\u001b[0;34m)\u001b[0m\u001b[0;34m+\u001b[0m\u001b[0;34m'\\n'\u001b[0m\u001b[0;34m)\u001b[0m\u001b[0;34m\u001b[0m\u001b[0;34m\u001b[0m\u001b[0m\n\u001b[0;32m---> 40\u001b[0;31m         \u001b[0mprint\u001b[0m\u001b[0;34m(\u001b[0m\u001b[0;34m', '\u001b[0m\u001b[0;34m.\u001b[0m\u001b[0mjoin\u001b[0m\u001b[0;34m(\u001b[0m\u001b[0mchosen_item\u001b[0m\u001b[0;34m)\u001b[0m\u001b[0;34m)\u001b[0m\u001b[0;34m\u001b[0m\u001b[0;34m\u001b[0m\u001b[0m\n\u001b[0m\u001b[1;32m     41\u001b[0m         \u001b[0mf_write\u001b[0m\u001b[0;34m.\u001b[0m\u001b[0mwrite\u001b[0m\u001b[0;34m(\u001b[0m\u001b[0mstr\u001b[0m\u001b[0;34m(\u001b[0m\u001b[0;34m', '\u001b[0m\u001b[0;34m.\u001b[0m\u001b[0mjoin\u001b[0m\u001b[0;34m(\u001b[0m\u001b[0mchosen_item\u001b[0m\u001b[0;34m)\u001b[0m\u001b[0;34m)\u001b[0m\u001b[0;34m)\u001b[0m\u001b[0;34m\u001b[0m\u001b[0;34m\u001b[0m\u001b[0m\n\u001b[1;32m     42\u001b[0m \u001b[0;34m\u001b[0m\u001b[0m\n",
      "\u001b[0;31mTypeError\u001b[0m: sequence item 0: expected str instance, int found"
     ]
    }
   ],
   "source": [
    "# input_dir='data/input/'\n",
    "input_dir='data/tmp/'\n",
    "output_dir='data/output03/'\n",
    "for file in os.listdir(input_dir):\n",
    "    with open(input_dir+file) as f_read:\n",
    "        if (file[-4:]!='.txt'): continue\n",
    "        capacity,num_class,weight,val,label=f_read.readlines()\n",
    "        \n",
    "    #set capacity and number of class\n",
    "    capacity,num_class=int(capacity),int(num_class)\n",
    "\n",
    "    #set weight\n",
    "    weight=weight.replace(' ','').replace('\\n','')\n",
    "    weight=weight.split(',')\n",
    "    weight=[eval(i) for i in weight]\n",
    "\n",
    "    #set value\n",
    "    val=val.replace(' ','').replace('\\n','')\n",
    "    val=val.split(',')\n",
    "    val=[eval(i) for i in val]\n",
    "\n",
    "    #set label\n",
    "    label=label.replace(' ','').replace('\\n','')\n",
    "    label=label.split(',')\n",
    "    label=[eval(i) for i in label]\n",
    "\n",
    "    result=LBS()\n",
    "    \n",
    "    file_index=file[7:10]\n",
    "    \n",
    "    output_file=f'output_{file_index}.txt'\n",
    "    chosen_item=[]\n",
    "    for item in range(len(val)):\n",
    "        if item not in result.path:\n",
    "            chosen_item.append(0)\n",
    "        else:\n",
    "            chosen_item.append(1)\n",
    "    with open(output_dir+output_file,'w+') as f_write:\n",
    "        f_write.write(str(result.current_value())+'\\n')\n",
    "        print(', '.join(chosen_item))\n",
    "        f_write.write(str(', '.join(chosen_item)))\n",
    "        \n",
    "        \n",
    "        "
   ]
  },
  {
   "cell_type": "code",
   "execution_count": null,
   "id": "404bf2c5",
   "metadata": {},
   "outputs": [],
   "source": []
  }
 ],
 "metadata": {
  "kernelspec": {
   "display_name": "Python 3 (ipykernel)",
   "language": "python",
   "name": "python3"
  },
  "language_info": {
   "codemirror_mode": {
    "name": "ipython",
    "version": 3
   },
   "file_extension": ".py",
   "mimetype": "text/x-python",
   "name": "python",
   "nbconvert_exporter": "python",
   "pygments_lexer": "ipython3",
   "version": "3.8.11"
  }
 },
 "nbformat": 4,
 "nbformat_minor": 5
}
