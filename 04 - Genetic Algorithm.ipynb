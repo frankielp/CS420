{
 "cells": [
  {
   "cell_type": "markdown",
   "metadata": {},
   "source": [
    "# Genetic Algorithm\n",
    "## Description\n",
    "The Genetic Algorithm simulates natural selection. At each step, the Genetic Algorithm chooses members of the current population to act as parents and uses them to create children for the following generation. The population evolves in the direction of an ideal solution over successive generations. Like natural selection, this algorithm also has crossover to create new individuals and mutation to apply random changes to individuals.\n",
    "\n",
    "### Fitness score\n",
    "The fitness score shows how well-fit an individual is. The individuals having better fitness scores have a higher chance to be parents in the next reproduction.\n",
    "\n",
    "The average number of \"better genes\" in a new generation is higher than it was in the generation before it. As a result, new generations always have more effective \"partial solutions\" than earlier ones. The population has converged once there are no discernible differences between the progeny and those of earlier populations. It is claimed that the algorithm is changed into a collection of answers to the issue.\n",
    "\n",
    "### Operators of Genetic Algorithm\n",
    "- **Selection operator**: Genetic Algorithm chooses two individuals randomly for reproduction. The likelihood of being chosen increases with a fitness score for more realistic.\n",
    "- **Crossover operator**: After choosing parents, the algorithm selects a crossover point randomly, where the genes are exchanged.\n",
    "- **Mutation operator**: The algorithm alters a bit of gene at random. This is when new, distinctive genes are made, preventing the population from being premature.\n",
    "## Explanation\n",
    "### Individual Class\n",
    "To provide a simpler explanation, we build a class called individual to contain the gene and fitness score:\n",
    "- Gene is an array of bits with the values 0 for not selecting and 1 for selecting the item.\n",
    "- A fitness score, which is an integer, indicates how well an individual is fit for the problem.\n",
    "\n",
    "``` \n",
    "CLASS Individual\n",
    "    PUBLIC gene\n",
    "    PUBLIC fitness\n",
    "```\n",
    "\n",
    "The fitness score is calculated by a private method. We use a set called class set to store distinct classes of items when choosing. If the item is chosen, we add its weight to the current weight. Additionally, we return 0 if the person's weight exceeds the backpack's carrying capacity because they are not a good fit for the problem. Then, its value is added to the current value and its class is added to the class set. Finally, we return the value and 0 otherwise if our class set contains m distinct numbers, indicating that we selected enough classes.\n",
    "\n",
    "```\n",
    "private FUNCTION calculateFitness\n",
    "    RETURNS fitness score\n",
    "    class set <- empty\n",
    "    current weight, current value <- 0,0\n",
    "    FOR i=0 TO size(gene) DO\n",
    "        IF (gene[i]=0) CONTINUE\n",
    "        current weight = current weight + w[i]\n",
    "        IF (current weight > capacity) RETURN 0\n",
    "        class set ADD c[i]\n",
    "        current value = current value + v[i]\n",
    "    \n",
    "    IF (number value in class set >= number classes) RETURN value\n",
    "    ELSE RETURN 0\n",
    "```\n",
    "### Selection Operator\n",
    "This operator is used to select the parent from the population. For more realistic to natural, the fitter the individual is, the higher chance that individual is chosen to become a parent.\n",
    "\n",
    "We start by calculating the population's overall fitness score, which we refer to as max. Any member of the population may be returned if the maximum is $0$, which indicates that no individual is fit for the problem. The probability of being selected is then determined using the formula $p = \\frac{fitness}{max}$. Finally, we give a population member who was randomly chosen a probability of being chosen.\n",
    "\n",
    "```\n",
    "FUNCTION selection(population)\n",
    "    RETURNS individual that become parent\n",
    "    max <- 0\n",
    "    FOR i=0 TO SIZE(population) DO\n",
    "        max = max + population[i].fitness\n",
    "\n",
    "    IF (max = 0) RETURN an individual in population that randomly chosen\n",
    "\n",
    "    selection props <- empty list\n",
    "    FOR i=0 TO SIZE*population DO\n",
    "        selection props APPEND population[i].fitness/max\n",
    "\n",
    "    RETURN an individual in population that randomly chosen with probability of being chosen in selection props\n",
    "```\n",
    "\n",
    "### Crossover Operator\n",
    "We choose two parents and then a crosspoint at random. Then, we swap out a portion of a first parent's gene for a second parent's gene.\n",
    "\n",
    "```\n",
    "FUNCTION crossover (p1, p2)\n",
    "    RETURNS an individual\n",
    "    p1 gene, p2 gene <- p1.gene, p2.gene\n",
    "    cross point is randomly chosen with value between 0 and SIZE(p1 gene)-1\n",
    "    new gene = p1[0 .. cross point] APPEND p2[cross point+1 .. SIZE(p2 gene)-1]\n",
    "    RETURN an individual with gene is new gene    \n",
    "```\n",
    "\n",
    "### Mutation Operator\n",
    "For each bit of choice, there is a chance that it will change.\n",
    "\n",
    "We loop through the gene, and if there is a chance for a mutation, we might alter that bit. In this report, the probability to have a mutation is $0.1$.\n",
    "\n",
    "```\n",
    "FUNCTION mutation(individual)\n",
    "    RETURNS an individual\n",
    "    FOR i=0 TO SIZE(individual.gene) DO\n",
    "        IF (this bit is chosen to be changed)\n",
    "            individual.gene[i]= ~individual.gene[i]\n",
    "            ENDIF\n",
    "    RETURN individual\n",
    "```\n",
    "### Generating Initial Population\n",
    "This function is not necessary. However, we choose to separate this function from the main algorithm to make the presentation more understandable.\n",
    "\n",
    "For each initial individual, we create a gene that each bit is randomly 0 or 1. In case there are some duplicated individuals, use a set for the population and then return it as an array.\n",
    "\n",
    "```\n",
    "FUNCTION initialPopulation(n)\n",
    "    RETURNS list of initial population\n",
    "    INITIALIZE population AS A SET\n",
    "    WHILE (SIZE(population)!=n) DO\n",
    "        INITIALIZE gene AS AN ARRAY\n",
    "        FOR i=0 TO number of items DO\n",
    "            gene APPEND choose randomly 0 or 1\n",
    "        ADD gene TO population\n",
    "\n",
    "    RETURN population AS AN ARRAY\n",
    "```\n",
    "\n",
    "### Fully implemented Genetic Algorithm\n",
    "In the algorithm, we need to specify the number of generations and the number of initial individuals. In this report, we decided the number of generations is 2000 and the number of initial individuals is $10$.\n",
    "\n",
    "First, we initialize the population as the first generation and best individual which is the fittest one among generated individuals.\n",
    "\n",
    "For each generation, we create a set called the new population to store distinct individuals of the new population. We choose two parents for each generation, perform crossover to produce a child, and perform mutation to produce a new gene. After creating a new child, we add it to a new population and it may become the best individual if the fitness score of the child is greater. We do this process several times, in this report is the number of individuals in the current population, and assign the population as an array of the new population for the next generation.\n",
    "\n",
    "After doing this process many times, we return the best individual as the answer to the Knapsack problem.\n",
    "\n",
    "```\n",
    "FUNCTION geneticAlgorithm(number of generation, number initial individual)\n",
    "    RETURNS the best individual\n",
    "    population <- initialPopulation(number initial individual)\n",
    "    best individual <- fittest individual in population\n",
    "\n",
    "    FOR i=1 TO number of generation DO\n",
    "        INITIALIZE new population AS A SET\n",
    "        FOR j=1 TO SIZE(population) DO\n",
    "            p1 <- select(population)\n",
    "            p2 <- select(population)\n",
    "\n",
    "            child <- crossover(p1,p2)\n",
    "            child <- mutation(child)\n",
    "\n",
    "            ADD child TO new population\n",
    "            IF (fitness score OF best individual < fitness score OF child) \n",
    "                best individual = child\n",
    "                ENDIF\n",
    "        population = new population AS AN ARRAY\n",
    "\n",
    "    RETURN best individual\n",
    "```\n",
    "## Evaluation\n",
    "Let $G$ be the number of generations, $P$ be the size of the population and $F$ be the run-time complexity of the fitness calculate function, the run-time complexity of the genetic algorithm is $O(G\\cdot P\\cdot F)$.\n",
    "\n",
    "## Comments\n",
    "The space of the algorithm depends on the number of generations and the size of the population. In this way of implementation, the space taken is not too large to find the optimal solution.\n",
    "\n",
    "The number of initial individuals does not have too many effects since it only has more parents which gives more chances to find the best individual early. However, as more generations are produced, we may be able to find individuals who are fitter as we may be able to obtain genes that contain portions of the solution and use those components to produce a really good solution.\n",
    "\n",
    "The most ideal implementation is utilizing a single population. We add a new child to the population set at a new generation until the size is not changing. However, this is not realistic since the size of the population is $2^n$, where $n$ is the number of items, which is too large to store in a computer.\n",
    "\n",
    "We can also make a few small adjustments. To maintain population diversity, the crossover operation can bring back two additional children. We can also eliminate the bad individuals, for example, the fitness score is $0$. However, we discover that this is unwise since those individuals may contain good parts.\n",
    "\n",
    "## Conclusion\n",
    "The Genetic Algorithm is simple and fast since the core of this algorithm is random and it runs in almost constant time. Because it is based on natural phenomena, the result is not optimal but acceptable. Hence, it is good when solving a hard problem or a problem with a large state space.\n",
    "\n",
    "\n",
    "## References\n",
    "- [Generating initial population idea and run-time complexity](https://arpitbhayani.me/blogs/genetic-knapsack)\n",
    "- [Roulette wheel simulation in source code](https://rocreguant.com/roulette-wheel-selection-python/2019/)"
   ]
  },
  {
   "cell_type": "markdown",
   "metadata": {},
   "source": [
    "# Source Code"
   ]
  },
  {
   "cell_type": "code",
   "execution_count": 29,
   "metadata": {},
   "outputs": [],
   "source": [
    "# create individual\n",
    "class Individual(object):\n",
    "    def __init__(self, gene: list) -> None:\n",
    "        # with gene is choices\n",
    "        self.gene = gene\n",
    "        self.fitness = self.calculateFitness()\n",
    "\n",
    "    def calculateFitness(self):\n",
    "        # create set to memorize the chosen classes\n",
    "        classSet = set()\n",
    "        # initial weight and value of individual\n",
    "        curW, value = 0, 0\n",
    "        # for each item in individual\n",
    "        for i in range(len(self.gene)):\n",
    "            # skip if the item is not chosen\n",
    "            if (self.gene[i]==0):\n",
    "                continue\n",
    "            # try adding item to the backpack\n",
    "            curW = curW + w[i]\n",
    "            # if the current weight is more than the storage of backpack return 0 as this individual is not fit the problem\n",
    "            if (curW>W):\n",
    "                return 0\n",
    "            # add \n",
    "            classSet.add(c[i])\n",
    "            value = value + v[i]\n",
    "        return value if (len(classSet)>=m) else 0"
   ]
  },
  {
   "cell_type": "code",
   "execution_count": 30,
   "metadata": {},
   "outputs": [],
   "source": [
    "#import library for roulette wheel\n",
    "import random\n",
    "import numpy\n",
    "def select(population):\n",
    "    # find total fitness value\n",
    "    max = sum([i.fitness for i in population])\n",
    "    if (max == 0):\n",
    "        return population[random.randint(0,len(population)-1)]\n",
    "    # create probability proportion for each individual\n",
    "    selection_props = [i.fitness/max for i in population]\n",
    "    # return the chosen individual\n",
    "    return population[numpy.random.choice(len(population), p=selection_props)]"
   ]
  },
  {
   "cell_type": "code",
   "execution_count": 31,
   "metadata": {},
   "outputs": [],
   "source": [
    "from random import randint\n",
    "\n",
    "# performing crossover\n",
    "def crossover (p1, p2):\n",
    "    # random position to crossover\n",
    "    p1Gene, p2Gene = p1.gene, p2.gene\n",
    "    crossPoint = randint(0,len(p1Gene)-1)\n",
    "    # return the child after crossover 2 genes from parents\n",
    "    newGene = p1Gene[crossPoint:] + p2Gene[:crossPoint]\n",
    "    return Individual(newGene)"
   ]
  },
  {
   "cell_type": "code",
   "execution_count": 32,
   "metadata": {},
   "outputs": [],
   "source": [
    "import random\n",
    "\n",
    "# constance for mutation rate\n",
    "MUTATION_RATE = 0.1\n",
    "# performing mutation on individual\n",
    "def mutation(individual):\n",
    "    # for each parts of individual\n",
    "    for i in individual.gene:\n",
    "        # if this part has mutation\n",
    "        if (random.random()<MUTATION_RATE):\n",
    "            # change this part\n",
    "            i = ~i\n",
    "\n",
    "    return individual"
   ]
  },
  {
   "cell_type": "code",
   "execution_count": 33,
   "metadata": {},
   "outputs": [],
   "source": [
    "# get initial population\n",
    "# n is the number of individuals of initial population\n",
    "def initialPopulation(n):\n",
    "    # set population as set for preventing duplicated individuals\n",
    "    population = set()\n",
    "    # generate population\n",
    "    numItems = len(w)\n",
    "    while (len(population)!=n):\n",
    "        # randomly choose items\n",
    "        gene=[]\n",
    "        for _ in range(numItems):\n",
    "            gene.append(randint(0,1))\n",
    "        # add new individual to population\n",
    "        individual = Individual(gene)\n",
    "        population.add(individual)\n",
    "    return list(population)"
   ]
  },
  {
   "cell_type": "code",
   "execution_count": 34,
   "metadata": {},
   "outputs": [],
   "source": [
    "from copy import copy\n",
    "\n",
    "\n",
    "def geneticAlgorithm(numberGeneration, numInitialIndividual):\n",
    "    # initial population\n",
    "    # we choose the number of initial individuals is 5\n",
    "    population = initialPopulation(numInitialIndividual)\n",
    "    # sorting population to get the fittest individual\n",
    "    population = sorted(population, key = lambda i: i.fitness, reverse=True)\n",
    "\n",
    "    bestIndividual = population[0] if population[0].fitness>0 else Individual([0]*len(w))\n",
    "    # we get new generation until there is no new individuals\n",
    "    for _ in range(numberGeneration):\n",
    "        # initial new population\n",
    "        newPopulation = set()\n",
    "        for _ in range(len(population)):\n",
    "            # select first parents\n",
    "            p1,p2 = select(population), select(population)\n",
    "            # print(f'{p1}\\n{p2}\\n')\n",
    "            # doing crossover\n",
    "            child = crossover(p1,p2)\n",
    "            # print(f'New child: {child}\\n')\n",
    "            # doing mutation\n",
    "            child = mutation(child)\n",
    "            # print(f'After mutation: {child}')\n",
    "            # add child to new population\n",
    "            newPopulation.add(child)\n",
    "            if (bestIndividual.fitness < child.fitness):\n",
    "                bestIndividual=copy(child)\n",
    "            # for visualize\n",
    "        # stop generating if there is no new individual\n",
    "        population = list(newPopulation)\n",
    "\n",
    "    # return the fittest individual\n",
    "    # print(f'Fittest: {bestIndividual}')\n",
    "    return bestIndividual"
   ]
  },
  {
   "cell_type": "code",
   "execution_count": 35,
   "metadata": {},
   "outputs": [
    {
     "name": "stderr",
     "output_type": "stream",
     "text": [
      " 18%|█▊        | 2/11 [00:00<00:00,  9.53it/s]"
     ]
    },
    {
     "name": "stdout",
     "output_type": "stream",
     "text": [
      "input_001.txt\n",
      "The result is: [0, 0, 0, 0, 0, 0, 0, 0, 0, 0]\n",
      "With the value of: 0)\n",
      "Complete searching in: 0.2059173583984375 seconds\n",
      "\n"
     ]
    },
    {
     "name": "stderr",
     "output_type": "stream",
     "text": [
      " 27%|██▋       | 3/11 [00:01<00:03,  2.06it/s]"
     ]
    },
    {
     "name": "stdout",
     "output_type": "stream",
     "text": [
      "input_002.txt\n",
      "The result is: [1, 1, 1, 1, 1, 1, 1, 1, 1, 1]\n",
      "With the value of: 1000)\n",
      "Complete searching in: 1.0134103298187256 seconds\n",
      "\n"
     ]
    },
    {
     "name": "stderr",
     "output_type": "stream",
     "text": [
      " 36%|███▋      | 4/11 [00:02<00:05,  1.39it/s]"
     ]
    },
    {
     "name": "stdout",
     "output_type": "stream",
     "text": [
      "input_003.txt\n",
      "The result is: [1, 1, 1, 0, 1, 1, 1, 1, 1, 1, 1, 1, 1, 1, 1, 1, 1, 1, 1, 1, 1, 1, 1]\n",
      "With the value of: 14211)\n",
      "Complete searching in: 1.1157889366149902 seconds\n",
      "\n"
     ]
    },
    {
     "name": "stderr",
     "output_type": "stream",
     "text": [
      " 55%|█████▍    | 6/11 [00:03<00:02,  1.86it/s]"
     ]
    },
    {
     "name": "stdout",
     "output_type": "stream",
     "text": [
      "input_004.txt\n",
      "The result is: [0, 0, 1, 0, 0, 0, 1, 0, 0, 1, 1, 0, 0, 0, 1, 1, 1, 0, 0, 0, 1, 1, 0, 0]\n",
      "With the value of: 5478)\n",
      "Complete searching in: 0.678931713104248 seconds\n",
      "\n",
      "input_005 (trap).txt\n",
      "The result is: [0, 0, 0, 0, 0, 0, 0, 0, 0, 0, 0, 0, 0, 0, 0, 0, 0, 0, 0, 0, 0, 0, 0, 0, 0, 0, 0, 0, 0, 0, 0, 0, 0, 0, 0, 0, 0, 0, 0, 0]\n",
      "With the value of: 0)\n",
      "Complete searching in: 0.19632363319396973 seconds\n",
      "\n"
     ]
    },
    {
     "name": "stderr",
     "output_type": "stream",
     "text": [
      " 64%|██████▎   | 7/11 [00:04<00:03,  1.11it/s]"
     ]
    },
    {
     "name": "stdout",
     "output_type": "stream",
     "text": [
      "input_006.txt\n",
      "The result is: [1, 1, 1, 1, 1, 1, 1, 1, 1, 1, 1, 1, 1, 1, 1, 1, 1, 1, 1, 1, 1, 1, 1, 1, 1, 1, 1, 1, 1, 1, 1, 1, 1, 1, 1, 1, 1, 1, 1, 1, 1, 1, 1, 1, 1, 1, 1, 1, 1, 1]\n",
      "With the value of: 5000)\n",
      "Complete searching in: 1.6635377407073975 seconds\n",
      "\n"
     ]
    },
    {
     "name": "stderr",
     "output_type": "stream",
     "text": [
      " 73%|███████▎  | 8/11 [00:12<00:09,  3.03s/it]"
     ]
    },
    {
     "name": "stdout",
     "output_type": "stream",
     "text": [
      "input_007.txt\n",
      "The result is: [1, 1, 1, 1, 1, 1, 1, 1, 1, 1, 1, 1, 1, 1, 1, 1, 0, 1, 1, 1, 1, 1, 1, 1, 1, 1, 1, 1, 1, 1, 1, 1, 1, 1, 1, 0, 1, 0, 1, 1, 1, 1, 1, 1, 1, 0, 1, 1, 1, 1, 1, 1, 1, 1, 1, 1, 1, 1, 1, 1, 1, 1, 1, 1, 1, 1, 1, 0, 0, 1, 1, 1, 1, 1, 1, 1, 1, 1, 1, 1, 1, 1, 1, 1, 1, 1, 1, 1, 1, 1, 0, 1, 1, 1, 1, 1, 1, 1, 1, 1, 1, 1, 1, 1, 1, 1, 1, 1, 1, 1, 1, 1, 1, 1, 1, 1, 1, 1, 1, 1, 1, 1, 1, 1, 1, 0, 1, 1, 1, 1, 1, 0, 1, 1, 1, 1, 1, 1, 1, 1, 0, 1, 1, 1, 1, 0, 1, 1, 1, 1, 1, 1, 1, 1, 1, 1, 1, 1, 1, 1, 1, 1, 1, 1, 1, 1, 1, 1, 1, 0, 1, 1, 1, 1, 1, 1, 1, 1, 1, 1, 1, 1, 1, 1, 1, 1, 1, 1, 1, 1, 1, 1, 1, 0, 1, 1, 1, 1, 1, 1, 1, 1, 1, 1, 1, 1, 1, 1, 1, 1, 1, 1, 1, 1, 1, 1, 1, 1, 1, 1, 1, 1, 1, 1, 1, 1, 1, 1, 1, 1, 1, 1, 1, 1, 1, 1, 1, 1, 1, 0, 1, 1, 1, 1, 1, 1, 1, 1, 1, 1, 1, 1, 1, 1, 1, 1, 1, 1, 0, 1, 0, 1, 1, 1, 1, 1, 1, 1, 0, 1, 1, 1, 1, 1, 1, 1, 1, 1, 1, 1, 0, 1, 1, 1, 0, 1, 1, 1, 1, 1, 1, 1, 1, 1, 1, 1, 1, 1, 1, 1, 0, 1, 0, 1, 1, 1, 1, 1, 1, 1, 1, 1, 1, 1, 1, 1, 1, 1, 1, 1, 1, 0, 1, 1, 1, 1, 1, 1, 1, 1, 1, 1, 1, 1, 1, 1, 1, 1, 1, 1, 1, 1, 1, 1, 1, 1, 1, 1, 1, 1, 1, 1, 1, 1, 1, 1, 1, 0, 1, 1, 1, 1, 1, 1, 1, 1, 1, 1, 1, 1, 1, 1, 1, 1, 1, 1, 1, 1, 1, 0, 0, 1, 1, 1, 1, 1, 1, 1, 1, 1, 1, 1, 1, 1, 1, 1, 1, 1, 1, 1, 1, 1, 0, 1, 1, 1, 1, 1, 1, 1, 1, 1, 1, 1, 1, 1, 1, 1, 1, 1, 1, 1, 1, 1, 1, 1, 1, 1, 1, 1, 1, 1, 1, 1, 1, 1, 1, 0, 1, 1, 1, 1, 1, 0, 1, 1, 1, 1, 1, 1, 1, 1, 0, 1, 1, 1, 1, 0, 1, 1, 1, 1, 1, 1, 1, 1, 1, 1, 1, 1, 1, 1, 1, 1, 1, 1, 1, 1, 1, 1, 1, 0, 1, 1, 1, 1, 1, 1, 1, 1, 1, 1, 1, 1, 1, 1, 1, 1, 1, 1, 1, 1, 1, 1, 1, 0, 1, 1, 1, 1, 1, 1, 1, 1, 1, 1, 1, 1, 1, 1, 1, 1, 1, 1, 1, 1, 1, 1, 1, 1, 1, 1, 1, 1, 1, 1, 1, 0, 1, 1, 1, 1, 1, 1, 1, 0, 1, 1, 1, 1, 1, 1, 1, 1, 1, 1, 1, 1, 0, 1, 1, 1, 1, 1, 1, 1, 1, 1, 1, 1, 1, 1, 1, 1, 1, 1, 1, 1, 1, 1, 1, 1, 1, 1, 1, 1, 1, 1, 1, 0, 1, 1, 1, 1, 1, 1, 1, 1, 1, 1, 1, 1, 1, 1, 1, 1, 1, 1, 1, 1, 1, 1, 1, 1, 1, 1, 1, 1, 1, 1, 1, 1, 1, 1, 0, 1, 1, 1, 1, 1, 1, 1, 1, 1, 1, 1, 1, 1, 1, 1, 1, 1, 1, 1, 1, 1, 1, 1, 1, 1, 1, 1, 1, 1, 1, 1, 1, 1, 0, 1, 1, 1, 1, 1, 1, 1, 1, 1, 1, 1, 1, 1, 1, 1, 0, 1, 1, 1, 1, 1, 1, 1, 1, 1, 1, 1, 1, 1, 1, 1, 1, 1, 1, 1, 1, 1, 1, 1, 1, 1, 1, 1, 1, 1, 1, 1, 0, 1, 1, 1, 1, 1, 1, 1, 0, 1, 1, 1, 1, 1, 1, 1, 1, 1, 1, 1, 1, 0, 1, 1, 1, 1, 1, 1, 1, 1, 1, 1, 1, 1, 1, 1, 1, 1, 1, 1, 1, 1, 1, 1, 1, 1, 1, 1, 1, 1, 1, 0, 1, 1, 1, 1, 1, 1, 1, 1, 1, 1, 1, 1, 1, 1, 1, 1, 1, 1, 1, 1, 1, 1, 1, 1, 1, 1, 1, 1, 1, 1, 1, 1, 1, 1, 0, 1, 1, 1, 1, 1, 1, 1, 1, 1, 1, 1, 1, 1, 1, 1, 1, 1, 1, 1, 1, 1, 1, 1, 1, 1, 1, 1, 1, 1, 1, 1, 1, 1, 0, 1, 1, 1, 1, 1, 1, 1, 1, 1, 1, 1, 0, 1, 1, 1, 1, 0, 1, 1, 1, 1, 1, 1, 1, 1, 1, 1, 1, 1, 1, 1, 0, 1, 1, 1, 1, 1, 1, 1, 1, 1, 1, 1, 0, 1, 1, 1, 0, 1, 1, 1, 1, 1, 1, 1, 1, 1, 1, 0, 1, 1, 1, 1, 1, 1, 1, 1, 1, 1, 1, 1, 1, 1, 1, 1, 1, 1, 1, 1, 1, 1, 1, 1, 1, 1, 1, 1, 1, 1, 1, 1, 1, 1, 1, 1, 1, 1, 1, 1, 0, 1, 1, 1, 1, 1, 1, 1, 1, 1, 1, 1, 0, 1, 1, 1, 1, 0, 1, 1, 1, 1, 1, 1, 1, 1, 1, 1, 1, 1, 1, 1, 0, 1, 1, 1, 1, 1, 1, 1, 1, 1, 1, 1, 0, 1, 1, 1, 0, 1, 1, 1, 1, 1, 1, 1, 1, 1, 1, 0, 1, 1, 1, 1, 1, 1, 1, 1, 1, 1, 1, 1, 1, 1]\n",
      "With the value of: 94200)\n",
      "Complete searching in: 7.628751277923584 seconds\n",
      "\n"
     ]
    },
    {
     "name": "stderr",
     "output_type": "stream",
     "text": [
      " 82%|████████▏ | 9/11 [00:15<00:05,  2.96s/it]"
     ]
    },
    {
     "name": "stdout",
     "output_type": "stream",
     "text": [
      "input_008.txt\n",
      "The result is: [0, 0, 1, 1, 0, 0, 1, 1, 0, 0, 1, 0, 1, 0, 1, 0, 1, 0, 1, 1, 0, 0, 1, 0, 0, 0, 1, 0, 1, 0, 1, 0, 1, 0, 1, 1, 1, 1, 1, 0, 0, 0, 0, 0, 1, 1, 0, 0, 0, 0, 0, 0, 0, 1, 1, 1, 0, 1, 0, 1, 0, 0, 1, 1, 1, 1, 1, 0, 0, 0, 0, 0, 0, 0, 0, 1, 1, 0, 0, 0, 0, 0, 1, 0, 0, 0, 1, 0, 1, 0, 1, 0, 1, 0, 1, 1, 1, 1, 1, 0, 0, 1, 1, 0, 0, 0, 1, 0, 0, 0, 0, 0, 1, 0, 0, 0, 0, 1, 1, 1, 0, 1, 0, 0, 1, 0, 0, 0, 0, 1, 1, 0, 0, 1, 0, 1, 0, 1, 0, 1, 0, 1, 1, 1, 1, 1, 0, 0, 0, 0, 0, 0, 0, 0, 1, 1, 0, 1, 0, 1, 0, 1, 0, 1, 0, 1, 1, 1, 1, 1, 0, 0, 0, 0, 0, 1, 1, 0, 0, 1, 1, 0, 0, 1, 0, 1, 0, 1, 0, 1, 0, 1, 1, 1, 1, 0, 1, 1, 1, 1, 1, 0, 0, 0, 0, 0, 0, 0, 0, 1, 1, 0, 0, 0, 0, 0, 1, 0, 0, 0, 1, 0, 1, 0, 1, 1, 1, 0, 1, 0, 0, 1, 0, 0, 0, 0, 0, 0, 1, 0, 1, 1, 1, 1, 0, 1, 1, 1, 1, 1, 0, 1, 0, 1, 0, 1, 1, 1, 1, 1, 0, 0, 1, 0, 0, 0, 0, 0, 1, 0, 0, 0, 1, 0, 1, 0, 1, 0, 1, 0, 1, 1, 1, 1, 1, 0, 0, 0, 0, 0, 1, 1, 0, 0, 1, 1, 0, 0, 1, 0, 1, 0, 1, 0, 1, 0, 1, 1, 1, 1, 0, 1, 1, 1, 1, 1, 0, 0, 0, 0, 0, 0, 0, 0, 1, 1, 0, 0, 0, 0, 0, 1, 0, 0, 0, 1, 0, 1, 0, 1, 0, 1, 0, 1, 1, 1, 1, 1, 0, 0, 1, 1, 0, 0, 0, 1, 0, 0, 0, 0, 0, 1, 0, 0]\n",
      "With the value of: 91288)\n",
      "Complete searching in: 2.8070623874664307 seconds\n",
      "\n"
     ]
    },
    {
     "name": "stderr",
     "output_type": "stream",
     "text": [
      " 91%|█████████ | 10/11 [00:21<00:03,  3.79s/it]"
     ]
    },
    {
     "name": "stdout",
     "output_type": "stream",
     "text": [
      "input_009.txt\n",
      "The result is: [1, 1, 1, 0, 0, 1, 0, 0, 1, 1, 1, 1, 1, 0, 1, 1, 1, 1, 1, 0, 0, 0, 1, 1, 1, 1, 1, 0, 1, 1, 0, 1, 1, 1, 0, 1, 1, 1, 0, 0, 1, 0, 0, 1, 1, 1, 1, 1, 1, 0, 1, 1, 0, 0, 1, 0, 0, 1, 1, 1, 1, 1, 0, 1, 1, 1, 0, 1, 1, 0, 1, 0, 1, 1, 0, 1, 0, 1, 1, 0, 1, 1, 1, 1, 1, 0, 1, 1, 0, 0, 1, 0, 0, 1, 1, 1, 0, 1, 0, 0, 1, 1, 0, 0, 1, 1, 0, 1, 1, 1, 0, 0, 0, 1, 0, 1, 1, 1, 1, 0, 1, 0, 0, 0, 1, 1, 0, 0, 1, 1, 0, 1, 0, 0, 1, 1, 1, 1, 1, 0, 1, 1, 1, 1, 1, 0, 1, 1, 0, 1, 1, 0, 1, 0, 1, 1, 0, 1, 1, 1, 1, 1, 0, 1, 1, 0, 0, 1, 0, 0, 1, 1, 1, 0, 1, 0, 0, 1, 1, 0, 0, 1, 1, 0, 1, 1, 1, 0, 0, 0, 1, 0, 1, 1, 1, 1, 0, 1, 0, 0, 1, 1, 1, 1, 0, 0, 1, 0, 0, 1, 1, 1, 1, 1, 0, 1, 1, 1, 0, 1, 0, 0, 0, 1, 0, 0, 0, 0, 0, 0, 0, 1, 1, 0, 1, 1, 1, 0, 1, 1, 1, 1, 1, 0, 0, 1, 1, 1, 1, 0, 0, 0, 1, 1, 1, 1, 1, 0, 1, 0, 0, 1, 1, 1, 1, 1, 1, 0, 1, 1, 0, 0, 1, 0, 0, 1, 1, 1, 1, 0, 1, 0, 0, 1, 1, 1, 1, 0, 0, 1, 0, 0, 1, 1, 1, 1, 1, 0, 1, 1, 1, 1, 1, 0, 0, 0, 1, 1, 1, 1, 1, 0, 1, 1, 0, 1, 1, 1, 0, 1, 1, 1, 0, 0, 1, 0, 0, 1, 1, 1, 1, 1, 1, 0, 1, 1, 0, 0, 1, 0, 0, 1, 1, 1, 1, 1, 0, 1, 1, 1, 0, 1, 1, 0, 1, 0, 1, 1, 0, 1, 0, 1, 1, 0, 1, 1, 1, 1, 1, 0, 1, 1, 0, 0, 1, 0, 0, 1, 1, 1, 0, 1, 0, 0, 1, 1, 0, 0, 1, 1, 0, 1, 1, 1, 0, 0, 0, 1, 0, 1, 1, 1, 1, 0, 1, 0, 0, 1, 1, 1, 1, 0, 0, 1, 0, 0, 1, 1, 1, 1, 1, 0, 1, 1, 1, 1, 1, 0, 0, 0, 1, 1, 1, 1, 1, 0, 1, 1, 0, 1, 1, 1, 0, 1, 1, 0, 0, 1, 1, 0, 1, 0, 0, 1, 1, 1, 1, 1, 1, 0, 1, 1, 0, 0, 1, 0, 0, 1, 1, 0, 1, 1, 0, 1, 1, 1, 0, 0, 1, 1, 1, 0, 0, 1, 1, 0, 1, 1, 1, 0, 1, 1, 0, 1, 1, 0, 0, 1, 1, 0, 1, 0, 0, 1, 1, 1, 1, 1, 0, 1, 1, 0, 0, 0, 1, 1, 1, 1, 1, 0, 1, 1, 1, 0, 1, 0, 1, 1, 0, 0, 0, 1, 1, 0, 0, 1, 1, 1, 1, 0, 1, 1, 0, 1, 1, 0, 0, 1, 1, 1, 1, 0, 1, 1, 0, 1, 0, 0, 1, 1, 1, 1, 1, 0, 0, 0, 1, 0, 1, 1, 0, 1, 0, 0, 0, 1, 0, 1, 1, 0, 0, 0, 1, 1, 1, 1, 0, 1, 1, 1, 0, 1, 0, 1, 1, 0, 1, 0, 1, 1, 1, 1, 0, 0, 1, 1, 1, 1, 0, 1, 1, 0, 1, 0, 1, 0, 0, 1, 1, 0, 0, 1, 1, 0, 0, 1, 1, 0, 1, 1, 0, 0, 1, 0, 0, 1, 1, 1, 1, 1, 0, 1, 1, 1, 1, 0, 1, 1, 0, 1, 0, 1, 1, 1, 1, 0, 0, 1, 1, 1, 1, 0, 1, 1, 0, 1, 0, 1, 0, 0, 1, 1, 0, 0, 1, 1, 0, 0, 1, 1, 0, 0, 1, 1, 0, 1, 0, 0, 1, 1, 1, 1, 1, 1, 1, 1, 0, 0, 1, 0, 0, 1, 1, 1, 1, 1, 0, 1, 1, 1, 1, 1, 0, 0, 1, 1, 1, 1, 1, 1, 0, 1, 1, 1, 1, 0, 1, 1, 1, 0, 1, 1, 0, 1, 0, 1, 1, 0, 1, 0, 0, 1, 0, 1, 1, 0, 0, 0, 1, 1, 0, 0, 1, 1, 0, 1, 0, 0, 1, 1, 1, 1, 1, 0, 1, 1, 1, 1, 1, 0, 1, 1, 0, 1, 1, 0, 1, 0, 1, 1, 0, 1, 1, 1, 1, 1, 0, 1, 1, 0, 0, 1, 0, 0, 1, 1, 1, 0, 1, 0, 0, 1, 1, 0, 0, 1, 1, 0, 1, 1, 1, 0, 0, 0, 1, 0, 1, 1, 1, 1, 0, 1, 0, 0, 1, 1, 1]\n",
      "With the value of: 265714)\n",
      "Complete searching in: 5.642796277999878 seconds\n",
      "\n"
     ]
    },
    {
     "name": "stderr",
     "output_type": "stream",
     "text": [
      "100%|██████████| 11/11 [00:22<00:00,  2.09s/it]"
     ]
    },
    {
     "name": "stdout",
     "output_type": "stream",
     "text": [
      "input_010.txt\n",
      "The result is: [0, 0, 0, 0, 0, 0, 0, 0, 0, 0, 0, 0, 0, 0, 0, 0, 0, 0, 0, 0, 0, 0, 0, 0, 0, 0, 0, 0, 0, 0, 0, 0, 0, 0, 0, 0, 0, 0, 0, 0, 0, 0, 0, 0, 0, 0, 0, 0, 0, 0, 0, 0, 0, 0, 0, 0, 0, 0, 0, 0, 0, 0, 0, 0, 0, 0, 0, 0, 0, 0, 0, 0, 0, 0, 0, 0, 0, 0, 0, 0, 0, 0, 0, 0, 0, 0, 0, 0, 0, 0, 0, 0, 0, 0, 0, 0, 0, 0, 0, 0, 0, 0, 0, 0, 0, 0, 0, 0, 0, 0, 0, 0, 0, 0, 0, 0, 0, 0, 0, 0, 0, 0, 0, 0, 0, 0, 0, 0, 0, 0, 0, 0, 0, 0, 0, 0, 0, 0, 0, 0, 0, 0, 0, 0, 0, 0, 0, 0, 0, 0, 0, 0, 0, 0, 0, 0, 0, 0, 0, 0, 0, 0, 0, 0, 0, 0, 0, 0, 0, 0, 0, 0, 0, 0, 0, 0, 0, 0, 0, 0, 0, 0, 0, 0, 0, 0, 0, 0, 0, 0, 0, 0, 0, 0, 0, 0, 0, 0, 0, 0, 0, 0, 0, 0, 0, 0, 0, 0, 0, 0, 0, 0, 0, 0, 0, 0, 0, 0, 0, 0, 0, 0, 0, 0, 0, 0, 0, 0, 0, 0, 0, 0, 0, 0, 0, 0, 0, 0, 0, 0, 0, 0, 0, 0, 0, 0, 0, 0, 0, 0, 0, 0, 0, 0, 0, 0, 0, 0, 0, 0, 0, 0, 0, 0, 0, 0, 0, 0, 0, 0, 0, 0, 0, 0, 0, 0, 0, 0, 0, 0, 0, 0, 0, 0, 0, 0, 0, 0, 0, 0, 0, 0, 0, 0, 0, 0, 0, 0, 0, 0, 0, 0, 0, 0, 0, 0, 0, 0, 0, 0, 0, 0, 0, 0, 0, 0, 0, 0, 0, 0, 0, 0, 0, 0, 0, 0, 0, 0, 0, 0, 0, 0, 0, 0, 0, 0, 0, 0, 0, 0, 0, 0, 0, 0, 0, 0, 0, 0, 0, 0, 0, 0, 0, 0, 0, 0, 0, 0, 0, 0, 0, 0, 0, 0, 0, 0, 0, 0, 0, 0, 0, 0, 0, 0, 0, 0, 0, 0, 0, 0, 0, 0, 0, 0, 0, 0, 0, 0, 0, 0, 0, 0, 0, 0, 0, 0, 0, 0, 0, 0, 0, 0, 0, 0, 0, 0, 0, 0, 0, 0, 0, 0, 0, 0, 0, 0, 0, 0, 0, 0, 0, 0, 0, 0, 0, 0, 0, 0, 0, 0, 0, 0, 0, 0, 0, 0, 0, 0, 0, 0, 0, 0, 0, 0, 0, 0, 0, 0, 0, 0, 0, 0, 0, 0, 0, 0, 0, 0, 0, 0, 0, 0, 0, 0, 0, 0, 0, 0, 0, 0, 0, 0, 0, 0, 0, 0, 0, 0, 0, 0, 0, 0, 0, 0, 0, 0, 0, 0, 0, 0, 0, 0, 0, 0, 0, 0, 0, 0, 0, 0, 0, 0, 0, 0, 0, 0, 0, 0, 0, 0, 0, 0, 0, 0, 0, 0, 0, 0, 0, 0, 0, 0, 0, 0, 0, 0, 0, 0, 0, 0, 0, 0, 0, 0, 0, 0, 0, 0, 0, 0, 0, 0, 0, 0, 0, 0, 0, 0, 0, 0, 0, 0, 0, 0, 0, 0, 0, 0, 0, 0, 0, 0, 0, 0, 0, 0, 0, 0, 0, 0, 0, 0, 0, 0, 0, 0, 0, 0, 0, 0, 0, 0, 0, 0, 0, 0, 0, 0, 0, 0, 0, 0, 0, 0, 0, 0, 0, 0, 0, 0, 0, 0, 0, 0, 0, 0, 0, 0, 0, 0, 0, 0, 0, 0, 0, 0, 0, 0, 0, 0, 0, 0, 0, 0, 0, 0, 0, 0, 0, 0, 0, 0, 0, 0, 0, 0, 0, 0, 0, 0, 0, 0, 0, 0, 0, 0, 0, 0, 0, 0, 0, 0, 0, 0, 0, 0, 0, 0, 0, 0, 0, 0, 0, 0, 0, 0, 0, 0, 0, 0, 0, 0, 0, 0, 0, 0, 0, 0, 0, 0, 0, 0, 0, 0, 0, 0, 0, 0, 0, 0, 0, 0, 0, 0, 0, 0, 0, 0, 0, 0, 0, 0, 0, 0, 0, 0, 0, 0, 0]\n",
      "With the value of: 0)\n",
      "Complete searching in: 1.944852352142334 seconds\n",
      "\n"
     ]
    },
    {
     "name": "stderr",
     "output_type": "stream",
     "text": [
      "\n"
     ]
    }
   ],
   "source": [
    "import time\n",
    "from tqdm import tqdm\n",
    "\n",
    "W,m=0,0\n",
    "w,v,c = [], [] , []\n",
    "NUM_GENERATION = 2000\n",
    "NUM_INITIAL_POPULATION = 10\n",
    "\n",
    "input_dir='data/input/'\n",
    "output_dir='data/output04/'\n",
    "for file in tqdm(os.listdir(input_dir)):\n",
    "    with open(input_dir+file) as f_read:\n",
    "        if (file[-4:]!='.txt'): continue #to eliminate.DS_store\n",
    "        W,m,w,v,c=f_read.readlines()\n",
    "        \n",
    "    #set capacity and number of class\n",
    "    W,m=float(W),float(m)\n",
    "\n",
    "    #set weight\n",
    "    w=w.replace(' ','').replace('\\n','')\n",
    "    w=w.split(',')\n",
    "    w=[eval(i) for i in w]\n",
    "\n",
    "    #set value\n",
    "    v=v.replace(' ','').replace('\\n','')\n",
    "    v=v.split(',')\n",
    "    v=[eval(i) for i in v]\n",
    "\n",
    "    #set label\n",
    "    c=c.replace(' ','').replace('\\n','')\n",
    "    c=c.split(',')\n",
    "    c=[eval(i) for i in c]\n",
    "    \n",
    "    #Calculate execution time\n",
    "    start=time.time()\n",
    "    bestIndividual = (geneticAlgorithm(NUM_GENERATION, NUM_INITIAL_POPULATION))\n",
    "    end=time.time()\n",
    "    file_index=file[6:-4]\n",
    "    \n",
    "    #Process file\n",
    "    output_file=f'output_{file_index}.txt'\n",
    "    with open(output_dir+output_file,'w') as f_write:\n",
    "        f_write.write(str(bestIndividual.fitness)+'\\n')\n",
    "        f_write.write(str(', '.join(str(i) for i in bestIndividual.gene)))\n",
    "    \n",
    "    # print the result list, highest value and total time needed to run the algorithm\n",
    "    print(file)\n",
    "    print(f'The result is: {bestIndividual.gene}\\nWith the value of: {bestIndividual.fitness})')\n",
    "    print(f'Complete searching in: {end-start} seconds\\n')"
   ]
  }
 ],
 "metadata": {
  "kernelspec": {
   "display_name": "Python 3.10.7 64-bit",
   "language": "python",
   "name": "python3"
  },
  "language_info": {
   "codemirror_mode": {
    "name": "ipython",
    "version": 3
   },
   "file_extension": ".py",
   "mimetype": "text/x-python",
   "name": "python",
   "nbconvert_exporter": "python",
   "pygments_lexer": "ipython3",
   "version": "3.10.8"
  },
  "vscode": {
   "interpreter": {
    "hash": "bea42e1b0e07028483ba0ff26b9b4dc4fa162e9d0ccb6b0507d54b9d42d30653"
   }
  }
 },
 "nbformat": 4,
 "nbformat_minor": 2
}
