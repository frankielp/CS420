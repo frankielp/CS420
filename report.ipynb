{
 "cells": [
  {
   "cell_type": "markdown",
   "metadata": {},
   "source": [
    "# Student Information\n",
    "- Bùi Lê Gia Cát - 20125071\n",
    "- Lê Phạm Nhật Quỳnh - 201250110\n",
    "- Trương Thuý Tường Vy - 20125125"
   ]
  },
  {
   "cell_type": "markdown",
   "metadata": {},
   "source": [
    "# Assignment Plan\n",
    "|Task|Completion Day|\n",
    "|--|:--:|\n",
    "|Brute Force Search Algorithm | 05/11|\n",
    "|Branch and Bound Algorithm | 09/11|\n",
    "|Local Beam Search Algorithm | 12/11|\n",
    "|Genetic Algorithm | 16/11 |\n",
    "|Experiments | 17/11|\n",
    "|Evaluation, Comments, Conclusions | 19/11|\n",
    "|Record videos | 21/11|"
   ]
  },
  {
   "cell_type": "markdown",
   "metadata": {},
   "source": [
    "# Report\n",
    "## Brute force\n",
    "### Algorithm\n",
    "In order to identify the optimal answer, brute force algorithms produce all feasible solutions (given an input of size n). Then, it iterate through all of them and consider only subsets that contain all the given classes and whose combined weight is less than W. It then compare update the 'current highest value' in order to detect and select the greatest value subset from among those considered subsets."
   ]
  },
  {
   "cell_type": "markdown",
   "metadata": {},
   "source": [
    "### Pseudo Code\n",
    "\n",
    "*This is the pseudo code for function checking if the list contains all classes or not*\n",
    "\n",
    "```\n",
    "FUNCTION check_knapsack(knapsack: list, m, c)\n",
    "    RETURNS bool\n",
    "    knapsack_class IS A SET\n",
    "    FOR i TO len(knapsack) DO\n",
    "            knapsack_class add c[i]\n",
    "    IF (size knapsack_lass = m)\n",
    "        RETURN True\n",
    "    RETURN False\n",
    "```"
   ]
  },
  {
   "cell_type": "markdown",
   "metadata": {},
   "source": [
    "*This is the pseudo code for function creating power set of n items*\n",
    "```\n",
    "FUNCTION generate_combination(n) return list of power set\n",
    "    result <- [[]]\n",
    "    FOR item < n DO \n",
    "        new_set <- [r + [item] FOR r IN res]\n",
    "        result <- add[new_set]\n",
    "    RETURN result\n",
    "```"
   ]
  },
  {
   "cell_type": "markdown",
   "metadata": {},
   "source": [
    "*This is the pseudo code for function implementing brute force algorithm*\n",
    "\n",
    "```\n",
    "FUNCTION brute_force(W, m, w, v, c)\n",
    "    RETURNS (result, highest_value)\n",
    "    n <- size of w\n",
    "    knapsack <- []\n",
    "    highest_value <- 0\n",
    "    FOR item IN generate_combination(n)\n",
    "        weight <- sum(w[i] FOR i IN item)\n",
    "        value <- sum(v[i] FOR i IN item)\n",
    "        IF (value > highest_value AND weight < W AND check_knapsack(item, m, c) = TRUE)\n",
    "            highest_value <- value\n",
    "            knapsack <- item\n",
    "\n",
    "    result <- [0]*10\n",
    "    FOR i=0 TO len(knapsack) DO\n",
    "        result[i] = 1\n",
    "    RETURN result, highest_value\n",
    "```"
   ]
  },
  {
   "cell_type": "markdown",
   "metadata": {},
   "source": [
    "### Visualization"
   ]
  },
  {
   "cell_type": "code",
   "execution_count": 1,
   "metadata": {},
   "outputs": [
    {
     "data": {
      "text/html": [
       "<img src=\"picture//Brute Force//brute force.png\"/>"
      ],
      "text/plain": [
       "<IPython.core.display.Image object>"
      ]
     },
     "execution_count": 1,
     "metadata": {},
     "output_type": "execute_result"
    }
   ],
   "source": [
    "from IPython.display import Image\n",
    "\n",
    "Image(url=\"picture//Brute Force//brute force.png\")"
   ]
  },
  {
   "cell_type": "markdown",
   "metadata": {},
   "source": [
    "### Algorithm Explanation\n",
    "\n",
    "For the knapsack problem we first generate every possible subset of n items represents for all possible outcomes. Note that the number of subsets of the n items can be very large, we have $2^n$ combinations for n objects including the empty bag. Then we iterate through the list of subset and check whether its total value is better than the current highest value while keeping the total weight smaller or equal the bounded weight. In addition, for each subset that have the probability to be chosen as result, which means it has better total value and accepted total weight, we also check the additional constraint given in the problem, which is whether the subset contains all classes or not. If all the requirements are met, we update the current optimal solution to be that subset and continue considering other subsets until all subsets are iterated."
   ]
  },
  {
   "cell_type": "markdown",
   "metadata": {},
   "source": [
    "### Evaluation\n",
    "\n",
    "One of the main disadvantages of Brute Force is its execution time. Since Brute Force has to generate the power set of n items, it can comes with a very large number of cases to iterate through. As a result, it may time consuming to consider all of the cases it generated. For instance, at the input_003 in our test cases, while the Genetic Algorithm spends about 5 to 6 seconds with 2000 generations and 10 initial population, Brute Force requires 24 seconds to complete the search. \n",
    "\n",
    "Brute Force also use a lot of memory. In test case input_005.txt, I ran into memory error and cannot continue to search.In other words, the amount of computing resources Brute Force requires to complete their task is not small.\n",
    "\n",
    "However, since Brute Force is a global search, it always comes up with the most optimal output. Additionally, Brute Force is quite easy to implement, so it is ideal to be considered when solve simple tasks and problems."
   ]
  },
  {
   "cell_type": "markdown",
   "metadata": {},
   "source": [
    "### Comments\n",
    "Even if Brute Force is not always the best option for large-scale or optimizing situations since it take a lot of times and not come to a solution, we believe that by using a decent heuristic function or other techniques that can reduce the search space, we may speed up the performance of Brute Force."
   ]
  },
  {
   "cell_type": "markdown",
   "metadata": {},
   "source": [
    "## Branch and Bound Algorithm\n",
    "\n",
    "### Algorithm Description\n",
    "\n",
    "The tree's branches, which stand in for subsets of the solution set, are investigated in Branch and Bound. This algorithm's basic principle is to recursively branch and prune the search tree by determining an upper bound, or the highest possible value, and then deciding whether or not to continue traversing that branch. We can eliminate that branch to save time if it is unable to generate a better solution than the best one so far discovered.\n",
    "\n",
    "The idea after calculating upper bound, which is the maximum potential value that branch can get, is that: if the upper bound for some node is not exceed the highest value, meaning that it not worth keeping this branch since we will never get the optimal solution on this branch, thus we can safely discarded it from the tree."
   ]
  },
  {
   "cell_type": "markdown",
   "metadata": {},
   "source": [
    "### Pseudo Code\n",
    "\n",
    "*This is pseudo code for function checking if the list contains all classes or not*\n",
    "\n",
    "```\n",
    "FUNCTION check_knapsack(knapsack: list, m, c) return bool\n",
    "    knapsack_class is set\n",
    "    FOR i IN knapsack\n",
    "        BEGIN\n",
    "            knapsack_class add c[i]\n",
    "        END\n",
    "    IF (size knapsack_lass = m)\n",
    "        return True\n",
    "        ENDIF\n",
    "    return False\n",
    "```"
   ]
  },
  {
   "cell_type": "markdown",
   "metadata": {},
   "source": [
    "*This is pseudo code for function sorting items based on value per weight*\n",
    "```\n",
    "FUNCTION sort_value_and_weight(values, weights, n, c)\n",
    "    RETURNS sorted_values, sorted_weights, indexes, classes\n",
    "    sortList <- []\n",
    "    FOR i < n \n",
    "        sortList ADD (values[i], weights[i], values[i]/weights[i], i, c[i])\n",
    "\n",
    "    SORT sortList BASED ON the third element in list\n",
    "    REVERSE sortList\n",
    "\n",
    "    sorted_values <- []\n",
    "    sorted_weights <- []\n",
    "    indexes <- []\n",
    "    classes <- []\n",
    "\n",
    "    FOR a IN sortList DO\n",
    "        sorted_values <- add a[0]\n",
    "        sorted_weights <- add a[1]\n",
    "        indexes <- add a[3]\n",
    "        classes <- add a[3]\n",
    "\n",
    "    RETURN sorted_values, sorted_weights, indexes, classes\n",
    "```"
   ]
  },
  {
   "cell_type": "markdown",
   "metadata": {},
   "source": [
    "*This is the pseudo code for function calculating bound*\n",
    "```\n",
    "FUNCTION bound(node, n, W, values, weights)\n",
    "    RETURNS int\n",
    "    IF node.weight >= W\n",
    "        RETURN 0\n",
    "    ELSE\n",
    "        bound <- node.value\n",
    "        total_weight <- node.weight\n",
    "        j <- node.index + 1\n",
    "\n",
    "        WHILE (j < n) AND total_weight + weights[j] <= W\n",
    "            total_weight += weights[j]\n",
    "            bound += values[j]\n",
    "            j += 1\n",
    "\n",
    "        IF j < n\n",
    "            bound += (W - total_weight) * (values[j]/weights[j])\n",
    "\n",
    "        RETURN bound\n",
    "```"
   ]
  },
  {
   "cell_type": "markdown",
   "metadata": {},
   "source": [
    "*This is the pseudo code for function implementing branch and bound algorithm*\n",
    "```\n",
    "FUNCTION branch_and_bound_knapsack(W, values, weights, c, m)\n",
    "    RETURNS highest_value, result\n",
    "\n",
    "    n <- len(values)\n",
    "\n",
    "    values, weights, indexes, c <- sort_values_and_weights(values, weights, n, c)\n",
    "\n",
    "    pq <- []\n",
    "    result = []\n",
    "\n",
    "    v <- Node(-1, 0, 0)\n",
    "    node <- Node(0, 0, 0)\n",
    "    highest_value <- 0\n",
    "\n",
    "    pq ADD v\n",
    "\n",
    "    WHILE pq:        \n",
    "        v pop first element in pq\n",
    "\n",
    "        IF (v.index = -1)\n",
    "            node.index <- 0\n",
    "\n",
    "        IF node.index = n-1\n",
    "            CONTINUE\n",
    "\n",
    "        node.index <- v.index + 1\n",
    "\n",
    "        node.value <- v.value + values[node.index]\n",
    "        node.weight <- v.weight + weights[node.index]\n",
    "\n",
    "        node.path COPY v.path\n",
    "        node.path ADD indexes[node.index]\n",
    "\n",
    "        IF node.weight <= W AND node.value > highest_value\n",
    "            IF check_knapsack(node.path, m, c)\n",
    "                highest_value <- node.value\n",
    "                result <- node.path\n",
    "\n",
    "        node.bound <- bound(node, n, W, values, weights)\n",
    "\n",
    "        IF node.bound > highest_value\n",
    "            pq ADD node\n",
    "\n",
    "        node <- Node(node.index, v.value, v.weight)\n",
    "        node.bound <- bound(node, n, W, values, weights)\n",
    "        node.path copy v.path\n",
    "\n",
    "        IF node.bound > highest_value\n",
    "            pq add node\n",
    "\n",
    "    RETURN highest_value, result\n",
    "```"
   ]
  },
  {
   "cell_type": "markdown",
   "metadata": {},
   "source": [
    "### Visualization"
   ]
  },
  {
   "cell_type": "code",
   "execution_count": 1,
   "metadata": {},
   "outputs": [
    {
     "data": {
      "text/html": [
       "<img src=\"picture//Branch and Bound//branch and bound.png\"/>"
      ],
      "text/plain": [
       "<IPython.core.display.Image object>"
      ]
     },
     "execution_count": 1,
     "metadata": {},
     "output_type": "execute_result"
    }
   ],
   "source": [
    "from IPython.display import Image\n",
    "\n",
    "Image(url=\"picture//Branch and Bound//branch and bound.png\")"
   ]
  },
  {
   "cell_type": "markdown",
   "metadata": {},
   "source": [
    "### Algorithm Explanation\n",
    "\n",
    "To implement this algorithm, first we have to sort the item list on basis of value / weight to make sure that we prioritize those that have larger value and smaller weight so that we can add them first when calculating bound and not miss them. \n",
    "\n",
    "Then we implement a function to calculate bound. The idea is that we will continuously add item's value in the sorted list until it reach the capability of the knapsack. If the knapsack still has some weights left, we calculate the fraction of the next item that still fits in the knapsack. In the end, we sum up all values from the current item to the first n-1 items and a fraction of item s.\n",
    "\n",
    "$$\\text{bound(node s) }= v[s] + \\sum_{i=s+1}^{n}v[i]+((W - \\sum_{i=s+1}^{n}w[i]) / w[n+1]) *  v[n+1]$$\n",
    "\n",
    "where the nodes from index s+1 to n denote items can be fully fit into the knapsack and the node at n+1 is fit into the knapsack whose capacity is W with a fractional value. \n",
    "\n",
    "For the main function implement the algorithm, we first start with an empty queue and dummy node, then perform best-first traversal on the remaining nodes from the root node. I implement this step by using a priority queue. Each node will branch out two child nodes represent for decisions of whether we take the parent node or not. At each node update the current weights and values, calculate the bound and update the global optimum or prune if necessary."
   ]
  },
  {
   "cell_type": "markdown",
   "metadata": {},
   "source": [
    "### Evaluate\n",
    "\n",
    "Comparing to Brute Fore, Branch and Bound complete the search much more faster (each test cases needs about half a second), and the I also did not get into trouble with any memory-related issue, so it is reasonable to say that Branch and Bound does not use as much memory as Brute Force. Additionally, similar to Brute Force, Branch and Bound is a global search algorithm; thus, it also returns the best solution for the problem. "
   ]
  },
  {
   "cell_type": "markdown",
   "metadata": {},
   "source": [
    "### Comments\n",
    "\n",
    "Other heuristics beyond the one I used to trim the tree may also be utilized by Branch and Bound. Calculating the lower and upper bounds for each node in state space is one example. Kill that node if the lower bound exceeds the higher bound. If not, choose a node with the lowest lower bound. Alternatively, another heuristic strategy is to stop branching when the distance between the upper and lower boundaries is below a certain threshold.\n",
    "\n",
    "Additionally, a variety of queue data structures can be used. An implementation using a FIFO queue produces a breadth-first search. In a stack (LIFO queue), a depth-first algorithm will be produced. While a priority queue that sorts nodes on their lower bound may be utilized to produce the best-first branch and bound technique, which is what I used."
   ]
  },
  {
   "cell_type": "markdown",
   "metadata": {},
   "source": [
    "## Local Beam Search Algorithm\n",
    "### Algorithm Description\n",
    "\n",
    "Beam search is a heuristic search technique that investigates a network by extending the most promising node in a constrained collection. \n",
    "\n",
    "Beam search is a heuristic search method that always increases the $W$ number of best nodes at each level. It advances level by level, descending exclusively from the best $W$ nodes at each level. Beam Search constructs its search tree using breadth-first search. Beam Search uses breadth-first search to build its search tree. At each level of the tree, it creates all the successors of the current level's state. However, it only assesses a $W$ number of states at each level. Other nodes are not taken into consideration."
   ]
  },
  {
   "cell_type": "markdown",
   "metadata": {},
   "source": [
    "### Pseudo Code\n",
    "*This is pseudo code for function checking if the list contains all classes or not*\n",
    "```\n",
    "    class_flag is list of FALSE for all item in class\n",
    "    FOR item IN knapsack\n",
    "        class_flag[class[item]]=True\n",
    "    FOR item FROM 1 TO len(class_flag)\n",
    "        IF (NOT class_flag[i])\n",
    "            return False\n",
    "    RETURN true\n",
    "```"
   ]
  },
  {
   "cell_type": "markdown",
   "metadata": {},
   "source": [
    "*This is pseudo code for Local Beam Search\n",
    "```\n",
    "FUNCTION LBS(k=5)\n",
    "    kmax_val <- kth or smallest item in val\n",
    "    INITIALIZE frontier AS AN ARRAY OF Node\n",
    "    FOR i=0 TO len(val)\n",
    "        IF (weight[i]<= capacity and val[i] IS IN kmax_val)\n",
    "            ADD Node(i,[]) TO frontier\n",
    "    result<-frontier\n",
    "    REPEAT\n",
    "        INITIALIZE successor AS AN ARRAY\n",
    "        FOR EACH cur IN frontier\n",
    "            ADD cur.successor() TO successor\n",
    "        frontier <- kth or smallest item in successor\n",
    "        FOR i=0 TO len(frontier):\n",
    "            result[i] = frontier[i]\n",
    "    UNTIL (len(frontier)==0)\n",
    "\n",
    "    INITIALIZE result_path AS AN ARRAY\n",
    "    result_node <- None\n",
    "    FOR EACH node IN result\n",
    "        IF (there is enough class from root to node)\n",
    "            result_node = node\n",
    "            BREAK\n",
    "\n",
    "    RETURN result_node\n",
    "```"
   ]
  },
  {
   "cell_type": "markdown",
   "metadata": {},
   "source": [
    "### Visualization"
   ]
  },
  {
   "cell_type": "code",
   "execution_count": 2,
   "metadata": {},
   "outputs": [
    {
     "data": {
      "text/html": [
       "<img src=\"picture\\Local Beam Search\\local beam search.png\"/>"
      ],
      "text/plain": [
       "<IPython.core.display.Image object>"
      ]
     },
     "execution_count": 2,
     "metadata": {},
     "output_type": "execute_result"
    }
   ],
   "source": [
    "from IPython.display import Image\n",
    "\n",
    "Image(url=\"picture\\Local Beam Search\\local beam search.png\")"
   ]
  },
  {
   "cell_type": "markdown",
   "metadata": {},
   "source": [
    "### Algorithm Explanation\n",
    "In this practice, local beam search is applied with an aim to find out the maximum value within a weight capacity limitation. Therefore, we started the process with K highest value item, put them in the frontier, and gradually expand the tree while retrieve each item in the frontier with successors are K highest value nodes and have not been chosen in the path. The process terminate when the total weight in the path exceeds the capacity or all the items have been already chosen \n",
    "\n",
    "Step - by - step Algorithm: \n",
    "1. Start with k states generated with highest value\n",
    "2. At each iteration, all the successors of all k states are generated \n",
    "3. If any one is a goal state, stop; else select the k best successors from the complete list and repeat.\n",
    "4. Check if all classes appear in k returned path and select the highest value one."
   ]
  },
  {
   "cell_type": "markdown",
   "metadata": {},
   "source": [
    "### Evaluate\n",
    "The heuristic cost associated with the node is utilized to choose the best nodes. $W$ denotes the breadth of the beam search. If $B$ is the branching factor, there will always be $W\\cdot B$ nodes under evaluation at every level, but only $W$ will be picked. When the beam width is decreased, more states are trimmed. \n",
    "\n",
    "When $W = 1$, the search becomes a hill-climbing search in which the best node is always picked from the successor nodes. If the beam width is set to infinity and the beam search is classified as a breadth-first search, no states are pruned."
   ]
  },
  {
   "cell_type": "markdown",
   "metadata": {},
   "source": [
    "### Comments\n",
    "The beamwidth limits the amount of memory required to finish the search, but at the expense of completeness and optimality (it is possible that it will fail).\n",
    "\n",
    "The beamwidth constrains the amount of memory required to finish the search, but at the expense of completeness and optimality (possibly that it will not find the best solution). This risk arises from the possibility that the desirable state has been trimmed."
   ]
  },
  {
   "cell_type": "markdown",
   "metadata": {},
   "source": [
    "## Genetic Algorithm\n",
    "### Description\n",
    "The Genetic Algorithm simulates natural selection. At each step, the Genetic Algorithm chooses members of the current population to act as parents and uses them to create children for the following generation. The population evolves in the direction of an ideal solution over successive generations. Like natural selection, this algorithm also has crossover to create new individuals and mutation to apply random changes to individuals."
   ]
  },
  {
   "cell_type": "markdown",
   "metadata": {},
   "source": [
    "#### Fitness score\n",
    "The fitness score shows how well-fit an individual is. The individuals having better fitness scores have a higher chance to be parents in the next reproduction.\n",
    "\n",
    "The average number of \"better genes\" in a new generation is higher than it was in the generation before it. As a result, new generations always have more effective \"partial solutions\" than earlier ones. The population has converged once there are no discernible differences between the progeny and those of earlier populations. It is claimed that the algorithm is changed into a collection of answers to the issue."
   ]
  },
  {
   "cell_type": "markdown",
   "metadata": {},
   "source": [
    "#### Operators of Genetic Algorithm\n",
    "- **Selection operator**: Genetic Algorithm chooses two individuals randomly for reproduction. The likelihood of being chosen increases with a fitness score for more realistic.\n",
    "- **Crossover operator**: After choosing parents, the algorithm selects a crossover point randomly, where the genes are exchanged.\n",
    "- **Mutation operator**: The algorithm alters a bit of gene at random. This is when new, distinctive genes are made, preventing the population from being premature."
   ]
  },
  {
   "cell_type": "markdown",
   "metadata": {},
   "source": [
    "### Pseudo Code\n",
    "*This is the pseudo code for class Individual*\n",
    "``` \n",
    "CLASS Individual\n",
    "    PUBLIC gene\n",
    "    PUBLIC fitness\n",
    "    \n",
    "    PRIVATE FUNCTION calculateFitness\n",
    "        RETURNS fitness score\n",
    "        class set <- empty\n",
    "        current weight, current value <- 0,0\n",
    "        FOR i=0 TO size(gene) DO\n",
    "            IF (gene[i]=0) CONTINUE\n",
    "            current weight = current weight + w[i]\n",
    "            IF (current weight > capacity) RETURN 0\n",
    "            class set ADD c[i]\n",
    "            current value = current value + v[i]\n",
    "        \n",
    "        IF (number value in class set >= number classes) RETURN value\n",
    "        ELSE RETURN 0\n",
    "```"
   ]
  },
  {
   "cell_type": "markdown",
   "metadata": {},
   "source": [
    "*This is pseudo code for selection operator*\n",
    "```\n",
    "FUNCTION selection(population)\n",
    "    RETURNS individual that become parent\n",
    "    max <- 0\n",
    "    FOR i=0 TO SIZE(population) DO\n",
    "        max = max + population[i].fitness\n",
    "\n",
    "    IF (max = 0) RETURN an individual in population that randomly chosen\n",
    "\n",
    "    selection props <- empty list\n",
    "    FOR i=0 TO SIZE*population DO\n",
    "        selection props APPEND population[i].fitness/max\n",
    "\n",
    "    RETURN an individual in population that randomly chosen with probability of being chosen in selection props\n",
    "```"
   ]
  },
  {
   "cell_type": "markdown",
   "metadata": {},
   "source": [
    "*This is pseudo code for crossover operator*\n",
    "```\n",
    "FUNCTION crossover (p1, p2)\n",
    "    RETURNS an individual\n",
    "    p1 gene, p2 gene <- p1.gene, p2.gene\n",
    "    cross point is randomly chosen with value between 0 and SIZE(p1 gene)-1\n",
    "    new gene = p1[0 .. cross point] APPEND p2[cross point+1 .. SIZE(p2 gene)-1]\n",
    "    RETURN an individual with gene is new gene    \n",
    "```"
   ]
  },
  {
   "cell_type": "markdown",
   "metadata": {},
   "source": [
    "*This is pseudo code for mutation operator*\n",
    "```\n",
    "FUNCTION mutation(individual)\n",
    "    RETURNS an individual\n",
    "    FOR i=0 TO SIZE(individual.gene) DO\n",
    "        IF (this bit is chosen to be changed)\n",
    "            individual.gene[i]= ~individual.gene[i]\n",
    "            ENDIF\n",
    "    RETURN individual\n",
    "```"
   ]
  },
  {
   "cell_type": "markdown",
   "metadata": {},
   "source": [
    "*This is pseudo code for initializing population*\n",
    "```\n",
    "FUNCTION initialPopulation(n)\n",
    "    RETURNS list of initial population\n",
    "    INITIALIZE population AS A SET\n",
    "    WHILE (SIZE(population)!=n) DO\n",
    "        INITIALIZE gene AS AN ARRAY\n",
    "        FOR i=0 TO number of items DO\n",
    "            gene APPEND choose randomly 0 or 1\n",
    "        ADD gene TO population\n",
    "\n",
    "    RETURN population AS AN ARRAY\n",
    "```"
   ]
  },
  {
   "cell_type": "markdown",
   "metadata": {},
   "source": [
    "*This is pseudo code for Genetic Algorithm*\n",
    "```\n",
    "FUNCTION geneticAlgorithm(number of generation, number initial individual)\n",
    "    RETURNS the best individual\n",
    "    population <- initialPopulation(number initial individual)\n",
    "    best individual <- fittest individual in population\n",
    "\n",
    "    FOR i=1 TO number of generation DO\n",
    "        INITIALIZE new population AS A SET\n",
    "        FOR j=1 TO SIZE(population) DO\n",
    "            p1 <- select(population)\n",
    "            p2 <- select(population)\n",
    "\n",
    "            child <- crossover(p1,p2)\n",
    "            child <- mutation(child)\n",
    "\n",
    "            ADD child TO new population\n",
    "            IF (fitness score OF best individual < fitness score OF child) \n",
    "                best individual = child\n",
    "                ENDIF\n",
    "        population = new population AS AN ARRAY\n",
    "\n",
    "    RETURN best individual\n",
    "```"
   ]
  },
  {
   "cell_type": "markdown",
   "metadata": {},
   "source": [
    "### Visualization\n",
    "#### Selection Operator"
   ]
  },
  {
   "cell_type": "code",
   "execution_count": 3,
   "metadata": {},
   "outputs": [
    {
     "data": {
      "text/html": [
       "<img src=\"picture\\genetic algorithm\\selection.png\"/>"
      ],
      "text/plain": [
       "<IPython.core.display.Image object>"
      ]
     },
     "execution_count": 3,
     "metadata": {},
     "output_type": "execute_result"
    }
   ],
   "source": [
    "from IPython.display import Image\n",
    "\n",
    "Image(url=\"picture\\genetic algorithm\\selection.png\")"
   ]
  },
  {
   "cell_type": "markdown",
   "metadata": {},
   "source": [
    "#### Crossover Operator"
   ]
  },
  {
   "cell_type": "code",
   "execution_count": 4,
   "metadata": {},
   "outputs": [
    {
     "data": {
      "text/html": [
       "<img src=\"picture\\genetic algorithm\\crossover.png\"/>"
      ],
      "text/plain": [
       "<IPython.core.display.Image object>"
      ]
     },
     "execution_count": 4,
     "metadata": {},
     "output_type": "execute_result"
    }
   ],
   "source": [
    "from IPython.display import Image\n",
    "\n",
    "Image(url=\"picture\\genetic algorithm\\crossover.png\")"
   ]
  },
  {
   "cell_type": "markdown",
   "metadata": {},
   "source": [
    "#### Mutation Operator"
   ]
  },
  {
   "cell_type": "code",
   "execution_count": 5,
   "metadata": {},
   "outputs": [
    {
     "data": {
      "text/html": [
       "<img src=\"picture\\genetic algorithm\\mutation.png\"/>"
      ],
      "text/plain": [
       "<IPython.core.display.Image object>"
      ]
     },
     "execution_count": 5,
     "metadata": {},
     "output_type": "execute_result"
    }
   ],
   "source": [
    "from IPython.display import Image\n",
    "\n",
    "Image(url=\"picture\\genetic algorithm\\mutation.png\")"
   ]
  },
  {
   "cell_type": "markdown",
   "metadata": {},
   "source": [
    "### Explanation\n",
    "#### Individual Class\n",
    "To provide a simpler explanation, we build a class called individual to contain the gene and fitness score:\n",
    "- Gene is an array of bits with the values 0 for not selecting and 1 for selecting the item.\n",
    "- A fitness score, which is an integer, indicates how well an individual is fit for the problem.\n",
    "\n",
    "The fitness score is calculated by a private method. We use a set called class set to store distinct classes of items when choosing. If the item is chosen, we add its weight to the current weight. Additionally, we return 0 if the person's weight exceeds the backpack's carrying capacity because they are not a good fit for the problem. Then, its value is added to the current value and its class is added to the class set. Finally, we return the value and 0 otherwise if our class set contains m distinct numbers, indicating that we selected enough classes."
   ]
  },
  {
   "cell_type": "markdown",
   "metadata": {},
   "source": [
    "#### Selection Operator\n",
    "This operator is used to select the parent from the population. For more realistic to natural, the fitter the individual is, the higher chance that individual is chosen to become a parent.\n",
    "\n",
    "We start by calculating the population's overall fitness score, which we refer to as max. Any member of the population may be returned if the maximum is $0$, which indicates that no individual is fit for the problem. The probability of being selected is then determined using the formula $p = \\frac{fitness}{max}$. Finally, we give a population member who was randomly chosen a probability of being chosen."
   ]
  },
  {
   "cell_type": "markdown",
   "metadata": {},
   "source": [
    "#### Crossover Operator\n",
    "We choose two parents and then a crosspoint at random. Then, we swap out a portion of a first parent's gene for a second parent's gene."
   ]
  },
  {
   "cell_type": "markdown",
   "metadata": {},
   "source": [
    "#### Mutation Operator\n",
    "For each bit of choice, there is a chance that it will change.\n",
    "\n",
    "We loop through the gene, and if there is a chance for a mutation, we might alter that bit. In this report, the probability to have a mutation is $0.1$."
   ]
  },
  {
   "cell_type": "markdown",
   "metadata": {},
   "source": [
    "#### Generating Initial Population\n",
    "This function is not necessary. However, we choose to separate this function from the main algorithm to make the presentation more understandable.\n",
    "\n",
    "For each initial individual, we create a gene that each bit is randomly 0 or 1. In case there are some duplicated individuals, use a set for the population and then return it as an array."
   ]
  },
  {
   "cell_type": "markdown",
   "metadata": {},
   "source": [
    "#### Fully implemented Genetic Algorithm\n",
    "In the algorithm, we need to specify the number of generations and the number of initial individuals. In this report, we decided the number of generations is 2000 and the number of initial individuals is $10$.\n",
    "\n",
    "First, we initialize the population as the first generation and best individual which is the fittest one among generated individuals.\n",
    "\n",
    "For each generation, we create a set called the new population to store distinct individuals of the new population. We choose two parents for each generation, perform crossover to produce a child, and perform mutation to produce a new gene. After creating a new child, we add it to a new population and it may become the best individual if the fitness score of the child is greater. We do this process several times, in this report is the number of individuals in the current population, and assign the population as an array of the new population for the next generation.\n",
    "\n",
    "After doing this process many times, we return the best individual as the answer to the Knapsack problem."
   ]
  },
  {
   "cell_type": "markdown",
   "metadata": {},
   "source": [
    "### Evaluation\n",
    "Let $G$ be the number of generations, $P$ be the size of the population and $F$ be the run-time complexity of the fitness calculate function, the run-time complexity of the genetic algorithm is $O(G\\cdot P\\cdot F)$."
   ]
  },
  {
   "cell_type": "markdown",
   "metadata": {},
   "source": [
    "### Comments\n",
    "The space of the algorithm depends on the number of generations and the size of the population. In this way of implementation, the space taken is not too large to find the optimal solution.\n",
    "\n",
    "The number of initial individuals does not have too many effects since it only has more parents which gives more chances to find the best individual early. However, as more generations are produced, we may be able to find individuals who are fitter as we may be able to obtain genes that contain portions of the solution and use those components to produce a really good solution.\n",
    "\n",
    "The most ideal implementation is utilizing a single population. We add a new child to the population set at a new generation until the size is not changing. However, this is not realistic since the size of the population is $2^n$, where $n$ is the number of items, which is too large to store in a computer.\n",
    "\n",
    "We can also make a few small adjustments. To maintain population diversity, the crossover operation can bring back two additional children. We can also eliminate the bad individuals, for example, the fitness score is $0$. However, we discover that this is unwise since those individuals may contain good parts."
   ]
  },
  {
   "cell_type": "markdown",
   "metadata": {},
   "source": [
    "## Conclusion\n",
    "Despite the fact that Brute Force is straightforward to use and will always discover a solution if one exists, implementation costs are positively correlated with the number of candidate solutions, which in many real-world situations tends to increase rapidly as the problem's size rises. As a result, it is commonly utilized when the issue size is small or when there are heuristics available to reduce the number of alternative solutions to a reasonable number. When simplicity of implementation is more essential than speed, the approach is also employed. For problems that have quite a number of candidates, it is recommended to use a more effective algorithm.\n",
    "\n",
    "The effectiveness of the Branch and Bound Algorithm significantly relies on a suitable heuristic function for the search space's branch boundaries. The procedure degenerates into an exhaustive search if bounds are not supplied. Branch and Bound can rapidly and efficiently arrive to the answer with the right heuristic function, though. Consequently, it may be stated that this method successfully solves issues, particularly those involving optimization.\n",
    "\n",
    "The Genetic Algorithm is simple and fast since the core of this algorithm is random and it runs in almost constant time. Because it is based on natural phenomena, the result is not optimal but acceptable. Hence, it is good when solving a hard problem or a problem with a large state space."
   ]
  },
  {
   "cell_type": "markdown",
   "metadata": {},
   "source": [
    "# Source Code"
   ]
  },
  {
   "cell_type": "code",
   "execution_count": null,
   "metadata": {},
   "outputs": [],
   "source": [
    "import os\n",
    "import time\n",
    "from operator import itemgetter"
   ]
  },
  {
   "cell_type": "markdown",
   "metadata": {},
   "source": [
    "## Brute Force"
   ]
  },
  {
   "cell_type": "code",
   "execution_count": null,
   "metadata": {},
   "outputs": [],
   "source": [
    "W: int #capable weight\n",
    "m: int #number of classes\n",
    "w = [] #weight of each item\n",
    "v = [] #value of each item\n",
    "c = [] #class of each item"
   ]
  },
  {
   "cell_type": "code",
   "execution_count": null,
   "metadata": {},
   "outputs": [],
   "source": [
    "# check if the considered solution satisfies the condition:\n",
    "# select at least one item from each class or not\n",
    "def check_knapsack (knapsack, m, c):\n",
    "    knapsack_class = set()\n",
    "    for i in knapsack:\n",
    "        knapsack_class.add(c[i])\n",
    "    # if the set of items contains all given class, then we return true\n",
    "    if (len(knapsack_class) == m): return True\n",
    "    #else return false\n",
    "    return False"
   ]
  },
  {
   "cell_type": "code",
   "execution_count": null,
   "metadata": {},
   "outputs": [],
   "source": [
    "# calculate the power set of n items to generate all possible combination\n",
    "# of items that can get chosen\n",
    "def generate_combination(n):\n",
    "    # first create a list with an empty set\n",
    "    res = [[]]\n",
    "    # gradually add each item in the list to the generated combinations\n",
    "    for item in range(n):\n",
    "        new_set = [r + [item] for r in res]\n",
    "        res.extend(new_set)\n",
    "    return res"
   ]
  },
  {
   "cell_type": "code",
   "execution_count": null,
   "metadata": {},
   "outputs": [],
   "source": [
    "def brute_force(W, m, w, v, c):\n",
    "    n = len(w)\n",
    "    #initialize empty list to store result\n",
    "    knapsack = []\n",
    "    # set highest value found to 0\n",
    "    highestValue = 0\n",
    "    total_weight = 0\n",
    "    # iterate through all subsets \n",
    "    for item in generate_combination(n):\n",
    "        # calculate sum weight of items in that subset\n",
    "        weight = sum(w[i] for i in item)\n",
    "        # calculate sum value of items in that subset\n",
    "        value = sum(v[i] for i in item)\n",
    "        # if the total value is higher than the current highest value found\n",
    "        # and the total weight still have not exceeded the required weight\n",
    "        # and this subset contains all classes of items (satisfy the problem's constraint)\n",
    "        # then we will update our optimal current solution\n",
    "        if(value > highestValue and weight <= W and check_knapsack(item, m, c)):\n",
    "            # set the current highest value found to the current total value\n",
    "            highestValue = value\n",
    "            total_weight = weight\n",
    "            # and set the result list to the current subset\n",
    "            knapsack = item\n",
    "    \n",
    "    # after iterating through all possible outcomes and found the most suitable solution\n",
    "    # we save result as a list of 0 and 1; 1 for chosen item and 0 for others\n",
    "    result = [0] * len(w)\n",
    "    for i in knapsack:\n",
    "        result[i] = 1\n",
    "    \n",
    "    # return highest value we can find and the result list\n",
    "    return result, highestValue, total_weight\n",
    "            "
   ]
  },
  {
   "cell_type": "code",
   "execution_count": null,
   "metadata": {},
   "outputs": [],
   "source": [
    "# set path for input files\n",
    "input_dir='data/input/' \n",
    "for file in os.listdir(input_dir):\n",
    "    # open each file\n",
    "    with open(input_dir+file) as f:\n",
    "        # check if that file is .txt file or not\n",
    "        if (file[-4:]!='.txt'): continue\n",
    "        # read 5 input strings from file to variables\n",
    "        capacity,class_num,weight,val,label=f.readlines()\n",
    "        # set value for W and m\n",
    "        W,m=int(capacity),int(class_num)\n",
    "        # set value for w \n",
    "        w=weight.replace(' ','').replace('\\n','')\n",
    "        w=[float(num) for num in weight.split(',')]\n",
    "        # set value for v\n",
    "        v=val.replace(' ','').replace('\\n','')\n",
    "        v=[float(num) for num in val.split(',')]\n",
    "        # set value for c\n",
    "        c=label.replace(' ','').replace('\\n','')\n",
    "        c=[float(num) for num in label.split(',')]\n",
    "\n",
    "        start = time.time()\n",
    "        (result, highest_value, total_weight) = (brute_force(W, m, w, v, c))\n",
    "        end = time.time()\n",
    "\n",
    "        # print the result list, highest value and total time needed to run the algorithm\n",
    "        print(f'The result is: {result}\\nWith the value of: {highest_value} and total weight: {total_weight})')\n",
    "        print(f'Complete searching in: {end-start} seconds')"
   ]
  },
  {
   "cell_type": "markdown",
   "metadata": {},
   "source": [
    "## Branch and Bound"
   ]
  },
  {
   "cell_type": "code",
   "execution_count": null,
   "metadata": {},
   "outputs": [],
   "source": [
    "W: int #capable weight\n",
    "m: int #number of classes\n",
    "w = [] #weight of each item\n",
    "v = [] #value of each item\n",
    "c = [] #class of each item\n",
    "n = len(v)"
   ]
  },
  {
   "cell_type": "code",
   "execution_count": null,
   "metadata": {},
   "outputs": [],
   "source": [
    "# initialize a class to store information of decision tree\n",
    "class Node:\n",
    "    def __init__(self, index, value, weight):\n",
    "        # path: path from the root to the node\n",
    "        # index: index of this node in the given item list\n",
    "        # value: value of nodes on path from root to this node (including this node)\n",
    "        # weight: weight of nodes on path from root to this node (including this node)\n",
    "        self.path = []\n",
    "        self.index = index\n",
    "        self.value = value\n",
    "        self.weight = weight"
   ]
  },
  {
   "cell_type": "code",
   "execution_count": null,
   "metadata": {},
   "outputs": [],
   "source": [
    "class Priority_Queue:\n",
    "    def __init__(self):\n",
    "        self.pqueue = []\n",
    "        self.length = 0\n",
    "    \n",
    "    def insert(self, node):\n",
    "        i = 0\n",
    "        while i < len(self.pqueue):\n",
    "            if self.pqueue[i].bound > node.bound:\n",
    "                break\n",
    "            i+=1\n",
    "        self.pqueue.insert(i,node)\n",
    "        self.length += 1\n",
    "\n",
    "    def print_pqueue(self):\n",
    "        for i in list(range(len(self.pqueue))):\n",
    "            print (\"pqueue\",i, \"=\", self.pqueue[i].bound)\n",
    "                    \n",
    "    def remove(self):\n",
    "        try:\n",
    "            result = self.pqueue.pop()\n",
    "            self.length -= 1\n",
    "        except: \n",
    "            print(\"Priority queue is empty, cannot pop from empty list.\")\n",
    "        else:\n",
    "            return result"
   ]
  },
  {
   "cell_type": "code",
   "execution_count": null,
   "metadata": {},
   "outputs": [],
   "source": [
    "# check if the considered solution satisfies the condition:\n",
    "# select at least one item from each class or not\n",
    "def check_knapsack (knapsack, m, c):\n",
    "    knapsack_class = set()\n",
    "    for i in knapsack:\n",
    "        knapsack_class.add(c[i])\n",
    "    # if the set of items contains all given class, then we return true\n",
    "    if (len(knapsack_class) == m): return True\n",
    "    #else return false\n",
    "    return False"
   ]
  },
  {
   "cell_type": "code",
   "execution_count": null,
   "metadata": {},
   "outputs": [],
   "source": [
    "# function to sort item in term of the \"profit\" (value / weight) of each item in descending order\n",
    "def sort_values_and_weights(values, weights, n, c):\n",
    "    sortList = []\n",
    "    for i in range(n):\n",
    "        sortList.append((values[i], weights[i], values[i]/weights[i], i, c[i]))\n",
    "\n",
    "    # sort by the \"profit\" value of item, but the output list is sorted in ascending order\n",
    "    sortList = sorted(sortList, key=itemgetter(2))\n",
    "    # so we reverse it to have a sorted list in descending order\n",
    "    sortList.reverse()\n",
    "\n",
    "    # initialize list to get essential value from the sorted list\n",
    "    sorted_values = []\n",
    "    sorted_weights = []\n",
    "    indexes = []\n",
    "    classes = []\n",
    "\n",
    "    for a in sortList:\n",
    "        # get items' values in sorted list\n",
    "        sorted_values.append(a[0])\n",
    "        # get items' weights in sorted list\n",
    "        sorted_weights.append(a[1])\n",
    "        # get items' indexes in sorted list\n",
    "        indexes.append(a[3])\n",
    "        # get items' classes in sorted list\n",
    "        classes.append(a[4])\n",
    "\n",
    "    return sorted_values, sorted_weights, indexes, classes"
   ]
  },
  {
   "cell_type": "code",
   "execution_count": null,
   "metadata": {},
   "outputs": [],
   "source": [
    "# Returns bound of value in subtree rooted with 'node'\n",
    "def bound(node, n, W, values, weights):\n",
    "\n",
    "    # if weight overcomes the knapsack capacity, return\n",
    "    # 0 as expected bound\n",
    "    if node.weight >= W:\n",
    "        return 0\n",
    "\n",
    "    else:\n",
    "        # initialize bound on value by current value\n",
    "        bound = node.value\n",
    "        # initialize essential information for calculating\n",
    "        total_weight = node.weight\n",
    "        j = node.index + 1\n",
    "\n",
    "        # start from the item after current item and sum up all value until\n",
    "        # reaching the last item or total weight exceed the capability\n",
    "        # these codes are to calculate bound and find the first item that\n",
    "        # does not fit completely in the knapsack\n",
    "        while ((j < n) and (total_weight + weights[j] <= W)):\n",
    "            total_weight = total_weight + weights[j]\n",
    "            bound = bound + values[j]\n",
    "            j = j + 1\n",
    "\n",
    "        k = j\n",
    "        # if it's still not the last item\n",
    "        if k < n:\n",
    "            # then calculate the fraction of item's value that \n",
    "            # still fits in the knapsack \n",
    "            bound = bound + (W - total_weight) * values[k] / weights[k]\n",
    "\n",
    "        return bound"
   ]
  },
  {
   "cell_type": "code",
   "execution_count": null,
   "metadata": {},
   "outputs": [],
   "source": [
    "# implement the algorithm\n",
    "def branch_and_bound_knapsack(W, values, weights, c, m):\n",
    "    n = len(values)\n",
    "\n",
    "    # sorting item on basis of value per weight\n",
    "    values, weights, indexes, c = sort_values_and_weights(values, weights, n, c)\n",
    "\n",
    "    # initializing a priority queue for traversing\n",
    "    pq = Priority_Queue()\n",
    "    # initializing a list to store result\n",
    "    result = []\n",
    "\n",
    "    # start with a node of index -1 to\n",
    "    # act as previous node\n",
    "    v = Node(-1, 0, 0)\n",
    "    # initializing highest value as 0\n",
    "    highest_value = 0\n",
    "\n",
    "    total_weight = 0\n",
    "\n",
    "    v.bound = bound(v, n, W, values, weights)\n",
    "\n",
    "    pq.insert(v)\n",
    "\n",
    "    while pq.length != 0:\n",
    "        # current node\n",
    "        v = pq.remove()\n",
    "\n",
    "        if(v.bound > highest_value):\n",
    "            # if it's the last item, then stop branching\n",
    "            if v.index == n-1:\n",
    "                continue\n",
    "\n",
    "            # set u to the child that includes the next item\n",
    "            u = Node(0, 0, 0)\n",
    "\n",
    "            # compute the value and weight of u\n",
    "            # by adding u's value and weight to \n",
    "            # the accumulated value and weight stored in previous node\n",
    "            u.index = v.index + 1\n",
    "            u.value = v.value + values[u.index]\n",
    "            u.weight = v.weight + weights[u.index]\n",
    "\n",
    "            # set the path from root to u\n",
    "\n",
    "            u.path = v.path.copy()\n",
    "\n",
    "            u.path.append(indexes[u.index]) # adds current item to path\n",
    "\n",
    "            # if total weight until now is less than the capability\n",
    "            # and total value is higher than current highest value\n",
    "            # then update highest value and result path\n",
    "\n",
    "            if (u.weight <= W and u.value > highest_value): \n",
    "                if check_knapsack(u.path, m, c):\n",
    "                    # update highest_value\n",
    "                    total_weight = u.weight\n",
    "                    highest_value = u.value\n",
    "                    result = u.path\n",
    "\n",
    "            # get the upper bound to decide whether we should continue\n",
    "            # add more nodes and traverse on this branch       \n",
    "            u.bound = bound(u, n, W, values, weights)\n",
    "            \n",
    "            # if the upper bound is not higher than current highest value\n",
    "            # then it is useless to keep considering this branch\n",
    "            # else we push this node into queue for further consideration\n",
    "            if u.bound > highest_value:\n",
    "                pq.insert(u)\n",
    "\n",
    "            # create a child node indicate branch that does not contain u\n",
    "            u2 = Node(u.index, v.value, v.weight)\n",
    "            \n",
    "            # do the same thing with this node (calculate upper bound\n",
    "            # and check whether we should add this node into queue)\n",
    "            u2.bound = bound(u2, n, W, values, weights)\n",
    "            u2.path = v.path.copy()\n",
    "\n",
    "            if u2.bound > highest_value:\n",
    "                pq.insert(u2)\n",
    "\n",
    "    # after iterating through all possible outcomes and found the most suitable solution\n",
    "    # we save result as a list of 0 and 1; 1 for chosen item and 0 for others\n",
    "    result_path = ['0'] * len(w)\n",
    "    for i in result:\n",
    "        result_path[i] = '1'\n",
    "\n",
    "    # return result\n",
    "    return result_path, highest_value, total_weight"
   ]
  },
  {
   "cell_type": "code",
   "execution_count": null,
   "metadata": {},
   "outputs": [],
   "source": [
    "input_dir='data/input/'\n",
    "output_dir='data/output02/'\n",
    "for file in tqdm(os.listdir(input_dir)):\n",
    "    with open(input_dir+file) as f_read:\n",
    "        if (file[-4:]!='.txt'): continue #to eliminate.DS_store\n",
    "        W,m,w,v,c=f_read.readlines()\n",
    "        \n",
    "    #set capacity and number of class\n",
    "    W,m=float(W),float(m)\n",
    "\n",
    "    #set weight\n",
    "    w=w.replace(' ','').replace('\\n','')\n",
    "    w=w.split(',')\n",
    "    w=[eval(i) for i in w]\n",
    "\n",
    "    #set value\n",
    "    v=v.replace(' ','').replace('\\n','')\n",
    "    v=v.split(',')\n",
    "    v=[eval(i) for i in v]\n",
    "\n",
    "    #set label\n",
    "    c=c.replace(' ','').replace('\\n','')\n",
    "    c=c.split(',')\n",
    "    c=[eval(i) for i in c]\n",
    "    \n",
    "    #Calculate execution time\n",
    "    start=time.time()\n",
    "    (result, highest_value, total_weight) = (branch_and_bound_knapsack(W, v, w, c, m))\n",
    "    end=time.time()\n",
    "    file_index=file[6:-4]\n",
    "    \n",
    "    #Process file\n",
    "    output_file=f'output_{file_index}.txt'\n",
    "    with open(output_dir+output_file,'w') as f_write:\n",
    "        f_write.write(str(highest_value)+'\\n')\n",
    "        f_write.write(str(', '.join(result)))\n",
    "    \n",
    "    # print the result list, highest value and total time needed to run the algorithm\n",
    "    print(file)\n",
    "    print(f'The result is: {result}\\nWith the value of: {highest_value} and total weight: {total_weight})')\n",
    "    print(f'Complete searching in: {end-start} seconds\\n')"
   ]
  },
  {
   "cell_type": "markdown",
   "metadata": {},
   "source": [
    "## Local Beam Search Algorithm"
   ]
  },
  {
   "cell_type": "code",
   "execution_count": null,
   "id": "23f22287",
   "metadata": {},
   "outputs": [],
   "source": [
    "import os #read file\n",
    "from tqdm import tqdm #progress bar\n",
    "import time #compute running time"
   ]
  },
  {
   "cell_type": "code",
   "execution_count": null,
   "id": "395208dd",
   "metadata": {},
   "outputs": [],
   "source": [
    "num_class=0 #number of class\n",
    "capacity=0 #weight capacity\n",
    "weight=[] #weight list of items\n",
    "val=[] #value list of items\n",
    "label=[] #label list of items"
   ]
  },
  {
   "cell_type": "code",
   "execution_count": null,
   "id": "b39a24d5",
   "metadata": {},
   "outputs": [],
   "source": [
    "#Function to check whether a path contain at least 1 item in each class\n",
    "def check_class(path,num_class): \n",
    "    class_flag=[False for i in range(num_class+1)]\n",
    "    for item in path:\n",
    "        class_flag[label[item]]=True\n",
    "    for i in range(1,len(class_flag)):\n",
    "        if not class_flag[i]: return False\n",
    "    return True\n",
    "\n",
    "class Node:\n",
    "    def __init__(self,index,path):\n",
    "        self.index = index\n",
    "        self.path=path+[index]\n",
    "    def current_value(self): #compute total value in path\n",
    "        value=0\n",
    "        for i in self.path:\n",
    "            value+=val[i]\n",
    "        return value\n",
    "    def current_weight(self): #compute total weight in path\n",
    "        w=0\n",
    "        for i in self.path:\n",
    "            w+=weight[i]\n",
    "        return w\n",
    "    def successor(self): #generate successor\n",
    "        lst=[]\n",
    "        for i in range(len(val)):\n",
    "            if i not in self.path and self.current_weight()+weight[i]<=capacity: #check goal\n",
    "                lst.append(Node(i,self.path))\n",
    "        return lst"
   ]
  },
  {
   "cell_type": "code",
   "execution_count": null,
   "id": "6b2bef73",
   "metadata": {},
   "outputs": [],
   "source": [
    "def LBS(k=5): \n",
    "    # initial state\n",
    "    kmax_val=sorted(val,reverse=True)[:min(k,len(val))]\n",
    "    frontier=[Node(i,[]) for i in range(len(val)) if weight[i]<=capacity and val[i] in kmax_val]\n",
    "    result=frontier\n",
    "    while True:\n",
    "        successor=[]\n",
    "        for cur in frontier:\n",
    "            successor+=cur.successor()\n",
    "        frontier=sorted(successor, key= lambda x: x.current_value(),reverse=True)[:min(k,len(successor))]\n",
    "        if len(frontier)==0: break\n",
    "        for i in range(len(frontier)):\n",
    "            result[i]=frontier[i]\n",
    "    \n",
    "    result_path=[]\n",
    "    \n",
    "    #check class\n",
    "    result_node =None\n",
    "    for node in result:\n",
    "        if check_class(node.path,num_class):\n",
    "            result_node=node\n",
    "            break\n",
    "    return result_node \n",
    "   "
   ]
  },
  {
   "cell_type": "code",
   "execution_count": null,
   "id": "601819ef",
   "metadata": {},
   "outputs": [],
   "source": [
    "input_dir='data/input/'\n",
    "output_dir='data/output03/'\n",
    "for file in tqdm(os.listdir(input_dir)):\n",
    "    with open(input_dir+file) as f_read:\n",
    "        if (file[-4:]!='.txt'): continue #to eliminate.DS_store\n",
    "        capacity,num_class,weight,val,label=f_read.readlines()\n",
    "        \n",
    "    #set capacity and number of class\n",
    "    capacity,num_class=int(capacity),int(num_class)\n",
    "\n",
    "    #set weight\n",
    "    weight=weight.replace(' ','').replace('\\n','')\n",
    "    weight=weight.split(',')\n",
    "    weight=[eval(i) for i in weight]\n",
    "\n",
    "    #set value\n",
    "    val=val.replace(' ','').replace('\\n','')\n",
    "    val=val.split(',')\n",
    "    val=[eval(i) for i in val]\n",
    "\n",
    "    #set label\n",
    "    label=label.replace(' ','').replace('\\n','')\n",
    "    label=label.split(',')\n",
    "    label=[eval(i) for i in label]\n",
    "    \n",
    "    #Calculate execution time\n",
    "    start=time.time()\n",
    "    result=LBS()\n",
    "    end=time.time()\n",
    "    file_index=file[6:-4]\n",
    "    \n",
    "    #Process file\n",
    "    output_file=f'output_{file_index}.txt'\n",
    "    chosen_item=[]\n",
    "    if result:\n",
    "        for item in range(len(val)):\n",
    "            if item not in result.path:\n",
    "                chosen_item.append('0')\n",
    "            else:\n",
    "                chosen_item.append('1')\n",
    "        result_val=result.current_value()\n",
    "        total_weight=result.current_weight()\n",
    "    else:\n",
    "        result_val=0\n",
    "        total_weight=0\n",
    "    with open(output_dir+output_file,'w+') as f_write:\n",
    "        f_write.write(str(result_val)+'\\n')\n",
    "        f_write.write(str(', '.join(chosen_item)))\n",
    "    \n",
    "    # print the result list, highest value and total time needed to run the algorithm\n",
    "    print(file)\n",
    "    print(f'The result is: {chosen_item}\\nWith the value of: {result_val} and total weight: {total_weight}')\n",
    "    print(f'Complete searching in: {end-start} seconds\\n')\n"
   ]
  },
  {
   "cell_type": "markdown",
   "metadata": {},
   "source": [
    "## Genetic Algorithm"
   ]
  },
  {
   "cell_type": "code",
   "execution_count": null,
   "metadata": {},
   "outputs": [],
   "source": [
    "# create individual\n",
    "class Individual(object):\n",
    "    def __init__(self, gene: list) -> None:\n",
    "        # with gene is choices\n",
    "        self.gene = gene\n",
    "        self.fitness = self.calculateFitness()\n",
    "\n",
    "    def calculateFitness(self):\n",
    "        # create set to memorize the chosen classes\n",
    "        classSet = set()\n",
    "        # initial weight and value of individual\n",
    "        curW, value = 0, 0\n",
    "        # for each item in individual\n",
    "        for i in range(len(self.gene)):\n",
    "            # skip if the item is not chosen\n",
    "            if (self.gene[i]==0):\n",
    "                continue\n",
    "            # try adding item to the backpack\n",
    "            curW = curW + w[i]\n",
    "            # if the current weight is more than the storage of backpack return 0 as this individual is not fit the problem\n",
    "            if (curW>W):\n",
    "                return 0\n",
    "            # add \n",
    "            classSet.add(c[i])\n",
    "            value = value + v[i]\n",
    "        return value if (len(classSet)>=m) else 0"
   ]
  },
  {
   "cell_type": "code",
   "execution_count": null,
   "metadata": {},
   "outputs": [],
   "source": [
    "#import library for roulette wheel\n",
    "import random\n",
    "import numpy\n",
    "def select(population):\n",
    "    # find total fitness value\n",
    "    max = sum([i.fitness for i in population])\n",
    "    if (max == 0):\n",
    "        return population[random.randint(0,len(population)-1)]\n",
    "    # create probability proportion for each individual\n",
    "    selection_props = [i.fitness/max for i in population]\n",
    "    # return the chosen individual\n",
    "    return population[numpy.random.choice(len(population), p=selection_props)]"
   ]
  },
  {
   "cell_type": "code",
   "execution_count": null,
   "metadata": {},
   "outputs": [],
   "source": [
    "from random import randint\n",
    "\n",
    "# performing crossover\n",
    "def crossover (p1, p2):\n",
    "    # random position to crossover\n",
    "    p1Gene, p2Gene = p1.gene, p2.gene\n",
    "    crossPoint = randint(0,len(p1Gene)-1)\n",
    "    # return the child after crossover 2 genes from parents\n",
    "    newGene = p1Gene[crossPoint:] + p2Gene[:crossPoint]\n",
    "    return Individual(newGene)"
   ]
  },
  {
   "cell_type": "code",
   "execution_count": null,
   "metadata": {},
   "outputs": [],
   "source": [
    "# constance for mutation rate\n",
    "MUTATION_RATE = 0.1\n",
    "# performing mutation on individual\n",
    "def mutation(individual):\n",
    "    # for each parts of individual\n",
    "    for i in individual.gene:\n",
    "        # if this part has mutation\n",
    "        if (random.random()<MUTATION_RATE):\n",
    "            # change this part\n",
    "            i = ~i\n",
    "\n",
    "    return individual"
   ]
  },
  {
   "cell_type": "code",
   "execution_count": null,
   "metadata": {},
   "outputs": [],
   "source": [
    "# get initial population\n",
    "# n is the number of individuals of initial population\n",
    "def initialPopulation(n):\n",
    "    # set population as set for preventing duplicated individuals\n",
    "    population = set()\n",
    "    # generate population\n",
    "    numItems = len(w)\n",
    "    while (len(population)!=n):\n",
    "        # randomly choose items\n",
    "        gene=[]\n",
    "        for _ in range(numItems):\n",
    "            gene.append(randint(0,1))\n",
    "        # add new individual to population\n",
    "        individual = Individual(gene)\n",
    "        population.add(individual)\n",
    "    return list(population)"
   ]
  },
  {
   "cell_type": "code",
   "execution_count": null,
   "metadata": {},
   "outputs": [],
   "source": [
    "from copy import copy\n",
    "\n",
    "\n",
    "def geneticAlgorithm(numberGeneration, numInitialIndividual):\n",
    "    # initial population\n",
    "    # we choose the number of initial individuals is 5\n",
    "    population = initialPopulation(numInitialIndividual)\n",
    "    # sorting population to get the fittest individual\n",
    "    population = sorted(population, key = lambda i: i.fitness, reverse=True)\n",
    "\n",
    "    bestIndividual = population[0] if population[0].fitness>0 else Individual([0]*len(w))\n",
    "    # we get new generation until there is no new individuals\n",
    "    for _ in range(numberGeneration):\n",
    "        # initial new population\n",
    "        newPopulation = set()\n",
    "        for _ in range(len(population)):\n",
    "            # select first parents\n",
    "            p1,p2 = select(population), select(population)\n",
    "            # print(f'{p1}\\n{p2}\\n')\n",
    "            # doing crossover\n",
    "            child = crossover(p1,p2)\n",
    "            # print(f'New child: {child}\\n')\n",
    "            # doing mutation\n",
    "            child = mutation(child)\n",
    "            # print(f'After mutation: {child}')\n",
    "            # add child to new population\n",
    "            newPopulation.add(child)\n",
    "            if (bestIndividual.fitness < child.fitness):\n",
    "                bestIndividual=copy(child)\n",
    "            # for visualize\n",
    "        # stop generating if there is no new individual\n",
    "        population = list(newPopulation)\n",
    "\n",
    "    # return the fittest individual\n",
    "    # print(f'Fittest: {bestIndividual}')\n",
    "    return bestIndividual"
   ]
  },
  {
   "cell_type": "code",
   "execution_count": null,
   "metadata": {},
   "outputs": [],
   "source": [
    "import time\n",
    "\n",
    "W,m=0,0\n",
    "w,v,c = [], [] , []\n",
    "NUM_GENERATION = 2000\n",
    "NUM_INITIAL_POPULATION = 10\n",
    "\n",
    "# set path for input files\n",
    "input_dir='data/input/' \n",
    "for file in os.listdir(input_dir):\n",
    "    # open each file\n",
    "    with open(input_dir+file) as f:\n",
    "        # check if that file is .txt file or not\n",
    "        if (file[-4:]!='.txt'): continue\n",
    "        # read 5 input strings from file to variables\n",
    "        capacity,class_num,weight,val,label=f.readlines()\n",
    "        # set value for W and m\n",
    "        W,m=int(capacity),int(class_num)\n",
    "        # set value for w \n",
    "        w=weight.replace(' ','').replace('\\n','')\n",
    "        w=[eval(num) for num in weight.split(',')]\n",
    "        # set value for v\n",
    "        v=val.replace(' ','').replace('\\n','')\n",
    "        v=[eval(num) for num in val.split(',')]\n",
    "        # set value for c\n",
    "        c=label.replace(' ','').replace('\\n','')\n",
    "        c=[eval(num) for num in label.split(',')]\n",
    "        #solving problem using genetic algorithm\n",
    "        start = time.time()\n",
    "        bestIndividual = geneticAlgorithm(NUM_GENERATION, NUM_INITIAL_POPULATION)\n",
    "        end = time.time()\n",
    "        print(f'{bestIndividual.fitness}')\n",
    "        print(', '.join(str(i) for i in bestIndividual.gene))\n",
    "        print(f'Duration: {end-start}')\n",
    "        print('\\n')"
   ]
  },
  {
   "cell_type": "markdown",
   "metadata": {},
   "source": [
    "# Link Videos\n",
    "[Small tests and large test](https://drive.google.com/drive/folders/1VKheY1eXWCrxtVeM3zdtz37iyaQyC7Ag?usp=share_link)"
   ]
  },
  {
   "cell_type": "markdown",
   "metadata": {},
   "source": [
    "# Assessment\n",
    "|No.|Criteria|Scores|\n",
    "|:--:|--|:--:|\n",
    "|1| Brute Force| 100|\n",
    "|2|Branch and Bound Algorithm | 100|\n",
    "|3|Local Beam Search Algorithm| 100|\n",
    "|4|Genetic Algorithm |100|\n",
    "|5|Videos of small dataset|100|\n",
    "|6|Videos of large dataset|100|\n",
    "|7|Reports, experiments with some reflection or comments|100|"
   ]
  },
  {
   "cell_type": "markdown",
   "metadata": {},
   "source": [
    "# References\n",
    "- [Generating initial population idea and run-time complexity](https://arpitbhayani.me/blogs/genetic-knapsack)\n",
    "- [Roulette wheel simulation in source code](https://rocreguant.com/roulette-wheel-selection-python/2019/)"
   ]
  }
 ],
 "metadata": {
  "kernelspec": {
   "display_name": "Python 3.10.8 64-bit",
   "language": "python",
   "name": "python3"
  },
  "language_info": {
   "codemirror_mode": {
    "name": "ipython",
    "version": 3
   },
   "file_extension": ".py",
   "mimetype": "text/x-python",
   "name": "python",
   "nbconvert_exporter": "python",
   "pygments_lexer": "ipython3",
   "version": "3.10.8"
  },
  "orig_nbformat": 4,
  "vscode": {
   "interpreter": {
    "hash": "a42ccb73e7d9bfdf27e036f1d2b8b681e55fc0743cc5586bc2474d4a60f4b886"
   }
  }
 },
 "nbformat": 4,
 "nbformat_minor": 2
}
