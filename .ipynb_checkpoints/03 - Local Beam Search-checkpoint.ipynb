{
 "cells": [
  {
   "cell_type": "markdown",
   "id": "823cf273",
   "metadata": {},
   "source": [
    "# Local beam Search"
   ]
  },
  {
   "cell_type": "markdown",
   "id": "f0a05ba3",
   "metadata": {},
   "source": [
    "## Library"
   ]
  },
  {
   "cell_type": "code",
   "execution_count": 3,
   "id": "23f22287",
   "metadata": {},
   "outputs": [],
   "source": [
    "import os"
   ]
  },
  {
   "cell_type": "markdown",
   "id": "fc345e7c",
   "metadata": {},
   "source": [
    "# Local Beam Search"
   ]
  },
  {
   "cell_type": "markdown",
   "id": "22a333a0",
   "metadata": {},
   "source": [
    "Search Algorithm: \n",
    "1. Start with k states generated with highest value\n",
    "2. At each iteration, all the successors of all k states are generated \n",
    "3. If any one is a goal state, stop; else select the k best successors from the complete list and repeat."
   ]
  },
  {
   "cell_type": "code",
   "execution_count": 77,
   "id": "323ff1ed",
   "metadata": {},
   "outputs": [],
   "source": [
    "def check_class(path,num_class):\n",
    "    class_flag=[False for i in range(num_class+1)]\n",
    "    for item in path:\n",
    "        class_flag[label[item]]=True\n",
    "    for i in range(1,len(class_flag)):\n",
    "        if not class_flag[i]: return False\n",
    "    return True"
   ]
  },
  {
   "cell_type": "code",
   "execution_count": 78,
   "id": "6b2bef73",
   "metadata": {},
   "outputs": [
    {
     "name": "stdout",
     "output_type": "stream",
     "text": [
      "[9, 1, 4]\n"
     ]
    }
   ],
   "source": [
    "class Node:\n",
    "    def __init__(self,index,path):\n",
    "        self.index = index\n",
    "        self.path=path+[index]\n",
    "    def current_value(self):\n",
    "        value=0\n",
    "        for i in self.path:\n",
    "            value+=val[i]\n",
    "        return value\n",
    "    def current_weight(self):\n",
    "        w=0\n",
    "        for i in self.path:\n",
    "            w+=weight[i]\n",
    "        return w\n",
    "    def successor(self):\n",
    "        lst=[]\n",
    "        for i in range(len(val)):\n",
    "            if i not in self.path and self.current_weight()+weight[i]<=capacity: #check goal\n",
    "                lst.append(Node(i,self.path))\n",
    "        return lst\n",
    "    \n",
    "def LBS(k=5):\n",
    "    # initial state\n",
    "    kmax_val=sorted(val,reverse=True)[:min(k,len(val))]\n",
    "    frontier=[Node(i,[]) for i in item if weight[i]<=capacity and item[i] in kmax_val]\n",
    "    result=frontier\n",
    "    while True:\n",
    "        successor=[]\n",
    "        for cur in frontier:\n",
    "            successor+=cur.successor()\n",
    "        frontier=sorted(successor, key= lambda x: x.current_value(),reverse=True)[:min(k,len(successor))]\n",
    "        if len(frontier)==0: break\n",
    "        for i in range(len(frontier)):\n",
    "            result[i]=frontier[i]\n",
    "    \n",
    "    result_path=[]\n",
    "    #check class\n",
    "    for node in result:\n",
    "        if check_class(node.path):\n",
    "            result_path=node.path\n",
    "            break\n",
    "    print(result_path)\n",
    "\n",
    "    \n",
    "    \n",
    "        \n",
    "        \n",
    " \n",
    "\n",
    "        "
   ]
  },
  {
   "cell_type": "markdown",
   "id": "d9d98d2b",
   "metadata": {},
   "source": [
    "# Visualize"
   ]
  },
  {
   "cell_type": "code",
   "execution_count": null,
   "id": "f0d17553",
   "metadata": {},
   "outputs": [],
   "source": []
  }
 ],
 "metadata": {
  "kernelspec": {
   "display_name": "Python 3 (ipykernel)",
   "language": "python",
   "name": "python3"
  },
  "language_info": {
   "codemirror_mode": {
    "name": "ipython",
    "version": 3
   },
   "file_extension": ".py",
   "mimetype": "text/x-python",
   "name": "python",
   "nbconvert_exporter": "python",
   "pygments_lexer": "ipython3",
   "version": "3.8.11"
  }
 },
 "nbformat": 4,
 "nbformat_minor": 5
}
